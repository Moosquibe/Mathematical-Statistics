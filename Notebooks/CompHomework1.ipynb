{
 "cells": [
  {
   "cell_type": "markdown",
   "metadata": {},
   "source": [
    "### Exercise 0\n",
    "\n",
    "Study the notebooks "
   ]
  },
  {
   "cell_type": "markdown",
   "metadata": {},
   "source": [
    "### Exercise 1\n",
    "\n",
    "Alice is sending a short email message to Bob. She wants to format the message on screen so she knows what she is sending. She is using the string called template below. Change the value of the template string to make it better."
   ]
  },
  {
   "cell_type": "code",
   "execution_count": null,
   "metadata": {
    "collapsed": false
   },
   "outputs": [],
   "source": [
    "# Edit this string\n",
    "template =\"{0} {1} {2} {3}\"\n",
    "\n",
    "# This should result in a nice message\n",
    "template.format(\"alice@domain.org\", \"bob@domain.org\", \"Alice's Subject\", \"This is my one line message!\")"
   ]
  },
  {
   "cell_type": "markdown",
   "metadata": {},
   "source": [
    "### Exercise 2\n",
    "\n",
    "Create a list of numbers where every item in the list is the same as its index, i.e. number_list[4] is 4. Create a list that contains 5 items, then create one that has a 1000."
   ]
  },
  {
   "cell_type": "code",
   "execution_count": null,
   "metadata": {
    "collapsed": true
   },
   "outputs": [],
   "source": [
    "# Edit the contents of this list\n",
    "number_list1 = []\n",
    "number_list2 ="
   ]
  },
  {
   "cell_type": "markdown",
   "metadata": {},
   "source": [
    "### Exercise 3\n",
    "\n",
    "First we need some data, in this case we want to create two dictionaries, each with a name and email key:"
   ]
  },
  {
   "cell_type": "code",
   "execution_count": null,
   "metadata": {
    "collapsed": false
   },
   "outputs": [],
   "source": [
    "# Edit with the values you want.\n",
    "entry_1 = {'name': \"\",\n",
    "           'email': \"\"}\n",
    "\n",
    "# Add the keys and values to this entry like above.\n",
    "entry_2 = {}\n",
    "\n",
    "print(entry_1)\n",
    "print(entry_2)"
   ]
  },
  {
   "cell_type": "markdown",
   "metadata": {},
   "source": [
    "Once you have two dictionaries, entry_1 and entry_2 with values for the keys 'name' and 'email', let's put them into a list."
   ]
  },
  {
   "cell_type": "code",
   "execution_count": null,
   "metadata": {
    "collapsed": false
   },
   "outputs": [],
   "source": [
    "entries = [entry_1,]  # Edit this list to include both entries\n",
    "\n",
    "print(entries)"
   ]
  },
  {
   "cell_type": "markdown",
   "metadata": {},
   "source": [
    "Now you can write your own message which uses both the 'name' and 'email' values. You can write anything you want. We are going to use another way to write Python strings, inside triple quote string you can just press enter for a newline, no \"\\n\" required. Just write as you would normally in an editor."
   ]
  },
  {
   "cell_type": "code",
   "execution_count": null,
   "metadata": {
    "collapsed": false
   },
   "outputs": [],
   "source": [
    "# Edit this message\n",
    "message = \"\"\"To: {email}\n",
    "\n",
    "Hey you,\n",
    "\n",
    "How is the weather?\n",
    "\"\"\"\n",
    "\n",
    "print(message)"
   ]
  },
  {
   "cell_type": "markdown",
   "metadata": {},
   "source": [
    "Make sure your message includes \"{name}\" somewhere so it is personalized.\n",
    "\n",
    "Final step, let's use a for loop to combine everything! Change the for loop to format the message with each of the entries."
   ]
  },
  {
   "cell_type": "code",
   "execution_count": null,
   "metadata": {
    "collapsed": false
   },
   "outputs": [],
   "source": [
    "for entry in entries:\n",
    "    print(message) # Add .format with the right arguments\n",
    "    print(\"-\"*40)"
   ]
  }
 ],
 "metadata": {
  "anaconda-cloud": {},
  "kernelspec": {
   "display_name": "Python [default]",
   "language": "python",
   "name": "python3"
  },
  "language_info": {
   "codemirror_mode": {
    "name": "ipython",
    "version": 3
   },
   "file_extension": ".py",
   "mimetype": "text/x-python",
   "name": "python",
   "nbconvert_exporter": "python",
   "pygments_lexer": "ipython3",
   "version": "3.5.4"
  }
 },
 "nbformat": 4,
 "nbformat_minor": 1
}
