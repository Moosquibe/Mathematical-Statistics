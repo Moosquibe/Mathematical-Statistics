{
 "cells": [
  {
   "cell_type": "markdown",
   "metadata": {},
   "source": [
    "# An example of the Expectation-Maximization (EM) algorithm"
   ]
  },
  {
   "cell_type": "markdown",
   "metadata": {},
   "source": [
    "We consider a sample $Y_1, \\dots, Y_n$ from the mixture density\n",
    "\n",
    "$$ (1-p)\\phi_{\\mu_0, 1}(y) + p\\phi_{\\mu_1,1}(y),$$\n",
    "\n",
    "where $\\phi_{\\mu,\\sigma}(y)$ is the Gaussian density with mean $\\mu$ and variance $\\sigma$, to illustrate the EM algorithm used to find the maximum likelihood estimator of the parameters."
   ]
  },
  {
   "cell_type": "markdown",
   "metadata": {},
   "source": [
    "## Generate dataset\n",
    "\n",
    "We start by generating a dataset consisting of 100 samples with $p=0.3$, $\\mu_0 = 0$ and $\\mu_1 = 10$."
   ]
  },
  {
   "cell_type": "code",
   "execution_count": 1,
   "metadata": {
    "collapsed": false
   },
   "outputs": [],
   "source": [
    "import numpy as np\n",
    "import pandas as pd\n",
    "import matplotlib.pyplot as plt\n",
    "%matplotlib inline"
   ]
  },
  {
   "cell_type": "code",
   "execution_count": 2,
   "metadata": {
    "collapsed": false
   },
   "outputs": [],
   "source": [
    "n = 100\n",
    "\n",
    "sample = []\n",
    "cl = [] # To store the class indices\n",
    "\n",
    "p = 0.3\n",
    "mu0 = 0\n",
    "mu1 = 10\n",
    "\n",
    "# There is probably a better way to do this...\n",
    "for i in range(n):\n",
    "    u = np.random.rand();\n",
    "    if (u <= 1-p):\n",
    "        sample.append(np.random.normal(mu0,1));\n",
    "        cl.append(0)\n",
    "    else:\n",
    "        sample.append(np.random.normal(mu1,1));\n",
    "        cl.append(1)\n",
    "        \n",
    "data = pd.DataFrame(list(zip(sample,cl)), columns = ['Sample', 'Type'])"
   ]
  },
  {
   "cell_type": "code",
   "execution_count": 3,
   "metadata": {
    "collapsed": false
   },
   "outputs": [
    {
     "data": {
      "text/html": [
       "<div>\n",
       "<style scoped>\n",
       "    .dataframe tbody tr th:only-of-type {\n",
       "        vertical-align: middle;\n",
       "    }\n",
       "\n",
       "    .dataframe tbody tr th {\n",
       "        vertical-align: top;\n",
       "    }\n",
       "\n",
       "    .dataframe thead th {\n",
       "        text-align: right;\n",
       "    }\n",
       "</style>\n",
       "<table border=\"1\" class=\"dataframe\">\n",
       "  <thead>\n",
       "    <tr style=\"text-align: right;\">\n",
       "      <th></th>\n",
       "      <th>Sample</th>\n",
       "      <th>Type</th>\n",
       "    </tr>\n",
       "  </thead>\n",
       "  <tbody>\n",
       "    <tr>\n",
       "      <th>0</th>\n",
       "      <td>-0.420985</td>\n",
       "      <td>0</td>\n",
       "    </tr>\n",
       "    <tr>\n",
       "      <th>1</th>\n",
       "      <td>-0.484146</td>\n",
       "      <td>0</td>\n",
       "    </tr>\n",
       "    <tr>\n",
       "      <th>2</th>\n",
       "      <td>9.920703</td>\n",
       "      <td>1</td>\n",
       "    </tr>\n",
       "    <tr>\n",
       "      <th>3</th>\n",
       "      <td>10.609991</td>\n",
       "      <td>1</td>\n",
       "    </tr>\n",
       "    <tr>\n",
       "      <th>4</th>\n",
       "      <td>0.080962</td>\n",
       "      <td>0</td>\n",
       "    </tr>\n",
       "  </tbody>\n",
       "</table>\n",
       "</div>"
      ],
      "text/plain": [
       "      Sample  Type\n",
       "0  -0.420985     0\n",
       "1  -0.484146     0\n",
       "2   9.920703     1\n",
       "3  10.609991     1\n",
       "4   0.080962     0"
      ]
     },
     "execution_count": 3,
     "metadata": {},
     "output_type": "execute_result"
    }
   ],
   "source": [
    "data.head()"
   ]
  },
  {
   "cell_type": "code",
   "execution_count": 4,
   "metadata": {
    "collapsed": false
   },
   "outputs": [
    {
     "data": {
      "image/png": "[encoded data removed]",
      "text/plain": [
       "<matplotlib.figure.Figure at 0x10b63f630>"
      ]
     },
     "metadata": {},
     "output_type": "display_data"
    }
   ],
   "source": [
    "plt.figure(figsize=(10,8))\n",
    "type1_data = data[data.Type == 1]\n",
    "type0_data = data[data.Type == 0]\n",
    "plt.scatter(type1_data.Sample, np.zeros(len(type1_data)), s = 200, c = 'r');\n",
    "plt.scatter(type0_data.Sample, np.ones(len(type0_data)), s = 200, c = 'b');\n",
    "\n",
    "plt.show()"
   ]
  },
  {
   "cell_type": "markdown",
   "metadata": {
    "collapsed": true
   },
   "source": [
    "## The iteration rule\n",
    "\n",
    "Now we implement a function carrying out the iterative step using the formulas derived in class. Recall that we first introduced the auxiliary quantity\n",
    "\n",
    "$$\\tau_i^{(j)} = \\frac{p^{(j)}\\phi_{\\mu_1^{(j)},1}(y_i)}{p^{(j)}\\phi_{\\mu_1^{(j)},1}(y_i)+(1-p^{(j)})\\phi_{\\mu_0^{(j)},1}(y_i)}$$\n",
    "\n",
    "in terms of which the update rule takes the form\n",
    "\n",
    "$$p^{(j+1)}=\\frac{1}{n}\\sum_{i=1}^n\\tau_i^{(j)},\\qquad\\mu_0^{(j+1)}=\\frac{\\sum_{i=1}^ny_i(1-\\tau_i^{(j)})}{\\sum_{i=1}^n(1-\\tau_i^{(j)})},\\qquad \\mu_1^{(j+1)}=\\frac{\\sum_{i=1}^ny_i\\tau_i^j}{\\sum_{i=1}^n\\tau_i^j}$$\n"
   ]
  },
  {
   "cell_type": "code",
   "execution_count": 5,
   "metadata": {
    "collapsed": true
   },
   "outputs": [],
   "source": [
    "from scipy import stats"
   ]
  },
  {
   "cell_type": "code",
   "execution_count": 6,
   "metadata": {
    "collapsed": false
   },
   "outputs": [],
   "source": [
    "def tau(p, mu0, mu1, data):\n",
    "    # Computes the tau-factors\n",
    "    a = stats.norm.pdf(data, loc=mu0, scale=1);\n",
    "    b = stats.norm.pdf(data, loc=mu1, scale=1);\n",
    "    \n",
    "    return p * b / (p * b + (1-p) * a)\n",
    "    \n",
    "def update(p_old, mu0_old, mu1_old, y_data):\n",
    "    # Update rule for the iteration\n",
    "    if p_old == 1:\n",
    "        return [1, mu0_old, y_data.mean()]\n",
    "    elif p_old == 0:\n",
    "        return [0, y_data.mean(), mu1_old]\n",
    "    else:\n",
    "        tau_factors = tau(p_old, mu0_old, mu1_old, y_data);\n",
    "        p_new = tau_factors.mean()\n",
    "        mu0_new = np.dot(y_data, 1-tau_factors) / (1-tau_factors).sum()\n",
    "        mu1_new = np.dot(y_data, tau_factors) / tau_factors.sum()\n",
    "        return [p_new, mu0_new, mu1_new]\n",
    "\n",
    "def log_likelihood(p, mu0, mu1, data):\n",
    "    return (np.log((1-p)*stats.norm.pdf(data, loc=mu0, scale=1) + p * stats.norm.pdf(data, loc=mu1, scale=1))).sum();"
   ]
  },
  {
   "cell_type": "markdown",
   "metadata": {},
   "source": [
    "## The iteration"
   ]
  },
  {
   "cell_type": "code",
   "execution_count": 7,
   "metadata": {
    "collapsed": true
   },
   "outputs": [],
   "source": [
    "initial_theta = [0.1, 0, 1]"
   ]
  },
  {
   "cell_type": "code",
   "execution_count": 8,
   "metadata": {
    "collapsed": false
   },
   "outputs": [
    {
     "name": "stdout",
     "output_type": "stream",
     "text": [
      "Initial: [0.1, 0, 1] log-Likelihood: -1893.42\n",
      " 1. p: 0.45, mu0: -0.04, mu1: 9.00   log-Likelihood: -231.14 \n",
      " 2. p: 0.40, mu0: 0.04, mu1: 10.12   log-Likelihood: -205.46 \n",
      " 3. p: 0.40, mu0: 0.04, mu1: 10.12   log-Likelihood: -205.46 \n",
      " 4. p: 0.40, mu0: 0.04, mu1: 10.12   log-Likelihood: -205.46 \n",
      " 5. p: 0.40, mu0: 0.04, mu1: 10.12   log-Likelihood: -205.46 \n",
      " 6. p: 0.40, mu0: 0.04, mu1: 10.12   log-Likelihood: -205.46 \n",
      " 7. p: 0.40, mu0: 0.04, mu1: 10.12   log-Likelihood: -205.46 \n",
      " 8. p: 0.40, mu0: 0.04, mu1: 10.12   log-Likelihood: -205.46 \n",
      " 9. p: 0.40, mu0: 0.04, mu1: 10.12   log-Likelihood: -205.46 \n",
      "10. p: 0.40, mu0: 0.04, mu1: 10.12   log-Likelihood: -205.46 \n",
      "11. p: 0.40, mu0: 0.04, mu1: 10.12   log-Likelihood: -205.46 \n",
      "12. p: 0.40, mu0: 0.04, mu1: 10.12   log-Likelihood: -205.46 \n",
      "13. p: 0.40, mu0: 0.04, mu1: 10.12   log-Likelihood: -205.46 \n",
      "14. p: 0.40, mu0: 0.04, mu1: 10.12   log-Likelihood: -205.46 \n",
      "15. p: 0.40, mu0: 0.04, mu1: 10.12   log-Likelihood: -205.46 \n"
     ]
    }
   ],
   "source": [
    "num_of_iter = 15\n",
    "\n",
    "theta = initial_theta\n",
    "ll = log_likelihood(theta[0], theta[1], theta[2], data.Sample)\n",
    "print(\"Initial: {} log-Likelihood: {:.2f}\".format(theta, ll))\n",
    "\n",
    "for i in range(num_of_iter):\n",
    "    theta = update(theta[0], theta[1], theta[2], data.Sample)\n",
    "    ll = log_likelihood(theta[0], theta[1], theta[2], data.Sample)\n",
    "    print(\"{:2d}. p: {:.2f}, mu0: {:.2f}, mu1: {:.2f}   log-Likelihood: {:.2f} \".format(i+1,theta[0],theta[1],theta[2], ll))"
   ]
  },
  {
   "cell_type": "markdown",
   "metadata": {},
   "source": [
    "Note that the algorithm converges pretty quickly. We coul tweak this implementation by stopping the iteration, when the log-likelihood is not increasing anymore."
   ]
  },
  {
   "cell_type": "markdown",
   "metadata": {},
   "source": [
    "## Non-separable data\n",
    "\n",
    "The above situation worked well because the two components of the mixture were well separated. Let us look at the case of non-separable data."
   ]
  },
  {
   "cell_type": "code",
   "execution_count": 9,
   "metadata": {
    "collapsed": true
   },
   "outputs": [],
   "source": [
    "n = 100\n",
    "\n",
    "sample = []\n",
    "cl = []\n",
    "\n",
    "p = 0.3\n",
    "mu0 = 0\n",
    "mu1 = 2\n",
    "\n",
    "# There is probably a better way to do this...\n",
    "for i in range(n):\n",
    "    u = np.random.rand();\n",
    "    if (u <= 1-p):\n",
    "        sample.append(np.random.normal(mu0,1));\n",
    "        cl.append(0)\n",
    "    else:\n",
    "        sample.append(np.random.normal(mu1,1));\n",
    "        cl.append(1)\n",
    "        \n",
    "data = pd.DataFrame(list(zip(sample,cl)), columns = ['Sample', 'Type'])"
   ]
  },
  {
   "cell_type": "code",
   "execution_count": 10,
   "metadata": {
    "collapsed": false
   },
   "outputs": [
    {
     "data": {
      "image/png": "[encoded data removed]",
      "text/plain": [
       "<matplotlib.figure.Figure at 0x10fc8f390>"
      ]
     },
     "metadata": {},
     "output_type": "display_data"
    }
   ],
   "source": [
    "plt.figure(figsize=(10,8))\n",
    "type1_data = data[data.Type == 1]\n",
    "type0_data = data[data.Type == 0]\n",
    "plt.scatter(type1_data.Sample, np.zeros(len(type1_data)), s = 200, c = 'r');\n",
    "plt.scatter(type0_data.Sample, np.ones(len(type0_data)), s = 200, c = 'b');\n",
    "\n",
    "plt.show()"
   ]
  },
  {
   "cell_type": "code",
   "execution_count": 11,
   "metadata": {
    "collapsed": false
   },
   "outputs": [
    {
     "name": "stdout",
     "output_type": "stream",
     "text": [
      "Initial: [0.1, -1, 1] log-Likelihood: -213.39\n",
      " 1. p: 0.32, mu0: -0.28, mu1: 1.72   log-Likelihood: -169.40 \n",
      " 2. p: 0.32, mu0: -0.28, mu1: 1.72   log-Likelihood: -169.40 \n",
      " 3. p: 0.32, mu0: -0.28, mu1: 1.71   log-Likelihood: -169.40 \n",
      " 4. p: 0.32, mu0: -0.28, mu1: 1.71   log-Likelihood: -169.40 \n",
      " 5. p: 0.32, mu0: -0.28, mu1: 1.71   log-Likelihood: -169.40 \n",
      " 6. p: 0.32, mu0: -0.29, mu1: 1.71   log-Likelihood: -169.40 \n",
      " 7. p: 0.32, mu0: -0.29, mu1: 1.71   log-Likelihood: -169.40 \n",
      " 8. p: 0.32, mu0: -0.29, mu1: 1.71   log-Likelihood: -169.40 \n",
      " 9. p: 0.32, mu0: -0.29, mu1: 1.71   log-Likelihood: -169.40 \n",
      "10. p: 0.32, mu0: -0.29, mu1: 1.71   log-Likelihood: -169.40 \n",
      "11. p: 0.32, mu0: -0.29, mu1: 1.71   log-Likelihood: -169.40 \n",
      "12. p: 0.32, mu0: -0.29, mu1: 1.71   log-Likelihood: -169.40 \n",
      "13. p: 0.32, mu0: -0.29, mu1: 1.71   log-Likelihood: -169.40 \n",
      "14. p: 0.32, mu0: -0.29, mu1: 1.71   log-Likelihood: -169.40 \n",
      "15. p: 0.32, mu0: -0.29, mu1: 1.70   log-Likelihood: -169.40 \n",
      "16. p: 0.32, mu0: -0.29, mu1: 1.70   log-Likelihood: -169.40 \n",
      "17. p: 0.32, mu0: -0.29, mu1: 1.70   log-Likelihood: -169.40 \n",
      "18. p: 0.32, mu0: -0.29, mu1: 1.70   log-Likelihood: -169.40 \n",
      "19. p: 0.32, mu0: -0.29, mu1: 1.70   log-Likelihood: -169.40 \n",
      "20. p: 0.32, mu0: -0.29, mu1: 1.70   log-Likelihood: -169.40 \n",
      "21. p: 0.32, mu0: -0.29, mu1: 1.70   log-Likelihood: -169.40 \n",
      "22. p: 0.33, mu0: -0.29, mu1: 1.70   log-Likelihood: -169.40 \n",
      "23. p: 0.33, mu0: -0.29, mu1: 1.70   log-Likelihood: -169.40 \n",
      "24. p: 0.33, mu0: -0.29, mu1: 1.70   log-Likelihood: -169.40 \n",
      "25. p: 0.33, mu0: -0.29, mu1: 1.70   log-Likelihood: -169.40 \n",
      "26. p: 0.33, mu0: -0.29, mu1: 1.70   log-Likelihood: -169.40 \n",
      "27. p: 0.33, mu0: -0.29, mu1: 1.70   log-Likelihood: -169.40 \n",
      "28. p: 0.33, mu0: -0.29, mu1: 1.70   log-Likelihood: -169.40 \n",
      "29. p: 0.33, mu0: -0.29, mu1: 1.70   log-Likelihood: -169.40 \n",
      "30. p: 0.33, mu0: -0.29, mu1: 1.70   log-Likelihood: -169.40 \n"
     ]
    }
   ],
   "source": [
    "initial_theta = [0.1, -1, 1]\n",
    "\n",
    "num_of_iter = 30\n",
    "\n",
    "theta = initial_theta\n",
    "ll = log_likelihood(theta[0], theta[1], theta[2], data.Sample)\n",
    "print(\"Initial: {} log-Likelihood: {:.2f}\".format(theta, ll))\n",
    "\n",
    "for i in range(num_of_iter):\n",
    "    theta = update(theta[0], theta[1], theta[2], data.Sample)\n",
    "    ll = log_likelihood(theta[0], theta[1], theta[2], data.Sample)\n",
    "    print(\"{:2d}. p: {:.2f}, mu0: {:.2f}, mu1: {:.2f}   log-Likelihood: {:.2f} \".format(i+1,theta[0],theta[1],theta[2], ll))"
   ]
  },
  {
   "cell_type": "markdown",
   "metadata": {},
   "source": [
    "Here we see that while the log likelihood is increasing on every step as it should. The parameter values are not getting close to the real one. In general, we cannot guarrantee that we will find the global maximum of the likelihood function, we can get stuck in a local maximum as well and therefore a lot depends on initialization. Also note that our estimator itself is random so we are also limited by the finite sample size:"
   ]
  },
  {
   "cell_type": "code",
   "execution_count": 32,
   "metadata": {
    "collapsed": false
   },
   "outputs": [
    {
     "name": "stdout",
     "output_type": "stream",
     "text": [
      "Initial: [0.3, 0, 2] log-Likelihood: -170.81\n",
      " 1. p: 0.28, mu0: 0.10, mu1: 2.03   log-Likelihood: -169.97 \n",
      " 2. p: 0.25, mu0: 0.14, mu1: 2.12   log-Likelihood: -169.39 \n",
      " 3. p: 0.23, mu0: 0.16, mu1: 2.22   log-Likelihood: -168.82 \n",
      " 4. p: 0.21, mu0: 0.19, mu1: 2.33   log-Likelihood: -168.27 \n",
      " 5. p: 0.19, mu0: 0.21, mu1: 2.45   log-Likelihood: -167.76 \n",
      " 6. p: 0.17, mu0: 0.23, mu1: 2.57   log-Likelihood: -167.30 \n",
      " 7. p: 0.16, mu0: 0.25, mu1: 2.69   log-Likelihood: -166.92 \n",
      " 8. p: 0.14, mu0: 0.27, mu1: 2.80   log-Likelihood: -166.63 \n",
      " 9. p: 0.13, mu0: 0.28, mu1: 2.89   log-Likelihood: -166.41 \n",
      "10. p: 0.13, mu0: 0.30, mu1: 2.98   log-Likelihood: -166.26 \n",
      "11. p: 0.12, mu0: 0.31, mu1: 3.05   log-Likelihood: -166.16 \n",
      "12. p: 0.11, mu0: 0.32, mu1: 3.11   log-Likelihood: -166.10 \n",
      "13. p: 0.11, mu0: 0.32, mu1: 3.15   log-Likelihood: -166.06 \n",
      "14. p: 0.11, mu0: 0.33, mu1: 3.18   log-Likelihood: -166.04 \n",
      "15. p: 0.10, mu0: 0.33, mu1: 3.21   log-Likelihood: -166.03 \n",
      "16. p: 0.10, mu0: 0.34, mu1: 3.23   log-Likelihood: -166.02 \n",
      "17. p: 0.10, mu0: 0.34, mu1: 3.24   log-Likelihood: -166.02 \n",
      "18. p: 0.10, mu0: 0.34, mu1: 3.25   log-Likelihood: -166.02 \n",
      "19. p: 0.10, mu0: 0.34, mu1: 3.26   log-Likelihood: -166.01 \n",
      "20. p: 0.10, mu0: 0.34, mu1: 3.27   log-Likelihood: -166.01 \n",
      "21. p: 0.10, mu0: 0.34, mu1: 3.27   log-Likelihood: -166.01 \n",
      "22. p: 0.10, mu0: 0.35, mu1: 3.28   log-Likelihood: -166.01 \n",
      "23. p: 0.10, mu0: 0.35, mu1: 3.28   log-Likelihood: -166.01 \n",
      "24. p: 0.10, mu0: 0.35, mu1: 3.28   log-Likelihood: -166.01 \n",
      "25. p: 0.10, mu0: 0.35, mu1: 3.28   log-Likelihood: -166.01 \n",
      "26. p: 0.10, mu0: 0.35, mu1: 3.28   log-Likelihood: -166.01 \n",
      "27. p: 0.10, mu0: 0.35, mu1: 3.28   log-Likelihood: -166.01 \n",
      "28. p: 0.10, mu0: 0.35, mu1: 3.28   log-Likelihood: -166.01 \n",
      "29. p: 0.10, mu0: 0.35, mu1: 3.28   log-Likelihood: -166.01 \n",
      "30. p: 0.10, mu0: 0.35, mu1: 3.28   log-Likelihood: -166.01 \n"
     ]
    }
   ],
   "source": [
    "initial_theta = [0.3, 0, 2]\n",
    "\n",
    "num_of_iter = 30\n",
    "\n",
    "theta = initial_theta\n",
    "ll = log_likelihood(theta[0], theta[1], theta[2], data.Sample)\n",
    "print(\"Initial: {} log-Likelihood: {:.2f}\".format(theta, ll))\n",
    "\n",
    "for i in range(num_of_iter):\n",
    "    theta = update(theta[0], theta[1], theta[2], data.Sample)\n",
    "    ll = log_likelihood(theta[0], theta[1], theta[2], data.Sample)\n",
    "    print(\"{:2d}. p: {:.2f}, mu0: {:.2f}, mu1: {:.2f}   log-Likelihood: {:.2f} \".format(i+1,theta[0],theta[1],theta[2], ll))"
   ]
  },
  {
   "cell_type": "markdown",
   "metadata": {},
   "source": [
    "Now let us try this on a much larger dataset:"
   ]
  },
  {
   "cell_type": "code",
   "execution_count": 35,
   "metadata": {
    "collapsed": true
   },
   "outputs": [],
   "source": [
    "n = 1000\n",
    "\n",
    "sample = []\n",
    "cl = []\n",
    "\n",
    "p = 0.3\n",
    "mu0 = 0\n",
    "mu1 = 2\n",
    "\n",
    "# There is probably a better way to do this...\n",
    "for i in range(n):\n",
    "    u = np.random.rand();\n",
    "    if (u <= 1-p):\n",
    "        sample.append(np.random.normal(mu0,1));\n",
    "        cl.append(0)\n",
    "    else:\n",
    "        sample.append(np.random.normal(mu1,1));\n",
    "        cl.append(1)\n",
    "        \n",
    "data = pd.DataFrame(list(zip(sample,cl)), columns = ['Sample', 'Type'])"
   ]
  },
  {
   "cell_type": "code",
   "execution_count": 36,
   "metadata": {
    "collapsed": false
   },
   "outputs": [
    {
     "name": "stdout",
     "output_type": "stream",
     "text": [
      "Initial: [0.3, 0, 2] log-Likelihood: -1667.82\n",
      " 1. p: 0.29, mu0: 0.05, mu1: 1.91   log-Likelihood: -1665.36 \n",
      " 2. p: 0.29, mu0: 0.06, mu1: 1.89   log-Likelihood: -1665.15 \n",
      " 3. p: 0.29, mu0: 0.06, mu1: 1.88   log-Likelihood: -1665.12 \n",
      " 4. p: 0.29, mu0: 0.07, mu1: 1.88   log-Likelihood: -1665.12 \n",
      " 5. p: 0.29, mu0: 0.07, mu1: 1.88   log-Likelihood: -1665.12 \n",
      " 6. p: 0.29, mu0: 0.07, mu1: 1.88   log-Likelihood: -1665.12 \n",
      " 7. p: 0.29, mu0: 0.07, mu1: 1.88   log-Likelihood: -1665.12 \n",
      " 8. p: 0.29, mu0: 0.07, mu1: 1.88   log-Likelihood: -1665.12 \n",
      " 9. p: 0.29, mu0: 0.07, mu1: 1.88   log-Likelihood: -1665.12 \n",
      "10. p: 0.29, mu0: 0.07, mu1: 1.88   log-Likelihood: -1665.12 \n",
      "11. p: 0.29, mu0: 0.07, mu1: 1.89   log-Likelihood: -1665.12 \n",
      "12. p: 0.29, mu0: 0.07, mu1: 1.89   log-Likelihood: -1665.12 \n",
      "13. p: 0.29, mu0: 0.07, mu1: 1.89   log-Likelihood: -1665.12 \n",
      "14. p: 0.29, mu0: 0.07, mu1: 1.89   log-Likelihood: -1665.12 \n",
      "15. p: 0.29, mu0: 0.07, mu1: 1.89   log-Likelihood: -1665.12 \n",
      "16. p: 0.29, mu0: 0.07, mu1: 1.89   log-Likelihood: -1665.12 \n",
      "17. p: 0.29, mu0: 0.07, mu1: 1.89   log-Likelihood: -1665.12 \n",
      "18. p: 0.29, mu0: 0.07, mu1: 1.89   log-Likelihood: -1665.12 \n",
      "19. p: 0.29, mu0: 0.07, mu1: 1.89   log-Likelihood: -1665.12 \n",
      "20. p: 0.29, mu0: 0.07, mu1: 1.89   log-Likelihood: -1665.12 \n",
      "21. p: 0.29, mu0: 0.07, mu1: 1.89   log-Likelihood: -1665.12 \n",
      "22. p: 0.29, mu0: 0.07, mu1: 1.89   log-Likelihood: -1665.12 \n",
      "23. p: 0.29, mu0: 0.07, mu1: 1.89   log-Likelihood: -1665.12 \n",
      "24. p: 0.29, mu0: 0.07, mu1: 1.89   log-Likelihood: -1665.12 \n",
      "25. p: 0.29, mu0: 0.07, mu1: 1.89   log-Likelihood: -1665.12 \n",
      "26. p: 0.29, mu0: 0.07, mu1: 1.89   log-Likelihood: -1665.12 \n",
      "27. p: 0.29, mu0: 0.07, mu1: 1.89   log-Likelihood: -1665.12 \n",
      "28. p: 0.29, mu0: 0.07, mu1: 1.89   log-Likelihood: -1665.12 \n",
      "29. p: 0.29, mu0: 0.07, mu1: 1.89   log-Likelihood: -1665.12 \n",
      "30. p: 0.29, mu0: 0.07, mu1: 1.89   log-Likelihood: -1665.12 \n"
     ]
    }
   ],
   "source": [
    "initial_theta = [0.3, 0, 2]\n",
    "\n",
    "num_of_iter = 30\n",
    "\n",
    "theta = initial_theta\n",
    "ll = log_likelihood(theta[0], theta[1], theta[2], data.Sample)\n",
    "print(\"Initial: {} log-Likelihood: {:.2f}\".format(theta, ll))\n",
    "\n",
    "for i in range(num_of_iter):\n",
    "    theta = update(theta[0], theta[1], theta[2], data.Sample)\n",
    "    ll = log_likelihood(theta[0], theta[1], theta[2], data.Sample)\n",
    "    print(\"{:2d}. p: {:.2f}, mu0: {:.2f}, mu1: {:.2f}   log-Likelihood: {:.2f} \".format(i+1,theta[0],theta[1],theta[2], ll))"
   ]
  },
  {
   "cell_type": "markdown",
   "metadata": {},
   "source": [
    "Much better. Also note that the convergence is also much faster. Here is one more with the off initialization:"
   ]
  },
  {
   "cell_type": "code",
   "execution_count": 15,
   "metadata": {
    "collapsed": false
   },
   "outputs": [
    {
     "name": "stdout",
     "output_type": "stream",
     "text": [
      "Initial: [0.1, -1, 1] log-Likelihood: -213.39\n",
      " 1. p: 0.32, mu0: -0.28, mu1: 1.72   log-Likelihood: -169.40 \n",
      " 2. p: 0.32, mu0: -0.28, mu1: 1.72   log-Likelihood: -169.40 \n",
      " 3. p: 0.32, mu0: -0.28, mu1: 1.71   log-Likelihood: -169.40 \n",
      " 4. p: 0.32, mu0: -0.28, mu1: 1.71   log-Likelihood: -169.40 \n",
      " 5. p: 0.32, mu0: -0.28, mu1: 1.71   log-Likelihood: -169.40 \n",
      " 6. p: 0.32, mu0: -0.29, mu1: 1.71   log-Likelihood: -169.40 \n",
      " 7. p: 0.32, mu0: -0.29, mu1: 1.71   log-Likelihood: -169.40 \n",
      " 8. p: 0.32, mu0: -0.29, mu1: 1.71   log-Likelihood: -169.40 \n",
      " 9. p: 0.32, mu0: -0.29, mu1: 1.71   log-Likelihood: -169.40 \n",
      "10. p: 0.32, mu0: -0.29, mu1: 1.71   log-Likelihood: -169.40 \n",
      "11. p: 0.32, mu0: -0.29, mu1: 1.71   log-Likelihood: -169.40 \n",
      "12. p: 0.32, mu0: -0.29, mu1: 1.71   log-Likelihood: -169.40 \n",
      "13. p: 0.32, mu0: -0.29, mu1: 1.71   log-Likelihood: -169.40 \n",
      "14. p: 0.32, mu0: -0.29, mu1: 1.71   log-Likelihood: -169.40 \n",
      "15. p: 0.32, mu0: -0.29, mu1: 1.70   log-Likelihood: -169.40 \n",
      "16. p: 0.32, mu0: -0.29, mu1: 1.70   log-Likelihood: -169.40 \n",
      "17. p: 0.32, mu0: -0.29, mu1: 1.70   log-Likelihood: -169.40 \n",
      "18. p: 0.32, mu0: -0.29, mu1: 1.70   log-Likelihood: -169.40 \n",
      "19. p: 0.32, mu0: -0.29, mu1: 1.70   log-Likelihood: -169.40 \n",
      "20. p: 0.32, mu0: -0.29, mu1: 1.70   log-Likelihood: -169.40 \n",
      "21. p: 0.32, mu0: -0.29, mu1: 1.70   log-Likelihood: -169.40 \n",
      "22. p: 0.33, mu0: -0.29, mu1: 1.70   log-Likelihood: -169.40 \n",
      "23. p: 0.33, mu0: -0.29, mu1: 1.70   log-Likelihood: -169.40 \n",
      "24. p: 0.33, mu0: -0.29, mu1: 1.70   log-Likelihood: -169.40 \n",
      "25. p: 0.33, mu0: -0.29, mu1: 1.70   log-Likelihood: -169.40 \n",
      "26. p: 0.33, mu0: -0.29, mu1: 1.70   log-Likelihood: -169.40 \n",
      "27. p: 0.33, mu0: -0.29, mu1: 1.70   log-Likelihood: -169.40 \n",
      "28. p: 0.33, mu0: -0.29, mu1: 1.70   log-Likelihood: -169.40 \n",
      "29. p: 0.33, mu0: -0.29, mu1: 1.70   log-Likelihood: -169.40 \n",
      "30. p: 0.33, mu0: -0.29, mu1: 1.70   log-Likelihood: -169.40 \n"
     ]
    }
   ],
   "source": [
    "initial_theta = [0.1, -1, 1]\n",
    "\n",
    "num_of_iter = 30\n",
    "\n",
    "theta = initial_theta\n",
    "ll = log_likelihood(theta[0], theta[1], theta[2], data.Sample)\n",
    "print(\"Initial: {} log-Likelihood: {:.2f}\".format(theta, ll))\n",
    "\n",
    "for i in range(num_of_iter):\n",
    "    theta = update(theta[0], theta[1], theta[2], data.Sample)\n",
    "    ll = log_likelihood(theta[0], theta[1], theta[2], data.Sample)\n",
    "    print(\"{:2d}. p: {:.2f}, mu0: {:.2f}, mu1: {:.2f}   log-Likelihood: {:.2f} \".format(i+1,theta[0],theta[1],theta[2], ll))"
   ]
  },
  {
   "cell_type": "markdown",
   "metadata": {},
   "source": [
    "Pretty good! On the other hand, look at what happens with really 'bad' initialization:"
   ]
  },
  {
   "cell_type": "code",
   "execution_count": 17,
   "metadata": {
    "collapsed": false
   },
   "outputs": [
    {
     "name": "stdout",
     "output_type": "stream",
     "text": [
      "Initial: [0.1, 1, -1] log-Likelihood: -183.24\n",
      " 1. p: 0.18, mu0: 0.69, mu1: -1.13   log-Likelihood: -175.85 \n",
      " 2. p: 0.20, mu0: 0.71, mu1: -1.04   log-Likelihood: -175.48 \n",
      " 3. p: 0.22, mu0: 0.73, mu1: -0.98   log-Likelihood: -175.13 \n",
      " 4. p: 0.24, mu0: 0.76, mu1: -0.94   log-Likelihood: -174.78 \n",
      " 5. p: 0.26, mu0: 0.79, mu1: -0.89   log-Likelihood: -174.42 \n",
      " 6. p: 0.28, mu0: 0.83, mu1: -0.85   log-Likelihood: -174.07 \n",
      " 7. p: 0.30, mu0: 0.86, mu1: -0.81   log-Likelihood: -173.71 \n",
      " 8. p: 0.32, mu0: 0.90, mu1: -0.78   log-Likelihood: -173.36 \n",
      " 9. p: 0.34, mu0: 0.94, mu1: -0.74   log-Likelihood: -173.01 \n",
      "10. p: 0.37, mu0: 0.98, mu1: -0.71   log-Likelihood: -172.66 \n",
      "11. p: 0.39, mu0: 1.02, mu1: -0.68   log-Likelihood: -172.32 \n",
      "12. p: 0.41, mu0: 1.06, mu1: -0.65   log-Likelihood: -171.99 \n",
      "13. p: 0.43, mu0: 1.10, mu1: -0.62   log-Likelihood: -171.68 \n",
      "14. p: 0.45, mu0: 1.14, mu1: -0.59   log-Likelihood: -171.38 \n",
      "15. p: 0.47, mu0: 1.18, mu1: -0.57   log-Likelihood: -171.11 \n",
      "16. p: 0.49, mu0: 1.23, mu1: -0.54   log-Likelihood: -170.85 \n",
      "17. p: 0.51, mu0: 1.27, mu1: -0.52   log-Likelihood: -170.62 \n",
      "18. p: 0.53, mu0: 1.31, mu1: -0.50   log-Likelihood: -170.42 \n",
      "19. p: 0.54, mu0: 1.34, mu1: -0.48   log-Likelihood: -170.24 \n",
      "20. p: 0.56, mu0: 1.38, mu1: -0.46   log-Likelihood: -170.08 \n",
      "21. p: 0.57, mu0: 1.41, mu1: -0.44   log-Likelihood: -169.95 \n",
      "22. p: 0.58, mu0: 1.44, mu1: -0.42   log-Likelihood: -169.84 \n",
      "23. p: 0.59, mu0: 1.47, mu1: -0.41   log-Likelihood: -169.75 \n",
      "24. p: 0.60, mu0: 1.50, mu1: -0.40   log-Likelihood: -169.68 \n",
      "25. p: 0.61, mu0: 1.52, mu1: -0.38   log-Likelihood: -169.62 \n",
      "26. p: 0.62, mu0: 1.54, mu1: -0.37   log-Likelihood: -169.57 \n",
      "27. p: 0.63, mu0: 1.56, mu1: -0.36   log-Likelihood: -169.53 \n",
      "28. p: 0.63, mu0: 1.58, mu1: -0.35   log-Likelihood: -169.50 \n",
      "29. p: 0.64, mu0: 1.60, mu1: -0.35   log-Likelihood: -169.48 \n",
      "30. p: 0.64, mu0: 1.61, mu1: -0.34   log-Likelihood: -169.46 \n",
      "31. p: 0.65, mu0: 1.62, mu1: -0.33   log-Likelihood: -169.44 \n",
      "32. p: 0.65, mu0: 1.63, mu1: -0.33   log-Likelihood: -169.43 \n",
      "33. p: 0.65, mu0: 1.64, mu1: -0.32   log-Likelihood: -169.42 \n",
      "34. p: 0.66, mu0: 1.65, mu1: -0.32   log-Likelihood: -169.42 \n",
      "35. p: 0.66, mu0: 1.65, mu1: -0.31   log-Likelihood: -169.41 \n",
      "36. p: 0.66, mu0: 1.66, mu1: -0.31   log-Likelihood: -169.41 \n",
      "37. p: 0.66, mu0: 1.67, mu1: -0.31   log-Likelihood: -169.41 \n",
      "38. p: 0.66, mu0: 1.67, mu1: -0.31   log-Likelihood: -169.40 \n",
      "39. p: 0.67, mu0: 1.68, mu1: -0.30   log-Likelihood: -169.40 \n",
      "40. p: 0.67, mu0: 1.68, mu1: -0.30   log-Likelihood: -169.40 \n",
      "41. p: 0.67, mu0: 1.68, mu1: -0.30   log-Likelihood: -169.40 \n",
      "42. p: 0.67, mu0: 1.68, mu1: -0.30   log-Likelihood: -169.40 \n",
      "43. p: 0.67, mu0: 1.69, mu1: -0.30   log-Likelihood: -169.40 \n",
      "44. p: 0.67, mu0: 1.69, mu1: -0.30   log-Likelihood: -169.40 \n",
      "45. p: 0.67, mu0: 1.69, mu1: -0.30   log-Likelihood: -169.40 \n",
      "46. p: 0.67, mu0: 1.69, mu1: -0.29   log-Likelihood: -169.40 \n",
      "47. p: 0.67, mu0: 1.69, mu1: -0.29   log-Likelihood: -169.40 \n",
      "48. p: 0.67, mu0: 1.69, mu1: -0.29   log-Likelihood: -169.40 \n",
      "49. p: 0.67, mu0: 1.70, mu1: -0.29   log-Likelihood: -169.40 \n",
      "50. p: 0.67, mu0: 1.70, mu1: -0.29   log-Likelihood: -169.40 \n"
     ]
    }
   ],
   "source": [
    "initial_theta = [0.1, 1, -1]\n",
    "\n",
    "num_of_iter = 50\n",
    "\n",
    "theta = initial_theta\n",
    "ll = log_likelihood(theta[0], theta[1], theta[2], data.Sample)\n",
    "print(\"Initial: {} log-Likelihood: {:.2f}\".format(theta, ll))\n",
    "\n",
    "for i in range(num_of_iter):\n",
    "    theta = update(theta[0], theta[1], theta[2], data.Sample)\n",
    "    ll = log_likelihood(theta[0], theta[1], theta[2], data.Sample)\n",
    "    print(\"{:2d}. p: {:.2f}, mu0: {:.2f}, mu1: {:.2f}   log-Likelihood: {:.2f} \".format(i+1,theta[0],theta[1],theta[2], ll))"
   ]
  },
  {
   "cell_type": "markdown",
   "metadata": {},
   "source": [
    "Clearly, this is going for the 'other' maximum of the likelihood function where the roles of the two population are switched. Note that the model density is unchanged under this symmetry: $(0.3, 0, 2)$ gives the exact same dsns\n",
    "\n",
    "Feel free to play around and get a feel for how the algorithm behaves with different initialization, sample sizes, and parameters."
   ]
  },
  {
   "cell_type": "code",
   "execution_count": null,
   "metadata": {
    "collapsed": true
   },
   "outputs": [],
   "source": []
  }
 ],
 "metadata": {
  "anaconda-cloud": {},
  "kernelspec": {
   "display_name": "Python [conda env:anaconda]",
   "language": "python",
   "name": "conda-env-anaconda-py"
  },
  "language_info": {
   "codemirror_mode": {
    "name": "ipython",
    "version": 3
   },
   "file_extension": ".py",
   "mimetype": "text/x-python",
   "name": "python",
   "nbconvert_exporter": "python",
   "pygments_lexer": "ipython3",
   "version": "3.5.4"
  }
 },
 "nbformat": 4,
 "nbformat_minor": 0
}
