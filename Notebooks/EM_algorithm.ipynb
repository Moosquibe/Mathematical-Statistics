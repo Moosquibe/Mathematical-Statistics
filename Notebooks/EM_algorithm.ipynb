{
 "cells": [
  {
   "cell_type": "markdown",
   "metadata": {},
   "source": [
    "# An example of the Expectation-Maximization (EM) algorithm"
   ]
  },
  {
   "cell_type": "markdown",
   "metadata": {},
   "source": [
    "We consider a sample $Y_1, \\dots, Y_n$ from the mixture density\n",
    "\n",
    "$$ (1-p)\\phi_{\\mu_0, 1}(y) + p\\phi_{\\mu_1,1}(y),$$\n",
    "\n",
    "where $\\phi_{\\mu,\\sigma}(y)$ is the Gaussian density with mean $\\mu$ and variance $\\sigma$, to illustrate the EM algorithm used to find the maximum likelihood estimator of the parameters."
   ]
  },
  {
   "cell_type": "markdown",
   "metadata": {},
   "source": [
    "## Generate dataset\n",
    "\n",
    "We start by generating a dataset consisting of 100 samples with $p=0.3$, $\\mu_0 = 0$ and $\\mu_1 = 10$."
   ]
  },
  {
   "cell_type": "code",
   "execution_count": 229,
   "metadata": {
    "collapsed": false
   },
   "outputs": [],
   "source": [
    "import numpy as np\n",
    "import pandas as pd\n",
    "import matplotlib.pyplot as plt\n",
    "%matplotlib inline"
   ]
  },
  {
   "cell_type": "code",
   "execution_count": 230,
   "metadata": {
    "collapsed": false
   },
   "outputs": [],
   "source": [
    "n = 100\n",
    "\n",
    "sample = []\n",
    "cl = [] # To store the class indices\n",
    "\n",
    "p = 0.3\n",
    "mu0 = 0\n",
    "mu1 = 10\n",
    "\n",
    "# There is probably a better way to do this...\n",
    "for i in range(n):\n",
    "    u = np.random.rand();\n",
    "    if (u <= 1-p):\n",
    "        sample.append(np.random.normal(mu0,1));\n",
    "        cl.append(0)\n",
    "    else:\n",
    "        sample.append(np.random.normal(mu1,1));\n",
    "        cl.append(1)\n",
    "        \n",
    "data = pd.DataFrame(list(zip(sample,cl)), columns = ['Sample', 'Type'])"
   ]
  },
  {
   "cell_type": "code",
   "execution_count": 231,
   "metadata": {
    "collapsed": false
   },
   "outputs": [
    {
     "data": {
      "text/html": [
       "<div>\n",
       "<table border=\"1\" class=\"dataframe\">\n",
       "  <thead>\n",
       "    <tr style=\"text-align: right;\">\n",
       "      <th></th>\n",
       "      <th>Sample</th>\n",
       "      <th>Type</th>\n",
       "    </tr>\n",
       "  </thead>\n",
       "  <tbody>\n",
       "    <tr>\n",
       "      <th>0</th>\n",
       "      <td>-0.240692</td>\n",
       "      <td>0</td>\n",
       "    </tr>\n",
       "    <tr>\n",
       "      <th>1</th>\n",
       "      <td>-0.493698</td>\n",
       "      <td>0</td>\n",
       "    </tr>\n",
       "    <tr>\n",
       "      <th>2</th>\n",
       "      <td>-1.795212</td>\n",
       "      <td>0</td>\n",
       "    </tr>\n",
       "    <tr>\n",
       "      <th>3</th>\n",
       "      <td>-0.403817</td>\n",
       "      <td>0</td>\n",
       "    </tr>\n",
       "    <tr>\n",
       "      <th>4</th>\n",
       "      <td>10.315741</td>\n",
       "      <td>1</td>\n",
       "    </tr>\n",
       "  </tbody>\n",
       "</table>\n",
       "</div>"
      ],
      "text/plain": [
       "      Sample  Type\n",
       "0  -0.240692     0\n",
       "1  -0.493698     0\n",
       "2  -1.795212     0\n",
       "3  -0.403817     0\n",
       "4  10.315741     1"
      ]
     },
     "execution_count": 231,
     "metadata": {},
     "output_type": "execute_result"
    }
   ],
   "source": [
    "data.head()"
   ]
  },
  {
   "cell_type": "code",
   "execution_count": 232,
   "metadata": {
    "collapsed": false
   },
   "outputs": [
    {
     "data": {
      "image/png": "[encoded data removed]",
      "text/plain": [
       "<matplotlib.figure.Figure at 0x7fac7fe778d0>"
      ]
     },
     "metadata": {},
     "output_type": "display_data"
    }
   ],
   "source": [
    "plt.figure(figsize=(10,8))\n",
    "type1_data = data[data.Type == 1]\n",
    "type0_data = data[data.Type == 0]\n",
    "plt.scatter(type1_data.Sample, np.zeros(len(type1_data)), s = 200, c = 'r');\n",
    "plt.scatter(type0_data.Sample, np.ones(len(type0_data)), s = 200, c = 'b');\n",
    "\n",
    "plt.show()"
   ]
  },
  {
   "cell_type": "markdown",
   "metadata": {
    "collapsed": true
   },
   "source": [
    "## The iteration rule\n",
    "\n",
    "Now we implement a function carrying out the iterative step using the formulas derived in class. Recall that we first introduced the auxiliary quantity\n",
    "\n",
    "$$\\tau_i^{(j)} = \\frac{p^{(j)}\\phi_{\\mu_1^{(j)},1}(y_i)}{p^{(j)}\\phi_{\\mu_1^{(j)},1}(y_i)+(1-p^{(j)})\\phi_{\\mu_0^{(j)},1}(y_i)}$$\n",
    "\n",
    "in terms of which the update rule takes the form\n",
    "\n",
    "$$p^{(j+1)}=\\frac{1}{n}\\sum_{i=1}^n\\tau_i^{(j)},\\qquad\\mu_0^{(j+1)}=\\frac{\\sum_{i=1}^ny_i(1-\\tau_i^{(j)})}{\\sum_{i=1}^n(1-\\tau_i^{(j)})},\\qquad \\mu_1^{(j+1)}=\\frac{\\sum_{i=1}^ny_i\\tau_i^j}{\\sum_{i=1}^n\\tau_i^j}$$\n"
   ]
  },
  {
   "cell_type": "code",
   "execution_count": 233,
   "metadata": {
    "collapsed": true
   },
   "outputs": [],
   "source": [
    "from scipy import stats"
   ]
  },
  {
   "cell_type": "code",
   "execution_count": 234,
   "metadata": {
    "collapsed": false
   },
   "outputs": [],
   "source": [
    "def tau(p, mu0, mu1, data):\n",
    "    # Computes the tau-factors\n",
    "    a = stats.norm.pdf(data, loc=mu0, scale=1);\n",
    "    b = stats.norm.pdf(data, loc=mu1, scale=1);\n",
    "    \n",
    "    return p * b / (p * b + (1-p) * a)\n",
    "    \n",
    "def update(p_old, mu0_old, mu1_old, y_data):\n",
    "    # Update rule for the iteration\n",
    "    if p_old == 1:\n",
    "        return [1, mu0_old, y_data.mean()]\n",
    "    elif p_old == 0:\n",
    "        return [0, y_data.mean(), mu1_old]\n",
    "    else:\n",
    "        tau_factors = tau(p_old, mu0_old, mu1_old, y_data);\n",
    "        p_new = tau_factors.mean()\n",
    "        mu0_new = np.dot(y_data, 1-tau_factors) / (1-tau_factors).sum()\n",
    "        mu1_new = np.dot(y_data, tau_factors) / tau_factors.sum()\n",
    "        return [p_new, mu0_new, mu1_new]\n",
    "\n",
    "def log_likelihood(p, mu0, mu1, data):\n",
    "    return (np.log((1-p)*stats.norm.pdf(data, loc=mu0, scale=1) + p * stats.norm.pdf(data, loc=mu1, scale=1))).sum();"
   ]
  },
  {
   "cell_type": "markdown",
   "metadata": {},
   "source": [
    "## The iteration"
   ]
  },
  {
   "cell_type": "code",
   "execution_count": 244,
   "metadata": {
    "collapsed": true
   },
   "outputs": [],
   "source": [
    "initial_theta = [0.3, 0, 1]"
   ]
  },
  {
   "cell_type": "code",
   "execution_count": 245,
   "metadata": {
    "collapsed": false
   },
   "outputs": [
    {
     "name": "stdout",
     "output_type": "stream",
     "text": [
      "Initial: [0.3, 0, 1] log-Likelihood: -1857.39\n",
      " 1. p: 0.36, mu0: 0.05, mu1: 1.56   log-Likelihood: -1768.31 \n",
      " 2. p: 0.37, mu0: -0.07, mu1: 1.77   log-Likelihood: -1750.62 \n",
      " 3. p: 0.37, mu0: -0.12, mu1: 1.85   log-Likelihood: -1748.09 \n",
      " 4. p: 0.36, mu0: -0.13, mu1: 1.88   log-Likelihood: -1747.73 \n",
      " 5. p: 0.36, mu0: -0.12, mu1: 1.90   log-Likelihood: -1747.58 \n",
      " 6. p: 0.35, mu0: -0.12, mu1: 1.91   log-Likelihood: -1747.47 \n",
      " 7. p: 0.35, mu0: -0.11, mu1: 1.92   log-Likelihood: -1747.38 \n",
      " 8. p: 0.35, mu0: -0.11, mu1: 1.93   log-Likelihood: -1747.30 \n",
      " 9. p: 0.35, mu0: -0.10, mu1: 1.94   log-Likelihood: -1747.24 \n",
      "10. p: 0.34, mu0: -0.10, mu1: 1.94   log-Likelihood: -1747.18 \n",
      "11. p: 0.34, mu0: -0.10, mu1: 1.95   log-Likelihood: -1747.14 \n",
      "12. p: 0.34, mu0: -0.09, mu1: 1.96   log-Likelihood: -1747.10 \n",
      "13. p: 0.34, mu0: -0.09, mu1: 1.96   log-Likelihood: -1747.07 \n",
      "14. p: 0.33, mu0: -0.09, mu1: 1.97   log-Likelihood: -1747.04 \n",
      "15. p: 0.33, mu0: -0.08, mu1: 1.97   log-Likelihood: -1747.02 \n",
      "16. p: 0.33, mu0: -0.08, mu1: 1.98   log-Likelihood: -1747.01 \n",
      "17. p: 0.33, mu0: -0.08, mu1: 1.98   log-Likelihood: -1746.99 \n",
      "18. p: 0.33, mu0: -0.08, mu1: 1.98   log-Likelihood: -1746.98 \n",
      "19. p: 0.33, mu0: -0.08, mu1: 1.99   log-Likelihood: -1746.97 \n",
      "20. p: 0.33, mu0: -0.07, mu1: 1.99   log-Likelihood: -1746.96 \n"
     ]
    }
   ],
   "source": [
    "num_of_iter = 20\n",
    "\n",
    "theta = initial_theta\n",
    "ll = log_likelihood(theta[0], theta[1], theta[2], data.Sample)\n",
    "print(\"Initial: {} log-Likelihood: {:.2f}\".format(theta, ll))\n",
    "\n",
    "for i in range(num_of_iter):\n",
    "    theta = update(theta[0], theta[1], theta[2], data.Sample)\n",
    "    ll = log_likelihood(theta[0], theta[1], theta[2], data.Sample)\n",
    "    print(\"{:2d}. p: {:.2f}, mu0: {:.2f}, mu1: {:.2f}   log-Likelihood: {:.2f} \".format(i+1,theta[0],theta[1],theta[2], ll))"
   ]
  },
  {
   "cell_type": "markdown",
   "metadata": {},
   "source": [
    "We see that the algorithm quickly settles in to two sets of values it then oscillates in between. This is because the role of the components of the mixture are perfectly symmetric. Indeed the two sets of values are mirror images of each other."
   ]
  },
  {
   "cell_type": "markdown",
   "metadata": {},
   "source": [
    "## Non-separable data\n",
    "\n",
    "The above situation worked well because the two components of the mixture were well separated. Let us look at the case of non-separable data."
   ]
  },
  {
   "cell_type": "code",
   "execution_count": 241,
   "metadata": {
    "collapsed": true
   },
   "outputs": [],
   "source": [
    "n = 1000\n",
    "\n",
    "sample = []\n",
    "cl = []\n",
    "\n",
    "p = 0.3\n",
    "mu0 = 0\n",
    "mu1 = 2\n",
    "\n",
    "# There is probably a better way to do this...\n",
    "for i in range(n):\n",
    "    u = np.random.rand();\n",
    "    if (u <= 1-p):\n",
    "        sample.append(np.random.normal(mu0,1));\n",
    "        cl.append(0)\n",
    "    else:\n",
    "        sample.append(np.random.normal(mu1,1));\n",
    "        cl.append(1)\n",
    "        \n",
    "data = pd.DataFrame(list(zip(sample,cl)), columns = ['Sample', 'Type'])"
   ]
  },
  {
   "cell_type": "code",
   "execution_count": 242,
   "metadata": {
    "collapsed": false
   },
   "outputs": [
    {
     "data": {
      "image/png": "[encoded data removed]",
      "text/plain": [
       "<matplotlib.figure.Figure at 0x7fac7f6dc908>"
      ]
     },
     "metadata": {},
     "output_type": "display_data"
    }
   ],
   "source": [
    "plt.figure(figsize=(10,8))\n",
    "type1_data = data[data.Type == 1]\n",
    "type0_data = data[data.Type == 0]\n",
    "plt.scatter(type1_data.Sample, np.zeros(len(type1_data)), s = 200, c = 'r');\n",
    "plt.scatter(type0_data.Sample, np.ones(len(type0_data)), s = 200, c = 'b');\n",
    "\n",
    "plt.show()"
   ]
  },
  {
   "cell_type": "code",
   "execution_count": 243,
   "metadata": {
    "collapsed": false
   },
   "outputs": [
    {
     "name": "stdout",
     "output_type": "stream",
     "text": [
      "Initial: [0.3, 0, 2] log-Likelihood: -1747.80\n",
      " 1. p: 0.30, mu0: -0.03, mu1: 2.04   log-Likelihood: -1747.05 \n",
      " 2. p: 0.31, mu0: -0.04, mu1: 2.05   log-Likelihood: -1746.99 \n",
      " 3. p: 0.31, mu0: -0.04, mu1: 2.05   log-Likelihood: -1746.97 \n",
      " 4. p: 0.31, mu0: -0.04, mu1: 2.05   log-Likelihood: -1746.97 \n",
      " 5. p: 0.31, mu0: -0.05, mu1: 2.04   log-Likelihood: -1746.96 \n",
      " 6. p: 0.31, mu0: -0.05, mu1: 2.04   log-Likelihood: -1746.95 \n",
      " 7. p: 0.31, mu0: -0.05, mu1: 2.04   log-Likelihood: -1746.95 \n",
      " 8. p: 0.31, mu0: -0.05, mu1: 2.04   log-Likelihood: -1746.94 \n",
      " 9. p: 0.31, mu0: -0.05, mu1: 2.03   log-Likelihood: -1746.94 \n",
      "10. p: 0.31, mu0: -0.05, mu1: 2.03   log-Likelihood: -1746.94 \n",
      "11. p: 0.31, mu0: -0.05, mu1: 2.03   log-Likelihood: -1746.93 \n",
      "12. p: 0.31, mu0: -0.05, mu1: 2.03   log-Likelihood: -1746.93 \n",
      "13. p: 0.31, mu0: -0.05, mu1: 2.03   log-Likelihood: -1746.93 \n",
      "14. p: 0.31, mu0: -0.05, mu1: 2.03   log-Likelihood: -1746.93 \n",
      "15. p: 0.31, mu0: -0.05, mu1: 2.03   log-Likelihood: -1746.93 \n",
      "16. p: 0.31, mu0: -0.05, mu1: 2.03   log-Likelihood: -1746.93 \n",
      "17. p: 0.32, mu0: -0.06, mu1: 2.02   log-Likelihood: -1746.93 \n",
      "18. p: 0.32, mu0: -0.06, mu1: 2.02   log-Likelihood: -1746.93 \n",
      "19. p: 0.32, mu0: -0.06, mu1: 2.02   log-Likelihood: -1746.93 \n",
      "20. p: 0.32, mu0: -0.06, mu1: 2.02   log-Likelihood: -1746.93 \n"
     ]
    }
   ],
   "source": [
    "initial_theta = [0.3, 0, 2]\n",
    "\n",
    "num_of_iter = 20\n",
    "\n",
    "theta = initial_theta\n",
    "ll = log_likelihood(theta[0], theta[1], theta[2], data.Sample)\n",
    "print(\"Initial: {} log-Likelihood: {:.2f}\".format(theta, ll))\n",
    "\n",
    "for i in range(num_of_iter):\n",
    "    theta = update(theta[0], theta[1], theta[2], data.Sample)\n",
    "    ll = log_likelihood(theta[0], theta[1], theta[2], data.Sample)\n",
    "    print(\"{:2d}. p: {:.2f}, mu0: {:.2f}, mu1: {:.2f}   log-Likelihood: {:.2f} \".format(i+1,theta[0],theta[1],theta[2], ll))"
   ]
  },
  {
   "cell_type": "markdown",
   "metadata": {},
   "source": [
    "Even in this setting, the result we get is pretty good."
   ]
  }
 ],
 "metadata": {
  "anaconda-cloud": {},
  "kernelspec": {
   "display_name": "Python [Root]",
   "language": "python",
   "name": "Python [Root]"
  },
  "language_info": {
   "codemirror_mode": {
    "name": "ipython",
    "version": 3
   },
   "file_extension": ".py",
   "mimetype": "text/x-python",
   "name": "python",
   "nbconvert_exporter": "python",
   "pygments_lexer": "ipython3",
   "version": "3.5.2"
  }
 },
 "nbformat": 4,
 "nbformat_minor": 0
}
