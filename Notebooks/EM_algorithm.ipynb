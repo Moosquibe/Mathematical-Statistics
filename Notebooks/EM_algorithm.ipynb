{
 "cells": [
  {
   "cell_type": "markdown",
   "metadata": {},
   "source": [
    "# An example of the Expectation-Maximization (EM) algorithm"
   ]
  },
  {
   "cell_type": "markdown",
   "metadata": {},
   "source": [
    "We consider a sample $Y_1, \\dots, Y_n$ from the mixture density\n",
    "\n",
    "$$ p\\phi_{\\mu_0, 1}(y) + (1-p)\\phi_{\\mu_1,1}(y),$$\n",
    "\n",
    "where $\\phi_{\\mu,\\sigma}(y)$ is the Gaussian density with mean $\\mu$ and variance $\\sigma$, to illustrate the EM algorithm."
   ]
  },
  {
   "cell_type": "markdown",
   "metadata": {},
   "source": [
    "## Generate dataset\n",
    "\n",
    "We start by generating a dataset consisting of 100 samples with $p=0.3$, $\\mu_0 = 0$ and $\\mu_1 = 2$."
   ]
  },
  {
   "cell_type": "code",
   "execution_count": 198,
   "metadata": {
    "collapsed": false
   },
   "outputs": [],
   "source": [
    "import numpy as np\n",
    "import pandas as pd\n",
    "import matplotlib.pyplot as plt\n",
    "%matplotlib inline"
   ]
  },
  {
   "cell_type": "code",
   "execution_count": 224,
   "metadata": {
    "collapsed": false
   },
   "outputs": [],
   "source": [
    "n = 100\n",
    "\n",
    "sample = []\n",
    "cl = []\n",
    "\n",
    "p = 0.3\n",
    "mu0 = 0\n",
    "mu1 = 10\n",
    "\n",
    "# There is probably a better way to do this...\n",
    "for i in range(n):\n",
    "    u = np.random.rand();\n",
    "    if (u <= p):\n",
    "        sample.append(np.random.normal(mu0,1));\n",
    "        cl.append(0)\n",
    "    else:\n",
    "        sample.append(np.random.normal(mu1,1));\n",
    "        cl.append(1)\n",
    "        \n",
    "data = pd.DataFrame(list(zip(sample,cl)), columns = ['Sample', 'Type'])"
   ]
  },
  {
   "cell_type": "code",
   "execution_count": 225,
   "metadata": {
    "collapsed": false
   },
   "outputs": [
    {
     "data": {
      "text/html": [
       "<div>\n",
       "<table border=\"1\" class=\"dataframe\">\n",
       "  <thead>\n",
       "    <tr style=\"text-align: right;\">\n",
       "      <th></th>\n",
       "      <th>Sample</th>\n",
       "      <th>Type</th>\n",
       "    </tr>\n",
       "  </thead>\n",
       "  <tbody>\n",
       "    <tr>\n",
       "      <th>0</th>\n",
       "      <td>10.368004</td>\n",
       "      <td>1</td>\n",
       "    </tr>\n",
       "    <tr>\n",
       "      <th>1</th>\n",
       "      <td>10.896467</td>\n",
       "      <td>1</td>\n",
       "    </tr>\n",
       "    <tr>\n",
       "      <th>2</th>\n",
       "      <td>9.744640</td>\n",
       "      <td>1</td>\n",
       "    </tr>\n",
       "    <tr>\n",
       "      <th>3</th>\n",
       "      <td>8.859434</td>\n",
       "      <td>1</td>\n",
       "    </tr>\n",
       "    <tr>\n",
       "      <th>4</th>\n",
       "      <td>10.535605</td>\n",
       "      <td>1</td>\n",
       "    </tr>\n",
       "  </tbody>\n",
       "</table>\n",
       "</div>"
      ],
      "text/plain": [
       "      Sample  Type\n",
       "0  10.368004     1\n",
       "1  10.896467     1\n",
       "2   9.744640     1\n",
       "3   8.859434     1\n",
       "4  10.535605     1"
      ]
     },
     "execution_count": 225,
     "metadata": {},
     "output_type": "execute_result"
    }
   ],
   "source": [
    "data.head()"
   ]
  },
  {
   "cell_type": "code",
   "execution_count": 226,
   "metadata": {
    "collapsed": false
   },
   "outputs": [
    {
     "data": {
      "image/png": "[encoded data removed]",
      "text/plain": [
       "<matplotlib.figure.Figure at 0x7f0008199f60>"
      ]
     },
     "metadata": {},
     "output_type": "display_data"
    }
   ],
   "source": [
    "plt.figure(figsize=(10,8))\n",
    "type1_data = data[data.Type == 1]\n",
    "type0_data = data[data.Type == 0]\n",
    "plt.scatter(type1_data.Sample, np.zeros(len(type1_data)), s = 200, c = 'r');\n",
    "plt.scatter(type0_data.Sample, np.ones(len(type0_data)), s = 200, c = 'b');\n",
    "\n",
    "plt.show()"
   ]
  },
  {
   "cell_type": "markdown",
   "metadata": {
    "collapsed": true
   },
   "source": [
    "## The iteration rule\n",
    "\n",
    "Now we implement a function carrying out the iterative step using the formulas derived in class. Recall that we first introduced the auxiliary quantity\n",
    "\n",
    "$$\\tau_i^{(j)} = \\frac{p^{(j)}\\phi_{\\mu_1^{(j)},1}(y_i)}{p^{(j)}\\phi_{\\mu_1^{(j)},1}(y_i)+(1-p^{(j)})\\phi_{\\mu_0^{(j)},1}(y_i)}$$\n",
    "\n",
    "in terms of which the update rule takes the form\n",
    "\n",
    "$$p^{(j+1)}=\\frac{1}{n}\\sum_{i=1}^n\\tau_i^{(j)},\\qquad\\mu_0^{(j+1)}=\\frac{\\sum_{i=1}^ny_i(1-\\tau_i^{(j)})}{\\sum_{i=1}^n(1-\\tau_i^{(j)})},\\qquad \\mu_1^{(j+1)}=\\frac{\\sum_{i=1}^ny_i\\tau_i^j}{\\sum_{i=1}^n\\tau_i^j}$$\n"
   ]
  },
  {
   "cell_type": "code",
   "execution_count": 227,
   "metadata": {
    "collapsed": true
   },
   "outputs": [],
   "source": [
    "from scipy import stats"
   ]
  },
  {
   "cell_type": "code",
   "execution_count": 228,
   "metadata": {
    "collapsed": false
   },
   "outputs": [],
   "source": [
    "def tau(p, mu0, mu1, data):\n",
    "    # Computes the tau-factors\n",
    "    a = stats.norm.pdf(data, loc=mu0, scale=1);\n",
    "    b = stats.norm.pdf(data, loc=mu1, scale=1);\n",
    "    \n",
    "    return p * a / (p * a + (1-p) * b)\n",
    "    \n",
    "def update(p_old, mu0_old, mu1_old, y_data):\n",
    "    # Update rule for the iteration\n",
    "    tau_factors = tau(p_old, mu0_old, mu1_old, y_data);\n",
    "    p_new = tau_factors.mean()\n",
    "    mu0_new = np.dot(y_data, 1-tau_factors) / (1-tau_factors).sum()\n",
    "    mu1_new = np.dot(y_data, tau_factors) / tau_factors.sum()\n",
    "    return [p_new, mu0_new, mu1_new]"
   ]
  },
  {
   "cell_type": "markdown",
   "metadata": {},
   "source": [
    "## The iteration"
   ]
  },
  {
   "cell_type": "code",
   "execution_count": 233,
   "metadata": {
    "collapsed": true
   },
   "outputs": [],
   "source": [
    "initial_theta = [0.5, 2, 8]"
   ]
  },
  {
   "cell_type": "code",
   "execution_count": 234,
   "metadata": {
    "collapsed": false
   },
   "outputs": [
    {
     "name": "stdout",
     "output_type": "stream",
     "text": [
      "[0.5, 2, 8]\n",
      "[0.29999995196728846, 9.967581477787034, -0.14206910392865402]\n",
      "[0.70000000000969531, -0.14206863494613045, 9.967581970360115]\n",
      "[0.29999999999030469, 9.9675819703601167, -0.1420686349461299]\n",
      "[0.7000000000096952, -0.14206863494612992, 9.9675819703601167]\n",
      "[0.29999999999030469, 9.9675819703601167, -0.1420686349461299]\n",
      "[0.7000000000096952, -0.14206863494612992, 9.9675819703601167]\n",
      "[0.29999999999030469, 9.9675819703601167, -0.1420686349461299]\n",
      "[0.7000000000096952, -0.14206863494612992, 9.9675819703601167]\n",
      "[0.29999999999030469, 9.9675819703601167, -0.1420686349461299]\n",
      "[0.7000000000096952, -0.14206863494612992, 9.9675819703601167]\n",
      "[0.29999999999030469, 9.9675819703601167, -0.1420686349461299]\n",
      "[0.7000000000096952, -0.14206863494612992, 9.9675819703601167]\n",
      "[0.29999999999030469, 9.9675819703601167, -0.1420686349461299]\n",
      "[0.7000000000096952, -0.14206863494612992, 9.9675819703601167]\n",
      "[0.29999999999030469, 9.9675819703601167, -0.1420686349461299]\n",
      "[0.7000000000096952, -0.14206863494612992, 9.9675819703601167]\n",
      "[0.29999999999030469, 9.9675819703601167, -0.1420686349461299]\n",
      "[0.7000000000096952, -0.14206863494612992, 9.9675819703601167]\n",
      "[0.29999999999030469, 9.9675819703601167, -0.1420686349461299]\n",
      "[0.7000000000096952, -0.14206863494612992, 9.9675819703601167]\n"
     ]
    }
   ],
   "source": [
    "num_of_iter = 20\n",
    "\n",
    "theta = initial_theta\n",
    "print(theta)\n",
    "\n",
    "for i in range(num_of_iter):\n",
    "    theta = update(theta[0], theta[1], theta[2], data.Sample)\n",
    "    print(theta)"
   ]
  },
  {
   "cell_type": "markdown",
   "metadata": {},
   "source": [
    "We see that the algorithm quickly settles in to two sets of values it then oscillates in between. This is because the role of the components of the mixture are perfectly symmetric. Indeed the two sets of values are mirror images of each other."
   ]
  },
  {
   "cell_type": "markdown",
   "metadata": {},
   "source": [
    "## Non-separable data\n",
    "\n",
    "The above situation worked well because the two components of the mixture were well separated. Let us look at the case of non-separable data."
   ]
  },
  {
   "cell_type": "code",
   "execution_count": 254,
   "metadata": {
    "collapsed": true
   },
   "outputs": [],
   "source": [
    "n = 1000\n",
    "\n",
    "sample = []\n",
    "cl = []\n",
    "\n",
    "p = 0.3\n",
    "mu0 = 0\n",
    "mu1 = 2\n",
    "\n",
    "# There is probably a better way to do this...\n",
    "for i in range(n):\n",
    "    u = np.random.rand();\n",
    "    if (u <= p):\n",
    "        sample.append(np.random.normal(mu0,1));\n",
    "        cl.append(0)\n",
    "    else:\n",
    "        sample.append(np.random.normal(mu1,1));\n",
    "        cl.append(1)\n",
    "        \n",
    "data = pd.DataFrame(list(zip(sample,cl)), columns = ['Sample', 'Type'])"
   ]
  },
  {
   "cell_type": "code",
   "execution_count": 255,
   "metadata": {
    "collapsed": false
   },
   "outputs": [
    {
     "data": {
      "image/png": "[encoded data removed]",
      "text/plain": [
       "<matplotlib.figure.Figure at 0x7effebbfe438>"
      ]
     },
     "metadata": {},
     "output_type": "display_data"
    }
   ],
   "source": [
    "plt.figure(figsize=(10,8))\n",
    "type1_data = data[data.Type == 1]\n",
    "type0_data = data[data.Type == 0]\n",
    "plt.scatter(type1_data.Sample, np.zeros(len(type1_data)), s = 200, c = 'r');\n",
    "plt.scatter(type0_data.Sample, np.ones(len(type0_data)), s = 200, c = 'b');\n",
    "\n",
    "plt.show()"
   ]
  },
  {
   "cell_type": "code",
   "execution_count": 256,
   "metadata": {
    "collapsed": false
   },
   "outputs": [
    {
     "name": "stdout",
     "output_type": "stream",
     "text": [
      "[0.3, 0, 2]\n",
      "[0.31851157348752679, 1.975880325438782, -0.052643975499454855]\n",
      "[0.51321841922493106, 0.34654666607557638, 2.2623492865243167]\n",
      "[0.48659318176640515, 2.2475238618322142, 0.36144728342357418]\n",
      "[0.51296017407522132, 0.36674477112906484, 2.2441363037102562]\n",
      "[0.48714253744854102, 2.2430746943991862, 0.36825825834446513]\n",
      "[0.51282584846363943, 0.3687116636257729, 2.2427595450707107]\n",
      "[0.48718348584900306, 2.242665115822013, 0.36884696752850765]\n",
      "[0.51281372084653898, 0.36888743616066727, 2.2426368762934117]\n",
      "[0.48718711412344651, 2.2426284280991995, 0.3688995400674126]\n",
      "[0.51281263611526906, 0.36890316075644702, 2.2426259009208094]\n"
     ]
    }
   ],
   "source": [
    "initial_theta = [0.3, 0, 2]\n",
    "\n",
    "num_of_iter = 10\n",
    "\n",
    "theta = initial_theta\n",
    "print(theta)\n",
    "\n",
    "for i in range(num_of_iter):\n",
    "    theta = update(theta[0], theta[1], theta[2], data.Sample)\n",
    "    print(theta)"
   ]
  },
  {
   "cell_type": "markdown",
   "metadata": {},
   "source": [
    "We see that the MLE in this case does not recover the true parameters. "
   ]
  }
 ],
 "metadata": {
  "anaconda-cloud": {},
  "kernelspec": {
   "display_name": "Python [Root]",
   "language": "python",
   "name": "Python [Root]"
  },
  "language_info": {
   "codemirror_mode": {
    "name": "ipython",
    "version": 3
   },
   "file_extension": ".py",
   "mimetype": "text/x-python",
   "name": "python",
   "nbconvert_exporter": "python",
   "pygments_lexer": "ipython3",
   "version": "3.5.2"
  }
 },
 "nbformat": 4,
 "nbformat_minor": 0
}
