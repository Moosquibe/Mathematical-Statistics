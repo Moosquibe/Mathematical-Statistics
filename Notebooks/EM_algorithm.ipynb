{
 "cells": [
  {
   "cell_type": "markdown",
   "metadata": {},
   "source": [
    "# An example of the Expectation-Maximization (EM) algorithm"
   ]
  },
  {
   "cell_type": "markdown",
   "metadata": {},
   "source": [
    "We consider a sample $Y_1, \\dots, Y_n$ from the mixture density\n",
    "\n",
    "$$ (1-p)\\phi_{\\mu_0, 1}(y) + p\\phi_{\\mu_1,1}(y),$$\n",
    "\n",
    "where $\\phi_{\\mu,\\sigma}(y)$ is the Gaussian density with mean $\\mu$ and variance $\\sigma$, to illustrate the EM algorithm used to find the maximum likelihood estimator of the parameters."
   ]
  },
  {
   "cell_type": "markdown",
   "metadata": {},
   "source": [
    "## Generate dataset\n",
    "\n",
    "We start by generating a dataset consisting of 100 samples with $p=0.3$, $\\mu_0 = 0$ and $\\mu_1 = 10$."
   ]
  },
  {
   "cell_type": "code",
   "execution_count": 4,
   "metadata": {
    "collapsed": false
   },
   "outputs": [],
   "source": [
    "import numpy as np\n",
    "import pandas as pd\n",
    "import matplotlib.pyplot as plt\n",
    "%matplotlib inline"
   ]
  },
  {
   "cell_type": "code",
   "execution_count": 5,
   "metadata": {
    "collapsed": false
   },
   "outputs": [],
   "source": [
    "n = 100\n",
    "\n",
    "sample = []\n",
    "cl = [] # To store the class indices\n",
    "\n",
    "p = 0.3\n",
    "mu0 = 0\n",
    "mu1 = 10\n",
    "\n",
    "# There is probably a better way to do this...\n",
    "for i in range(n):\n",
    "    u = np.random.rand();\n",
    "    if (u <= 1-p):\n",
    "        sample.append(np.random.normal(mu0,1));\n",
    "        cl.append(0)\n",
    "    else:\n",
    "        sample.append(np.random.normal(mu1,1));\n",
    "        cl.append(1)\n",
    "        \n",
    "data = pd.DataFrame(list(zip(sample,cl)), columns = ['Sample', 'Type'])"
   ]
  },
  {
   "cell_type": "code",
   "execution_count": 6,
   "metadata": {
    "collapsed": false
   },
   "outputs": [
    {
     "data": {
      "text/html": [
       "<div>\n",
       "<table border=\"1\" class=\"dataframe\">\n",
       "  <thead>\n",
       "    <tr style=\"text-align: right;\">\n",
       "      <th></th>\n",
       "      <th>Sample</th>\n",
       "      <th>Type</th>\n",
       "    </tr>\n",
       "  </thead>\n",
       "  <tbody>\n",
       "    <tr>\n",
       "      <th>0</th>\n",
       "      <td>1.084045</td>\n",
       "      <td>0</td>\n",
       "    </tr>\n",
       "    <tr>\n",
       "      <th>1</th>\n",
       "      <td>1.478673</td>\n",
       "      <td>0</td>\n",
       "    </tr>\n",
       "    <tr>\n",
       "      <th>2</th>\n",
       "      <td>0.117113</td>\n",
       "      <td>0</td>\n",
       "    </tr>\n",
       "    <tr>\n",
       "      <th>3</th>\n",
       "      <td>1.335372</td>\n",
       "      <td>0</td>\n",
       "    </tr>\n",
       "    <tr>\n",
       "      <th>4</th>\n",
       "      <td>-1.400733</td>\n",
       "      <td>0</td>\n",
       "    </tr>\n",
       "  </tbody>\n",
       "</table>\n",
       "</div>"
      ],
      "text/plain": [
       "     Sample  Type\n",
       "0  1.084045     0\n",
       "1  1.478673     0\n",
       "2  0.117113     0\n",
       "3  1.335372     0\n",
       "4 -1.400733     0"
      ]
     },
     "execution_count": 6,
     "metadata": {},
     "output_type": "execute_result"
    }
   ],
   "source": [
    "data.head()"
   ]
  },
  {
   "cell_type": "code",
   "execution_count": 7,
   "metadata": {
    "collapsed": false
   },
   "outputs": [
    {
     "data": {
      "image/png": "[encoded data removed]",
      "text/plain": [
       "<matplotlib.figure.Figure at 0x7f209ca6dfd0>"
      ]
     },
     "metadata": {},
     "output_type": "display_data"
    }
   ],
   "source": [
    "plt.figure(figsize=(10,8))\n",
    "type1_data = data[data.Type == 1]\n",
    "type0_data = data[data.Type == 0]\n",
    "plt.scatter(type1_data.Sample, np.zeros(len(type1_data)), s = 200, c = 'r');\n",
    "plt.scatter(type0_data.Sample, np.ones(len(type0_data)), s = 200, c = 'b');\n",
    "\n",
    "plt.show()"
   ]
  },
  {
   "cell_type": "markdown",
   "metadata": {
    "collapsed": true
   },
   "source": [
    "## The iteration rule\n",
    "\n",
    "Now we implement a function carrying out the iterative step using the formulas derived in class. Recall that we first introduced the auxiliary quantity\n",
    "\n",
    "$$\\tau_i^{(j)} = \\frac{p^{(j)}\\phi_{\\mu_1^{(j)},1}(y_i)}{p^{(j)}\\phi_{\\mu_1^{(j)},1}(y_i)+(1-p^{(j)})\\phi_{\\mu_0^{(j)},1}(y_i)}$$\n",
    "\n",
    "in terms of which the update rule takes the form\n",
    "\n",
    "$$p^{(j+1)}=\\frac{1}{n}\\sum_{i=1}^n\\tau_i^{(j)},\\qquad\\mu_0^{(j+1)}=\\frac{\\sum_{i=1}^ny_i(1-\\tau_i^{(j)})}{\\sum_{i=1}^n(1-\\tau_i^{(j)})},\\qquad \\mu_1^{(j+1)}=\\frac{\\sum_{i=1}^ny_i\\tau_i^j}{\\sum_{i=1}^n\\tau_i^j}$$\n"
   ]
  },
  {
   "cell_type": "code",
   "execution_count": 8,
   "metadata": {
    "collapsed": true
   },
   "outputs": [],
   "source": [
    "from scipy import stats"
   ]
  },
  {
   "cell_type": "code",
   "execution_count": 9,
   "metadata": {
    "collapsed": false
   },
   "outputs": [],
   "source": [
    "def tau(p, mu0, mu1, data):\n",
    "    # Computes the tau-factors\n",
    "    a = stats.norm.pdf(data, loc=mu0, scale=1);\n",
    "    b = stats.norm.pdf(data, loc=mu1, scale=1);\n",
    "    \n",
    "    return p * b / (p * b + (1-p) * a)\n",
    "    \n",
    "def update(p_old, mu0_old, mu1_old, y_data):\n",
    "    # Update rule for the iteration\n",
    "    if p_old == 1:\n",
    "        return [1, mu0_old, y_data.mean()]\n",
    "    elif p_old == 0:\n",
    "        return [0, y_data.mean(), mu1_old]\n",
    "    else:\n",
    "        tau_factors = tau(p_old, mu0_old, mu1_old, y_data);\n",
    "        p_new = tau_factors.mean()\n",
    "        mu0_new = np.dot(y_data, 1-tau_factors) / (1-tau_factors).sum()\n",
    "        mu1_new = np.dot(y_data, tau_factors) / tau_factors.sum()\n",
    "        return [p_new, mu0_new, mu1_new]\n",
    "\n",
    "def log_likelihood(p, mu0, mu1, data):\n",
    "    return (np.log((1-p)*stats.norm.pdf(data, loc=mu0, scale=1) + p * stats.norm.pdf(data, loc=mu1, scale=1))).sum();"
   ]
  },
  {
   "cell_type": "markdown",
   "metadata": {},
   "source": [
    "## The iteration"
   ]
  },
  {
   "cell_type": "code",
   "execution_count": 13,
   "metadata": {
    "collapsed": true
   },
   "outputs": [],
   "source": [
    "initial_theta = [0.1, 0, 1]"
   ]
  },
  {
   "cell_type": "code",
   "execution_count": 14,
   "metadata": {
    "collapsed": false
   },
   "outputs": [
    {
     "name": "stdout",
     "output_type": "stream",
     "text": [
      "Initial: [0.1, 0, 1] log-Likelihood: -1328.53\n",
      " 1. p: 0.36, mu0: -0.16, mu1: 8.10   log-Likelihood: -255.98 \n",
      " 2. p: 0.29, mu0: -0.05, mu1: 9.74   log-Likelihood: -215.69 \n",
      " 3. p: 0.29, mu0: -0.05, mu1: 9.74   log-Likelihood: -215.69 \n",
      " 4. p: 0.29, mu0: -0.05, mu1: 9.74   log-Likelihood: -215.69 \n",
      " 5. p: 0.29, mu0: -0.05, mu1: 9.74   log-Likelihood: -215.69 \n",
      " 6. p: 0.29, mu0: -0.05, mu1: 9.74   log-Likelihood: -215.69 \n",
      " 7. p: 0.29, mu0: -0.05, mu1: 9.74   log-Likelihood: -215.69 \n",
      " 8. p: 0.29, mu0: -0.05, mu1: 9.74   log-Likelihood: -215.69 \n",
      " 9. p: 0.29, mu0: -0.05, mu1: 9.74   log-Likelihood: -215.69 \n",
      "10. p: 0.29, mu0: -0.05, mu1: 9.74   log-Likelihood: -215.69 \n",
      "11. p: 0.29, mu0: -0.05, mu1: 9.74   log-Likelihood: -215.69 \n",
      "12. p: 0.29, mu0: -0.05, mu1: 9.74   log-Likelihood: -215.69 \n",
      "13. p: 0.29, mu0: -0.05, mu1: 9.74   log-Likelihood: -215.69 \n",
      "14. p: 0.29, mu0: -0.05, mu1: 9.74   log-Likelihood: -215.69 \n",
      "15. p: 0.29, mu0: -0.05, mu1: 9.74   log-Likelihood: -215.69 \n"
     ]
    }
   ],
   "source": [
    "num_of_iter = 15\n",
    "\n",
    "theta = initial_theta\n",
    "ll = log_likelihood(theta[0], theta[1], theta[2], data.Sample)\n",
    "print(\"Initial: {} log-Likelihood: {:.2f}\".format(theta, ll))\n",
    "\n",
    "for i in range(num_of_iter):\n",
    "    theta = update(theta[0], theta[1], theta[2], data.Sample)\n",
    "    ll = log_likelihood(theta[0], theta[1], theta[2], data.Sample)\n",
    "    print(\"{:2d}. p: {:.2f}, mu0: {:.2f}, mu1: {:.2f}   log-Likelihood: {:.2f} \".format(i+1,theta[0],theta[1],theta[2], ll))"
   ]
  },
  {
   "cell_type": "markdown",
   "metadata": {},
   "source": [
    "Note that the algorithm converges pretty quickly. We coul tweak this implementation by stopping the iteration, when the log-likelihood is not increasing anymore."
   ]
  },
  {
   "cell_type": "markdown",
   "metadata": {},
   "source": [
    "## Non-separable data\n",
    "\n",
    "The above situation worked well because the two components of the mixture were well separated. Let us look at the case of non-separable data."
   ]
  },
  {
   "cell_type": "code",
   "execution_count": 25,
   "metadata": {
    "collapsed": true
   },
   "outputs": [],
   "source": [
    "n = 100\n",
    "\n",
    "sample = []\n",
    "cl = []\n",
    "\n",
    "p = 0.3\n",
    "mu0 = 0\n",
    "mu1 = 2\n",
    "\n",
    "# There is probably a better way to do this...\n",
    "for i in range(n):\n",
    "    u = np.random.rand();\n",
    "    if (u <= 1-p):\n",
    "        sample.append(np.random.normal(mu0,1));\n",
    "        cl.append(0)\n",
    "    else:\n",
    "        sample.append(np.random.normal(mu1,1));\n",
    "        cl.append(1)\n",
    "        \n",
    "data = pd.DataFrame(list(zip(sample,cl)), columns = ['Sample', 'Type'])"
   ]
  },
  {
   "cell_type": "code",
   "execution_count": 26,
   "metadata": {
    "collapsed": false
   },
   "outputs": [
    {
     "data": {
      "image/png": "[encoded data removed]",
      "text/plain": [
       "<matplotlib.figure.Figure at 0x7f2093a43198>"
      ]
     },
     "metadata": {},
     "output_type": "display_data"
    }
   ],
   "source": [
    "plt.figure(figsize=(10,8))\n",
    "type1_data = data[data.Type == 1]\n",
    "type0_data = data[data.Type == 0]\n",
    "plt.scatter(type1_data.Sample, np.zeros(len(type1_data)), s = 200, c = 'r');\n",
    "plt.scatter(type0_data.Sample, np.ones(len(type0_data)), s = 200, c = 'b');\n",
    "\n",
    "plt.show()"
   ]
  },
  {
   "cell_type": "code",
   "execution_count": 29,
   "metadata": {
    "collapsed": false
   },
   "outputs": [
    {
     "name": "stdout",
     "output_type": "stream",
     "text": [
      "Initial: [0.1, -1, 1] log-Likelihood: -238.74\n",
      " 1. p: 0.35, mu0: 0.01, mu1: 1.80   log-Likelihood: -171.58 \n",
      " 2. p: 0.32, mu0: 0.06, mu1: 1.85   log-Likelihood: -171.01 \n",
      " 3. p: 0.30, mu0: 0.09, mu1: 1.92   log-Likelihood: -170.47 \n",
      " 4. p: 0.27, mu0: 0.12, mu1: 2.02   log-Likelihood: -169.91 \n",
      " 5. p: 0.25, mu0: 0.14, mu1: 2.12   log-Likelihood: -169.34 \n",
      " 6. p: 0.23, mu0: 0.17, mu1: 2.23   log-Likelihood: -168.77 \n",
      " 7. p: 0.21, mu0: 0.19, mu1: 2.34   log-Likelihood: -168.22 \n",
      " 8. p: 0.19, mu0: 0.21, mu1: 2.46   log-Likelihood: -167.72 \n",
      " 9. p: 0.17, mu0: 0.23, mu1: 2.58   log-Likelihood: -167.27 \n",
      "10. p: 0.16, mu0: 0.25, mu1: 2.70   log-Likelihood: -166.90 \n",
      "11. p: 0.14, mu0: 0.27, mu1: 2.81   log-Likelihood: -166.61 \n",
      "12. p: 0.13, mu0: 0.29, mu1: 2.90   log-Likelihood: -166.39 \n",
      "13. p: 0.12, mu0: 0.30, mu1: 2.99   log-Likelihood: -166.25 \n",
      "14. p: 0.12, mu0: 0.31, mu1: 3.05   log-Likelihood: -166.15 \n",
      "15. p: 0.11, mu0: 0.32, mu1: 3.11   log-Likelihood: -166.10 \n",
      "16. p: 0.11, mu0: 0.33, mu1: 3.15   log-Likelihood: -166.06 \n",
      "17. p: 0.11, mu0: 0.33, mu1: 3.19   log-Likelihood: -166.04 \n",
      "18. p: 0.10, mu0: 0.33, mu1: 3.21   log-Likelihood: -166.03 \n",
      "19. p: 0.10, mu0: 0.34, mu1: 3.23   log-Likelihood: -166.02 \n",
      "20. p: 0.10, mu0: 0.34, mu1: 3.24   log-Likelihood: -166.02 \n",
      "21. p: 0.10, mu0: 0.34, mu1: 3.26   log-Likelihood: -166.02 \n",
      "22. p: 0.10, mu0: 0.34, mu1: 3.26   log-Likelihood: -166.01 \n",
      "23. p: 0.10, mu0: 0.34, mu1: 3.27   log-Likelihood: -166.01 \n",
      "24. p: 0.10, mu0: 0.34, mu1: 3.27   log-Likelihood: -166.01 \n",
      "25. p: 0.10, mu0: 0.35, mu1: 3.28   log-Likelihood: -166.01 \n",
      "26. p: 0.10, mu0: 0.35, mu1: 3.28   log-Likelihood: -166.01 \n",
      "27. p: 0.10, mu0: 0.35, mu1: 3.28   log-Likelihood: -166.01 \n",
      "28. p: 0.10, mu0: 0.35, mu1: 3.28   log-Likelihood: -166.01 \n",
      "29. p: 0.10, mu0: 0.35, mu1: 3.28   log-Likelihood: -166.01 \n",
      "30. p: 0.10, mu0: 0.35, mu1: 3.28   log-Likelihood: -166.01 \n"
     ]
    }
   ],
   "source": [
    "initial_theta = [0.1, -1, 1]\n",
    "\n",
    "num_of_iter = 30\n",
    "\n",
    "theta = initial_theta\n",
    "ll = log_likelihood(theta[0], theta[1], theta[2], data.Sample)\n",
    "print(\"Initial: {} log-Likelihood: {:.2f}\".format(theta, ll))\n",
    "\n",
    "for i in range(num_of_iter):\n",
    "    theta = update(theta[0], theta[1], theta[2], data.Sample)\n",
    "    ll = log_likelihood(theta[0], theta[1], theta[2], data.Sample)\n",
    "    print(\"{:2d}. p: {:.2f}, mu0: {:.2f}, mu1: {:.2f}   log-Likelihood: {:.2f} \".format(i+1,theta[0],theta[1],theta[2], ll))"
   ]
  },
  {
   "cell_type": "markdown",
   "metadata": {},
   "source": [
    "Here we see that while the log likelihood is increasing on every step as it should. The parameter values are not getting close to the real one. In general, we cannot guarrantee that we will find the global maximum of the likelihood function, we can get stuck in a local maximum as well and therefore a lot depends on initialization. Also note that our estimator itself is random so we are also limited by the finite sample size:"
   ]
  },
  {
   "cell_type": "code",
   "execution_count": 32,
   "metadata": {
    "collapsed": false
   },
   "outputs": [
    {
     "name": "stdout",
     "output_type": "stream",
     "text": [
      "Initial: [0.3, 0, 2] log-Likelihood: -170.81\n",
      " 1. p: 0.28, mu0: 0.10, mu1: 2.03   log-Likelihood: -169.97 \n",
      " 2. p: 0.25, mu0: 0.14, mu1: 2.12   log-Likelihood: -169.39 \n",
      " 3. p: 0.23, mu0: 0.16, mu1: 2.22   log-Likelihood: -168.82 \n",
      " 4. p: 0.21, mu0: 0.19, mu1: 2.33   log-Likelihood: -168.27 \n",
      " 5. p: 0.19, mu0: 0.21, mu1: 2.45   log-Likelihood: -167.76 \n",
      " 6. p: 0.17, mu0: 0.23, mu1: 2.57   log-Likelihood: -167.30 \n",
      " 7. p: 0.16, mu0: 0.25, mu1: 2.69   log-Likelihood: -166.92 \n",
      " 8. p: 0.14, mu0: 0.27, mu1: 2.80   log-Likelihood: -166.63 \n",
      " 9. p: 0.13, mu0: 0.28, mu1: 2.89   log-Likelihood: -166.41 \n",
      "10. p: 0.13, mu0: 0.30, mu1: 2.98   log-Likelihood: -166.26 \n",
      "11. p: 0.12, mu0: 0.31, mu1: 3.05   log-Likelihood: -166.16 \n",
      "12. p: 0.11, mu0: 0.32, mu1: 3.11   log-Likelihood: -166.10 \n",
      "13. p: 0.11, mu0: 0.32, mu1: 3.15   log-Likelihood: -166.06 \n",
      "14. p: 0.11, mu0: 0.33, mu1: 3.18   log-Likelihood: -166.04 \n",
      "15. p: 0.10, mu0: 0.33, mu1: 3.21   log-Likelihood: -166.03 \n",
      "16. p: 0.10, mu0: 0.34, mu1: 3.23   log-Likelihood: -166.02 \n",
      "17. p: 0.10, mu0: 0.34, mu1: 3.24   log-Likelihood: -166.02 \n",
      "18. p: 0.10, mu0: 0.34, mu1: 3.25   log-Likelihood: -166.02 \n",
      "19. p: 0.10, mu0: 0.34, mu1: 3.26   log-Likelihood: -166.01 \n",
      "20. p: 0.10, mu0: 0.34, mu1: 3.27   log-Likelihood: -166.01 \n",
      "21. p: 0.10, mu0: 0.34, mu1: 3.27   log-Likelihood: -166.01 \n",
      "22. p: 0.10, mu0: 0.35, mu1: 3.28   log-Likelihood: -166.01 \n",
      "23. p: 0.10, mu0: 0.35, mu1: 3.28   log-Likelihood: -166.01 \n",
      "24. p: 0.10, mu0: 0.35, mu1: 3.28   log-Likelihood: -166.01 \n",
      "25. p: 0.10, mu0: 0.35, mu1: 3.28   log-Likelihood: -166.01 \n",
      "26. p: 0.10, mu0: 0.35, mu1: 3.28   log-Likelihood: -166.01 \n",
      "27. p: 0.10, mu0: 0.35, mu1: 3.28   log-Likelihood: -166.01 \n",
      "28. p: 0.10, mu0: 0.35, mu1: 3.28   log-Likelihood: -166.01 \n",
      "29. p: 0.10, mu0: 0.35, mu1: 3.28   log-Likelihood: -166.01 \n",
      "30. p: 0.10, mu0: 0.35, mu1: 3.28   log-Likelihood: -166.01 \n"
     ]
    }
   ],
   "source": [
    "initial_theta = [0.3, 0, 2]\n",
    "\n",
    "num_of_iter = 30\n",
    "\n",
    "theta = initial_theta\n",
    "ll = log_likelihood(theta[0], theta[1], theta[2], data.Sample)\n",
    "print(\"Initial: {} log-Likelihood: {:.2f}\".format(theta, ll))\n",
    "\n",
    "for i in range(num_of_iter):\n",
    "    theta = update(theta[0], theta[1], theta[2], data.Sample)\n",
    "    ll = log_likelihood(theta[0], theta[1], theta[2], data.Sample)\n",
    "    print(\"{:2d}. p: {:.2f}, mu0: {:.2f}, mu1: {:.2f}   log-Likelihood: {:.2f} \".format(i+1,theta[0],theta[1],theta[2], ll))"
   ]
  },
  {
   "cell_type": "markdown",
   "metadata": {},
   "source": [
    "Now let us try this on a much larger dataset:"
   ]
  },
  {
   "cell_type": "code",
   "execution_count": 35,
   "metadata": {
    "collapsed": true
   },
   "outputs": [],
   "source": [
    "n = 1000\n",
    "\n",
    "sample = []\n",
    "cl = []\n",
    "\n",
    "p = 0.3\n",
    "mu0 = 0\n",
    "mu1 = 2\n",
    "\n",
    "# There is probably a better way to do this...\n",
    "for i in range(n):\n",
    "    u = np.random.rand();\n",
    "    if (u <= 1-p):\n",
    "        sample.append(np.random.normal(mu0,1));\n",
    "        cl.append(0)\n",
    "    else:\n",
    "        sample.append(np.random.normal(mu1,1));\n",
    "        cl.append(1)\n",
    "        \n",
    "data = pd.DataFrame(list(zip(sample,cl)), columns = ['Sample', 'Type'])"
   ]
  },
  {
   "cell_type": "code",
   "execution_count": 36,
   "metadata": {
    "collapsed": false
   },
   "outputs": [
    {
     "name": "stdout",
     "output_type": "stream",
     "text": [
      "Initial: [0.3, 0, 2] log-Likelihood: -1667.82\n",
      " 1. p: 0.29, mu0: 0.05, mu1: 1.91   log-Likelihood: -1665.36 \n",
      " 2. p: 0.29, mu0: 0.06, mu1: 1.89   log-Likelihood: -1665.15 \n",
      " 3. p: 0.29, mu0: 0.06, mu1: 1.88   log-Likelihood: -1665.12 \n",
      " 4. p: 0.29, mu0: 0.07, mu1: 1.88   log-Likelihood: -1665.12 \n",
      " 5. p: 0.29, mu0: 0.07, mu1: 1.88   log-Likelihood: -1665.12 \n",
      " 6. p: 0.29, mu0: 0.07, mu1: 1.88   log-Likelihood: -1665.12 \n",
      " 7. p: 0.29, mu0: 0.07, mu1: 1.88   log-Likelihood: -1665.12 \n",
      " 8. p: 0.29, mu0: 0.07, mu1: 1.88   log-Likelihood: -1665.12 \n",
      " 9. p: 0.29, mu0: 0.07, mu1: 1.88   log-Likelihood: -1665.12 \n",
      "10. p: 0.29, mu0: 0.07, mu1: 1.88   log-Likelihood: -1665.12 \n",
      "11. p: 0.29, mu0: 0.07, mu1: 1.89   log-Likelihood: -1665.12 \n",
      "12. p: 0.29, mu0: 0.07, mu1: 1.89   log-Likelihood: -1665.12 \n",
      "13. p: 0.29, mu0: 0.07, mu1: 1.89   log-Likelihood: -1665.12 \n",
      "14. p: 0.29, mu0: 0.07, mu1: 1.89   log-Likelihood: -1665.12 \n",
      "15. p: 0.29, mu0: 0.07, mu1: 1.89   log-Likelihood: -1665.12 \n",
      "16. p: 0.29, mu0: 0.07, mu1: 1.89   log-Likelihood: -1665.12 \n",
      "17. p: 0.29, mu0: 0.07, mu1: 1.89   log-Likelihood: -1665.12 \n",
      "18. p: 0.29, mu0: 0.07, mu1: 1.89   log-Likelihood: -1665.12 \n",
      "19. p: 0.29, mu0: 0.07, mu1: 1.89   log-Likelihood: -1665.12 \n",
      "20. p: 0.29, mu0: 0.07, mu1: 1.89   log-Likelihood: -1665.12 \n",
      "21. p: 0.29, mu0: 0.07, mu1: 1.89   log-Likelihood: -1665.12 \n",
      "22. p: 0.29, mu0: 0.07, mu1: 1.89   log-Likelihood: -1665.12 \n",
      "23. p: 0.29, mu0: 0.07, mu1: 1.89   log-Likelihood: -1665.12 \n",
      "24. p: 0.29, mu0: 0.07, mu1: 1.89   log-Likelihood: -1665.12 \n",
      "25. p: 0.29, mu0: 0.07, mu1: 1.89   log-Likelihood: -1665.12 \n",
      "26. p: 0.29, mu0: 0.07, mu1: 1.89   log-Likelihood: -1665.12 \n",
      "27. p: 0.29, mu0: 0.07, mu1: 1.89   log-Likelihood: -1665.12 \n",
      "28. p: 0.29, mu0: 0.07, mu1: 1.89   log-Likelihood: -1665.12 \n",
      "29. p: 0.29, mu0: 0.07, mu1: 1.89   log-Likelihood: -1665.12 \n",
      "30. p: 0.29, mu0: 0.07, mu1: 1.89   log-Likelihood: -1665.12 \n"
     ]
    }
   ],
   "source": [
    "initial_theta = [0.3, 0, 2]\n",
    "\n",
    "num_of_iter = 30\n",
    "\n",
    "theta = initial_theta\n",
    "ll = log_likelihood(theta[0], theta[1], theta[2], data.Sample)\n",
    "print(\"Initial: {} log-Likelihood: {:.2f}\".format(theta, ll))\n",
    "\n",
    "for i in range(num_of_iter):\n",
    "    theta = update(theta[0], theta[1], theta[2], data.Sample)\n",
    "    ll = log_likelihood(theta[0], theta[1], theta[2], data.Sample)\n",
    "    print(\"{:2d}. p: {:.2f}, mu0: {:.2f}, mu1: {:.2f}   log-Likelihood: {:.2f} \".format(i+1,theta[0],theta[1],theta[2], ll))"
   ]
  },
  {
   "cell_type": "markdown",
   "metadata": {},
   "source": [
    "Much better. Also note that the convergence is also much faster. Here is one more with the off initialization:"
   ]
  },
  {
   "cell_type": "code",
   "execution_count": 37,
   "metadata": {
    "collapsed": false
   },
   "outputs": [
    {
     "name": "stdout",
     "output_type": "stream",
     "text": [
      "Initial: [0.1, -1, 1] log-Likelihood: -2296.02\n",
      " 1. p: 0.36, mu0: -0.07, mu1: 1.74   log-Likelihood: -1667.12 \n",
      " 2. p: 0.36, mu0: -0.04, mu1: 1.72   log-Likelihood: -1666.44 \n",
      " 3. p: 0.35, mu0: -0.02, mu1: 1.72   log-Likelihood: -1666.24 \n",
      " 4. p: 0.35, mu0: -0.01, mu1: 1.73   log-Likelihood: -1666.10 \n",
      " 5. p: 0.34, mu0: -0.01, mu1: 1.73   log-Likelihood: -1665.99 \n",
      " 6. p: 0.34, mu0: -0.00, mu1: 1.74   log-Likelihood: -1665.89 \n",
      " 7. p: 0.34, mu0: 0.00, mu1: 1.75   log-Likelihood: -1665.80 \n",
      " 8. p: 0.33, mu0: 0.01, mu1: 1.76   log-Likelihood: -1665.72 \n",
      " 9. p: 0.33, mu0: 0.01, mu1: 1.77   log-Likelihood: -1665.65 \n",
      "10. p: 0.33, mu0: 0.02, mu1: 1.78   log-Likelihood: -1665.59 \n",
      "11. p: 0.33, mu0: 0.02, mu1: 1.78   log-Likelihood: -1665.53 \n",
      "12. p: 0.32, mu0: 0.02, mu1: 1.79   log-Likelihood: -1665.48 \n",
      "13. p: 0.32, mu0: 0.03, mu1: 1.80   log-Likelihood: -1665.44 \n",
      "14. p: 0.32, mu0: 0.03, mu1: 1.80   log-Likelihood: -1665.40 \n",
      "15. p: 0.32, mu0: 0.03, mu1: 1.81   log-Likelihood: -1665.37 \n",
      "16. p: 0.31, mu0: 0.03, mu1: 1.81   log-Likelihood: -1665.34 \n",
      "17. p: 0.31, mu0: 0.04, mu1: 1.82   log-Likelihood: -1665.31 \n",
      "18. p: 0.31, mu0: 0.04, mu1: 1.82   log-Likelihood: -1665.29 \n",
      "19. p: 0.31, mu0: 0.04, mu1: 1.83   log-Likelihood: -1665.27 \n",
      "20. p: 0.31, mu0: 0.04, mu1: 1.83   log-Likelihood: -1665.25 \n",
      "21. p: 0.31, mu0: 0.04, mu1: 1.83   log-Likelihood: -1665.23 \n",
      "22. p: 0.30, mu0: 0.05, mu1: 1.84   log-Likelihood: -1665.22 \n",
      "23. p: 0.30, mu0: 0.05, mu1: 1.84   log-Likelihood: -1665.20 \n",
      "24. p: 0.30, mu0: 0.05, mu1: 1.85   log-Likelihood: -1665.19 \n",
      "25. p: 0.30, mu0: 0.05, mu1: 1.85   log-Likelihood: -1665.18 \n",
      "26. p: 0.30, mu0: 0.05, mu1: 1.85   log-Likelihood: -1665.18 \n",
      "27. p: 0.30, mu0: 0.05, mu1: 1.85   log-Likelihood: -1665.17 \n",
      "28. p: 0.30, mu0: 0.06, mu1: 1.86   log-Likelihood: -1665.16 \n",
      "29. p: 0.30, mu0: 0.06, mu1: 1.86   log-Likelihood: -1665.16 \n",
      "30. p: 0.30, mu0: 0.06, mu1: 1.86   log-Likelihood: -1665.15 \n"
     ]
    }
   ],
   "source": [
    "initial_theta = [0.1, -1, 1]\n",
    "\n",
    "num_of_iter = 30\n",
    "\n",
    "theta = initial_theta\n",
    "ll = log_likelihood(theta[0], theta[1], theta[2], data.Sample)\n",
    "print(\"Initial: {} log-Likelihood: {:.2f}\".format(theta, ll))\n",
    "\n",
    "for i in range(num_of_iter):\n",
    "    theta = update(theta[0], theta[1], theta[2], data.Sample)\n",
    "    ll = log_likelihood(theta[0], theta[1], theta[2], data.Sample)\n",
    "    print(\"{:2d}. p: {:.2f}, mu0: {:.2f}, mu1: {:.2f}   log-Likelihood: {:.2f} \".format(i+1,theta[0],theta[1],theta[2], ll))"
   ]
  },
  {
   "cell_type": "markdown",
   "metadata": {},
   "source": [
    "Pretty good! Feel free to play around and get a feel for how the algorithm behaves with different initialization, sample sizes, and parameters."
   ]
  }
 ],
 "metadata": {
  "anaconda-cloud": {},
  "kernelspec": {
   "display_name": "Python [Root]",
   "language": "python",
   "name": "Python [Root]"
  },
  "language_info": {
   "codemirror_mode": {
    "name": "ipython",
    "version": 3
   },
   "file_extension": ".py",
   "mimetype": "text/x-python",
   "name": "python",
   "nbconvert_exporter": "python",
   "pygments_lexer": "ipython3",
   "version": "3.5.2"
  }
 },
 "nbformat": 4,
 "nbformat_minor": 0
}
