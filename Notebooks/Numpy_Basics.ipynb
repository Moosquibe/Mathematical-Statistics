{
 "cells": [
  {
   "cell_type": "markdown",
   "metadata": {},
   "source": [
    "# Numpy basics"
   ]
  },
  {
   "cell_type": "markdown",
   "metadata": {},
   "source": [
    "This notebook was adapted from the one made by Brian d'Alessandro for the class DS-GA-1001 Introduction to Data Science where it was in turn adapted from chapter 4 Python for Data Analysis by Wes McKinney and O'Reilly publishing. \n",
    "\n",
    "NumPy has many features that will not be covered here. The following snippets are just to illustrate basic data types and operations within numpy.\n",
    "\n",
    "The core data type in Numpy is the ndarray, which enables fast and space-efficient multidimensional array processing. Another good resource for learning more about ndarrays is here:\n",
    "http://docs.scipy.org/doc/numpy/reference/arrays.html"
   ]
  },
  {
   "cell_type": "markdown",
   "metadata": {},
   "source": [
    "First import numpy:"
   ]
  },
  {
   "cell_type": "code",
   "execution_count": 1,
   "metadata": {
    "collapsed": true
   },
   "outputs": [],
   "source": [
    "import numpy as np"
   ]
  },
  {
   "cell_type": "markdown",
   "metadata": {},
   "source": [
    "## Creating arrays"
   ]
  },
  {
   "cell_type": "markdown",
   "metadata": {},
   "source": [
    "The easiest way to create an array is to transform a standard Python list(s) using the *array* function."
   ]
  },
  {
   "cell_type": "code",
   "execution_count": 3,
   "metadata": {
    "collapsed": false
   },
   "outputs": [],
   "source": [
    "#It is easy to create Nx1 and NxM arrays from standard Python lists\n",
    "list1 = [0,1,2]\n",
    "list2 = [3,4,5]\n",
    "\n",
    "nd1 = np.array(list1)\n",
    "nd2 = np.array([list1, list2])"
   ]
  },
  {
   "cell_type": "code",
   "execution_count": 13,
   "metadata": {
    "collapsed": false
   },
   "outputs": [
    {
     "data": {
      "text/plain": [
       "array([0, 1, 2])"
      ]
     },
     "execution_count": 13,
     "metadata": {},
     "output_type": "execute_result"
    }
   ],
   "source": [
    "nd1"
   ]
  },
  {
   "cell_type": "code",
   "execution_count": 7,
   "metadata": {
    "collapsed": false
   },
   "outputs": [
    {
     "data": {
      "text/plain": [
       "array([[0, 1, 2],\n",
       "       [3, 4, 5]])"
      ]
     },
     "execution_count": 7,
     "metadata": {},
     "output_type": "execute_result"
    }
   ],
   "source": [
    "nd2"
   ]
  },
  {
   "cell_type": "markdown",
   "metadata": {},
   "source": [
    "Now, we can ask for some basic info to describe the ndarray using the *shape* and *dtype* properties of the ndarray objects. While it might be counterintuitive looking at the above output, one dimensional arrays are always treated as column vectors. "
   ]
  },
  {
   "cell_type": "code",
   "execution_count": 14,
   "metadata": {
    "collapsed": false
   },
   "outputs": [
    {
     "name": "stdout",
     "output_type": "stream",
     "text": [
      "The ndarray has dimension n=3 and m=1\n",
      "The ndarray has elements of type=int64\n",
      "The ndarray has dimension n=2 and m=3\n",
      "The ndarray has elements of type=int64\n"
     ]
    }
   ],
   "source": [
    "def desc_ndarray(nd):\n",
    "    try:\n",
    "        print(\"The ndarray has dimension n=%s and m=%s\" % (nd.shape[0],nd.shape[1]))\n",
    "    except:\n",
    "        print(\"The ndarray has dimension n=%s and m=1\" % nd.shape[0])\n",
    "    print(\"The ndarray has elements of type=%s\" % nd.dtype)\n",
    "\n",
    "desc_ndarray(nd1)\n",
    "desc_ndarray(nd2)"
   ]
  },
  {
   "cell_type": "markdown",
   "metadata": {},
   "source": [
    "## Special arrays"
   ]
  },
  {
   "cell_type": "markdown",
   "metadata": {},
   "source": [
    "There are shortcuts for creating certain frequently used special ndarrays, for example, an array of zeros, ones, and independent standard normal random elements:"
   ]
  },
  {
   "cell_type": "code",
   "execution_count": 27,
   "metadata": {
    "collapsed": false
   },
   "outputs": [
    {
     "data": {
      "text/plain": [
       "[array([[ 0.,  0.,  0.],\n",
       "        [ 0.,  0.,  0.]]),\n",
       " array([ 1.,  1.,  1.,  1.]),\n",
       " array([[ 0.8113783 ,  0.58640127, -1.96671183, -0.09040065,  0.95667661],\n",
       "        [-1.37380643, -0.5526485 ,  1.44044601,  0.55816168,  1.07738991],\n",
       "        [ 0.22607842,  0.91489988,  0.80510683,  0.02424776, -1.23607024]])]"
      ]
     },
     "execution_count": 27,
     "metadata": {},
     "output_type": "execute_result"
    }
   ],
   "source": [
    "k=4\n",
    "n = 2\n",
    "m = 3\n",
    "\n",
    "# An ndarray of all zeros\n",
    "zero = np.zeros((n,m))\n",
    "\n",
    "# An ndarray of all ones\n",
    "one = np.ones(k)\n",
    "\n",
    "# An ndarray of random elements (this one is standard normal, \n",
    "# but there are many distributions to choose from). Notice the\n",
    "# difference in passing the dimensions\n",
    "rand = np.random.randn(3,5)\n",
    "\n",
    "[zero, one, rand]"
   ]
  },
  {
   "cell_type": "markdown",
   "metadata": {},
   "source": [
    "To generate a range that is automatically a numpy array, we can use the *arange()* method:"
   ]
  },
  {
   "cell_type": "code",
   "execution_count": 69,
   "metadata": {
    "collapsed": false
   },
   "outputs": [
    {
     "data": {
      "text/plain": [
       "array([ 0,  1,  2,  3,  4,  5,  6,  7,  8,  9, 10, 11, 12, 13, 14, 15, 16,\n",
       "       17, 18, 19, 20, 21, 22, 23, 24, 25, 26, 27, 28, 29, 30, 31, 32, 33,\n",
       "       34, 35, 36, 37, 38, 39, 40, 41, 42, 43, 44, 45, 46, 47, 48, 49, 50,\n",
       "       51, 52, 53, 54, 55, 56, 57, 58, 59, 60, 61, 62, 63, 64, 65, 66, 67,\n",
       "       68, 69, 70, 71, 72, 73, 74, 75, 76, 77, 78, 79, 80, 81, 82, 83, 84,\n",
       "       85, 86, 87, 88, 89, 90, 91, 92, 93, 94, 95, 96, 97, 98, 99])"
      ]
     },
     "execution_count": 69,
     "metadata": {},
     "output_type": "execute_result"
    }
   ],
   "source": [
    "np.arange(100)"
   ]
  },
  {
   "cell_type": "markdown",
   "metadata": {},
   "source": [
    "## Array indexing"
   ]
  },
  {
   "cell_type": "markdown",
   "metadata": {},
   "source": [
    "For indexing an array:\n",
    "    1. If nx1 array, follow the same protocol for a regular Python list\n",
    "    2. If nxm array look at the following examples.\n",
    "Do not forget that indexing starts at zero!"
   ]
  },
  {
   "cell_type": "code",
   "execution_count": 29,
   "metadata": {
    "collapsed": false
   },
   "outputs": [
    {
     "data": {
      "text/plain": [
       "[array([[ 0.8113783 ,  0.58640127, -1.96671183, -0.09040065,  0.95667661],\n",
       "        [-1.37380643, -0.5526485 ,  1.44044601,  0.55816168,  1.07738991],\n",
       "        [ 0.22607842,  0.91489988,  0.80510683,  0.02424776, -1.23607024]]),\n",
       " array([-1.37380643, -0.5526485 ,  1.44044601,  0.55816168,  1.07738991]),\n",
       " -0.55264850313956193]"
      ]
     },
     "execution_count": 29,
     "metadata": {},
     "output_type": "execute_result"
    }
   ],
   "source": [
    "# A single index gets a full row, while 2 indexes returns a value\n",
    "[rand, rand[1], rand[1,1]]"
   ]
  },
  {
   "cell_type": "markdown",
   "metadata": {},
   "source": [
    "You might ask how to select a column. We can use slicing, which you can also do on lists:\n",
    "\n",
    "https://www.pythoncentral.io/how-to-slice-listsarrays-and-tuples-in-python/"
   ]
  },
  {
   "cell_type": "code",
   "execution_count": 32,
   "metadata": {
    "collapsed": false
   },
   "outputs": [
    {
     "data": {
      "text/plain": [
       "array([-1.96671183,  1.44044601,  0.80510683])"
      ]
     },
     "execution_count": 32,
     "metadata": {},
     "output_type": "execute_result"
    }
   ],
   "source": [
    "rand[:,2]"
   ]
  },
  {
   "cell_type": "markdown",
   "metadata": {},
   "source": [
    "## Operations between Arrays and Scalars"
   ]
  },
  {
   "cell_type": "markdown",
   "metadata": {},
   "source": [
    "An important feature of ndarrays is they allow batch operations on data without writing any for loops. This is called vectorization. Any arithmetic operations between equal-size arrays applies the operation elementwise. Arithmetic operations with scalars are also as you would expect, propagating the value to each element also referred to as broadcasting:\n",
    "\n",
    "https://docs.scipy.org/doc/numpy/user/basics.broadcasting.html"
   ]
  },
  {
   "cell_type": "code",
   "execution_count": 63,
   "metadata": {
    "collapsed": false
   },
   "outputs": [
    {
     "data": {
      "text/plain": [
       "[array([ 2.28056974,  1.3041093 ,  0.25426496,  1.07246005]),\n",
       " array([ 4.56113949,  2.6082186 ,  0.50852991,  2.1449201 ]),\n",
       " array([ 4.56113949,  2.6082186 ,  0.50852991,  2.1449201 ]),\n",
       " array([ 0.,  0.,  0.,  0.])]"
      ]
     },
     "execution_count": 63,
     "metadata": {},
     "output_type": "execute_result"
    }
   ],
   "source": [
    "k = 4\n",
    "rand = np.random.randn(k)\n",
    "[rand, rand + rand, 2*rand, rand*np.zeros(4)]"
   ]
  },
  {
   "cell_type": "code",
   "execution_count": 64,
   "metadata": {
    "collapsed": false
   },
   "outputs": [
    {
     "data": {
      "text/plain": [
       "[array([[ 1.        ,  0.5       ,  0.33333333],\n",
       "        [ 0.25      ,  0.2       ,  0.16666667]]),\n",
       " array([[ 1.        ,  1.41421356,  1.73205081],\n",
       "        [ 2.        ,  2.23606798,  2.44948974]])]"
      ]
     },
     "execution_count": 64,
     "metadata": {},
     "output_type": "execute_result"
    }
   ],
   "source": [
    "arr = np.array([[1., 2., 3.], [4., 5., 6.]])\n",
    "\n",
    "[1/arr, arr ** 0.5]"
   ]
  },
  {
   "cell_type": "markdown",
   "metadata": {},
   "source": [
    "It is easy to do matrix operations with ndarrays. It is important to make sure matrix shapes are compatible.\n",
    "\n",
    "Matrix addition is the standard matrix operator:"
   ]
  },
  {
   "cell_type": "code",
   "execution_count": 65,
   "metadata": {
    "collapsed": false
   },
   "outputs": [
    {
     "data": {
      "text/plain": [
       "[array([ 0.87536263,  0.86097065, -1.23648092]),\n",
       " array([-0.70741949, -0.41719535,  0.90668548]),\n",
       " array([ 0.16794314,  0.44377531, -0.32979544])]"
      ]
     },
     "execution_count": 65,
     "metadata": {},
     "output_type": "execute_result"
    }
   ],
   "source": [
    "k = 3\n",
    "r1 = np.random.randn(k)\n",
    "r2 = np.random.randn(k)\n",
    "\n",
    "[r1, r2 , r1 + r2]"
   ]
  },
  {
   "cell_type": "markdown",
   "metadata": {},
   "source": [
    "The Transpose can be taken with the attribute T:"
   ]
  },
  {
   "cell_type": "code",
   "execution_count": 66,
   "metadata": {
    "collapsed": false
   },
   "outputs": [
    {
     "data": {
      "text/plain": [
       "[array([[ 0.87536263,  0.86097065, -1.23648092],\n",
       "        [-0.70741949, -0.41719535,  0.90668548]]),\n",
       " array([[ 0.87536263, -0.70741949],\n",
       "        [ 0.86097065, -0.41719535],\n",
       "        [-1.23648092,  0.90668548]])]"
      ]
     },
     "execution_count": 66,
     "metadata": {},
     "output_type": "execute_result"
    }
   ],
   "source": [
    "arr2d = np.array([r1, r2])\n",
    "[arr2d, arr2d.T]"
   ]
  },
  {
   "cell_type": "markdown",
   "metadata": {},
   "source": [
    "Matrix multiplication, like inner products can be done on arrays. Just remember that the standard multiplication operator does elementwise multiplication (provided the two matrices are the same shape). We need the dot method in order to do an inner product.\n",
    "\n",
    "Numpy has a linalg library that can run most matrix operations on ndarrays:\n",
    "http://docs.scipy.org/doc/numpy/reference/routines.linalg.html\n",
    "\n",
    "One can also create a matrix object and use the methods in numpy.matrix to achieve the same thing:\n",
    "http://docs.scipy.org/doc/numpy/reference/generated/numpy.matrix.html"
   ]
  },
  {
   "cell_type": "markdown",
   "metadata": {},
   "source": [
    "For example matrix multiplication is done by the *dot* method of the ndarray object."
   ]
  },
  {
   "cell_type": "code",
   "execution_count": 67,
   "metadata": {
    "collapsed": false
   },
   "outputs": [
    {
     "data": {
      "text/plain": [
       "[array([[ 0.87536263,  0.86097065, -1.23648092],\n",
       "        [-0.70741949, -0.41719535,  0.90668548]]),\n",
       " array([[ 0.76625973,  0.74127046,  1.52888506],\n",
       "        [ 0.50044233,  0.17405196,  0.82207857]]),\n",
       " array([[ 3.03641526, -2.09954083],\n",
       "        [-2.09954083,  1.49657286]]),\n",
       " array([[ 1.26670206,  1.04879365, -1.72377617],\n",
       "        [ 1.04879365,  0.91532242, -1.44283875],\n",
       "        [-1.72377617, -1.44283875,  2.35096363]])]"
      ]
     },
     "execution_count": 67,
     "metadata": {},
     "output_type": "execute_result"
    }
   ],
   "source": [
    "[arr2d, arr2d * arr2d, arr2d.dot(arr2d.T), arr2d.T.dot(arr2d)]"
   ]
  },
  {
   "cell_type": "markdown",
   "metadata": {},
   "source": [
    "## Vectorization vs. loops"
   ]
  },
  {
   "cell_type": "markdown",
   "metadata": {},
   "source": [
    "One important feature of vectorization is that it allows elementwise processing that is much faster than writing a traditional for loop or list comprehension for the same task:"
   ]
  },
  {
   "cell_type": "code",
   "execution_count": 8,
   "metadata": {
    "collapsed": false
   },
   "outputs": [
    {
     "name": "stdout",
     "output_type": "stream",
     "text": [
      "10000 loops, best of 3: 174 µs per loop\n"
     ]
    }
   ],
   "source": [
    "import math\n",
    "\n",
    "#show an example and profile it\n",
    "%timeit [math.sqrt(x) for x in range(1000)]"
   ]
  },
  {
   "cell_type": "code",
   "execution_count": 42,
   "metadata": {
    "collapsed": false
   },
   "outputs": [
    {
     "name": "stdout",
     "output_type": "stream",
     "text": [
      "The slowest run took 12.32 times longer than the fastest. This could mean that an intermediate result is being cached.\n",
      "100000 loops, best of 3: 5.86 µs per loop\n"
     ]
    }
   ],
   "source": [
    "%timeit np.sqrt(np.arange(1000))"
   ]
  },
  {
   "cell_type": "markdown",
   "metadata": {
    "collapsed": true
   },
   "source": [
    "## Random numbers\n",
    "\n",
    "The last thing we'll cover in this module is the numpy.random library. In general, it is advised to use numpy for random number generation as opposed to Python's built in random module.\n",
    "\n",
    "Random number generation has many uses. One common use is generating fake (i.e. random) data to test modeling procedures or to do Monte Carlo Simulations (solving deterministic problems numerically through random sampling)."
   ]
  },
  {
   "cell_type": "markdown",
   "metadata": {},
   "source": [
    "For example, let us generate random pairs that have a multivariate normal joint distribution."
   ]
  },
  {
   "cell_type": "code",
   "execution_count": 55,
   "metadata": {
    "collapsed": true
   },
   "outputs": [],
   "source": [
    "N = 1000\n",
    "mu = np.array([0,0])\n",
    "cov = 0.5\n",
    "sig = np.array([[1, cov],[cov, 1]]) #Must be square, symmetric and non-negative definite"
   ]
  },
  {
   "cell_type": "code",
   "execution_count": 56,
   "metadata": {
    "collapsed": false
   },
   "outputs": [],
   "source": [
    "x, y = np.random.multivariate_normal(mu, sig, N).T"
   ]
  },
  {
   "cell_type": "markdown",
   "metadata": {},
   "source": [
    "Let us now plot our results using the matplotlib.pyplot library"
   ]
  },
  {
   "cell_type": "code",
   "execution_count": 57,
   "metadata": {
    "collapsed": false
   },
   "outputs": [
    {
     "data": {
      "image/png": "[encoded data removed]",
      "text/plain": [
       "<matplotlib.figure.Figure at 0x1047b48d0>"
      ]
     },
     "metadata": {},
     "output_type": "display_data"
    }
   ],
   "source": [
    "import matplotlib.pyplot as plt\n",
    "%matplotlib inline \n",
    "\n",
    "# The previous line tells ipython to show the plots in the notebook, instead of opening\n",
    "# a separate window.\n",
    "\n",
    "plt.plot(x, y,'.') \n",
    "plt.axis('equal') \n",
    "plt.show()"
   ]
  },
  {
   "cell_type": "markdown",
   "metadata": {},
   "source": [
    "Finally, let us generate a random walk and visualize it:"
   ]
  },
  {
   "cell_type": "code",
   "execution_count": 58,
   "metadata": {
    "collapsed": true
   },
   "outputs": [],
   "source": [
    "nsteps = 1000"
   ]
  },
  {
   "cell_type": "markdown",
   "metadata": {},
   "source": [
    "*randint* lets us generate random integers in a range."
   ]
  },
  {
   "cell_type": "code",
   "execution_count": 59,
   "metadata": {
    "collapsed": false
   },
   "outputs": [],
   "source": [
    "draws = np.random.randint(0, 2, size = nsteps) "
   ]
  },
  {
   "cell_type": "markdown",
   "metadata": {},
   "source": [
    "The where function lets us do boolean logic on a conditional applied to an entire array. In the lines below, steps becomes a vector of length *nsteps* with entry $i$ being one if the $i$ entry in *draws* is greater than zero and $-1$ otherwise."
   ]
  },
  {
   "cell_type": "code",
   "execution_count": 60,
   "metadata": {
    "collapsed": false
   },
   "outputs": [],
   "source": [
    "steps = np.where(draws > 0, 1, -1) "
   ]
  },
  {
   "cell_type": "markdown",
   "metadata": {},
   "source": [
    "Cumsum returns an array with the same size as steps, that stores the cumulative sum of steps up to index i."
   ]
  },
  {
   "cell_type": "code",
   "execution_count": 61,
   "metadata": {
    "collapsed": true
   },
   "outputs": [],
   "source": [
    "walk = steps.cumsum()"
   ]
  },
  {
   "cell_type": "markdown",
   "metadata": {},
   "source": [
    "Finally, let us plot our walk:"
   ]
  },
  {
   "cell_type": "code",
   "execution_count": 62,
   "metadata": {
    "collapsed": false
   },
   "outputs": [
    {
     "data": {
      "image/png": "[encoded data removed]",
      "text/plain": [
       "<matplotlib.figure.Figure at 0x10490da20>"
      ]
     },
     "metadata": {},
     "output_type": "display_data"
    }
   ],
   "source": [
    "plt.plot(np.arange(len(walk)), walk)\n",
    "plt.show()"
   ]
  }
 ],
 "metadata": {
  "anaconda-cloud": {},
  "kernelspec": {
   "display_name": "Python [default]",
   "language": "python",
   "name": "python3"
  },
  "language_info": {
   "codemirror_mode": {
    "name": "ipython",
    "version": 3
   },
   "file_extension": ".py",
   "mimetype": "text/x-python",
   "name": "python",
   "nbconvert_exporter": "python",
   "pygments_lexer": "ipython3",
   "version": "3.5.4"
  }
 },
 "nbformat": 4,
 "nbformat_minor": 0
}
