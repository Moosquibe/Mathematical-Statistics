{
 "cells": [
  {
   "cell_type": "markdown",
   "metadata": {},
   "source": [
    "# Python Fundamentals"
   ]
  },
  {
   "cell_type": "markdown",
   "metadata": {},
   "source": [
    "This notebook was adapted from the one made by Brian d'Alessandro for the class DS-GA-1001 Introduction to Data Science."
   ]
  },
  {
   "cell_type": "markdown",
   "metadata": {},
   "source": [
    "In this class, we will be using Python 3. Python is a high level interpreted language meaning that the code is executed line by line at runtime. In this notebook, we give a brief introduction to the main functionalities that we will need in this class. We will be working with Python in your browser using iPython Notebook. This is a convenient interactive enviroment combining markdown blocks and code blocks.\n",
    "\n",
    "Here is an example block of code:"
   ]
  },
  {
   "cell_type": "code",
   "execution_count": 1,
   "metadata": {
    "collapsed": false
   },
   "outputs": [
    {
     "name": "stdout",
     "output_type": "stream",
     "text": [
      "Hello, World!\n"
     ]
    }
   ],
   "source": [
    "print('Hello, World!')\n",
    "# This is a comment, it isn't run as code, but often they are helpful"
   ]
  },
  {
   "cell_type": "markdown",
   "metadata": {},
   "source": [
    "To run a block of code like the one above, click on it to select it and then you can either click the run button in the menu above or type shift-enter. The output of the block is shown below the block.\n",
    "\n",
    "All of the code blocks on this page are interactive. Please make sure you run them all at least once. Feel free the change the code and see what the affect is."
   ]
  },
  {
   "cell_type": "markdown",
   "metadata": {},
   "source": [
    "## Arithmetic\n",
    "\n",
    "Like every programming language, Python is a good calculator. Run the block of code below to make sure the answer is right!"
   ]
  },
  {
   "cell_type": "code",
   "execution_count": 3,
   "metadata": {
    "collapsed": false
   },
   "outputs": [
    {
     "data": {
      "text/plain": [
       "2"
      ]
     },
     "execution_count": 3,
     "metadata": {},
     "output_type": "execute_result"
    }
   ],
   "source": [
    "1 + 1"
   ]
  },
  {
   "cell_type": "markdown",
   "metadata": {},
   "source": [
    "# Hopefully it worked. \n",
    "\n",
    "Now lets say you won the lottery. You are about to collect your millions, but first you have to answer this skill testing question:\n",
    "\n",
    "\"8+6*2*3-(15-13)\"\n",
    "\n",
    "Fortuntely Python can help. The BEDMAS (brackets, exponents, division, multiplication, addition, subtraction) order of operations you learned in school applies."
   ]
  },
  {
   "cell_type": "code",
   "execution_count": 7,
   "metadata": {
    "collapsed": false
   },
   "outputs": [
    {
     "data": {
      "text/plain": [
       "42"
      ]
     },
     "execution_count": 7,
     "metadata": {},
     "output_type": "execute_result"
    }
   ],
   "source": [
    "8 + 6*2*3 - (15 - 13)"
   ]
  },
  {
   "cell_type": "markdown",
   "metadata": {},
   "source": [
    "Numbers are valid Python code as are the common operators, +, /, * and -. You can write different types of numbers including integers, real numbers (floating point) and negative integers."
   ]
  },
  {
   "cell_type": "code",
   "execution_count": 5,
   "metadata": {
    "collapsed": false
   },
   "outputs": [
    {
     "data": {
      "text/plain": [
       "44.149"
      ]
     },
     "execution_count": 5,
     "metadata": {},
     "output_type": "execute_result"
    }
   ],
   "source": [
    "42 + 3.149 + -1"
   ]
  },
  {
   "cell_type": "markdown",
   "metadata": {},
   "source": [
    "Since 42 is literally 42, we call these numbers *literals*. You are literally writing a number in your Python code."
   ]
  },
  {
   "cell_type": "markdown",
   "metadata": {},
   "source": [
    "## Variables"
   ]
  },
  {
   "cell_type": "markdown",
   "metadata": {},
   "source": [
    "We can also store numbers in variables and perform operations on them. For example, imagine you just had a big meal to celebrate your winnings, and now you need to calculate the tip."
   ]
  },
  {
   "cell_type": "code",
   "execution_count": 8,
   "metadata": {
    "collapsed": false
   },
   "outputs": [
    {
     "data": {
      "text/plain": [
       "20.0"
      ]
     },
     "execution_count": 8,
     "metadata": {},
     "output_type": "execute_result"
    }
   ],
   "source": [
    "meal = 200.00\n",
    "# as a decimal, 10% would be 0.1\n",
    "tip_percent = 0.10\n",
    "meal * tip_percent"
   ]
  },
  {
   "cell_type": "markdown",
   "metadata": {},
   "source": [
    "meal and tip_percent aren't literal numbers, they are variables.\n",
    "\n",
    "In Python variables are like buckets. You can put anything you want in them. Just give them a name and you can use them in place of the literal value. For instance, in the above example meal was 200.00 but we could also set meal to the text 'Hello, World'"
   ]
  },
  {
   "cell_type": "code",
   "execution_count": 9,
   "metadata": {
    "collapsed": false
   },
   "outputs": [
    {
     "name": "stdout",
     "output_type": "stream",
     "text": [
      "200.0\n",
      "Hello, World!\n"
     ]
    }
   ],
   "source": [
    "meal = 200.00\n",
    "print(meal)\n",
    "meal = \"Hello, World!\"\n",
    "print(meal)"
   ]
  },
  {
   "cell_type": "markdown",
   "metadata": {},
   "source": [
    "Exceptional Python\n",
    "-------------------\n",
    "\n",
    "Python only understands certain code. When you write something Python doesn't understand it throws an exception and tries to explain what went wrong, but it can only speak in a broken Pythonesque english. Let's see some examples by running these code blocks."
   ]
  },
  {
   "cell_type": "code",
   "execution_count": 10,
   "metadata": {
    "collapsed": false
   },
   "outputs": [
    {
     "ename": "NameError",
     "evalue": "name 'gibberish' is not defined",
     "output_type": "error",
     "traceback": [
      "\u001b[0;31m---------------------------------------------------------------------------\u001b[0m",
      "\u001b[0;31mNameError\u001b[0m                                 Traceback (most recent call last)",
      "\u001b[0;32m<ipython-input-10-9bdd8ea4da78>\u001b[0m in \u001b[0;36m<module>\u001b[0;34m()\u001b[0m\n\u001b[0;32m----> 1\u001b[0;31m \u001b[0mgibberish\u001b[0m\u001b[0;34m\u001b[0m\u001b[0m\n\u001b[0m",
      "\u001b[0;31mNameError\u001b[0m: name 'gibberish' is not defined"
     ]
    }
   ],
   "source": [
    "gibberish"
   ]
  },
  {
   "cell_type": "code",
   "execution_count": 11,
   "metadata": {
    "collapsed": false
   },
   "outputs": [
    {
     "ename": "SyntaxError",
     "evalue": "can't use starred expression here (<ipython-input-11-e23e056f3c48>, line 1)",
     "output_type": "error",
     "traceback": [
      "\u001b[0;36m  File \u001b[0;32m\"<ipython-input-11-e23e056f3c48>\"\u001b[0;36m, line \u001b[0;32m1\u001b[0m\n\u001b[0;31m    *adsflf_\u001b[0m\n\u001b[0m            ^\u001b[0m\n\u001b[0;31mSyntaxError\u001b[0m\u001b[0;31m:\u001b[0m can't use starred expression here\n"
     ]
    }
   ],
   "source": [
    "*adsflf_"
   ]
  },
  {
   "cell_type": "code",
   "execution_count": 12,
   "metadata": {
    "collapsed": false
   },
   "outputs": [
    {
     "ename": "SyntaxError",
     "evalue": "unexpected EOF while parsing (<ipython-input-12-49c0f052bb79>, line 1)",
     "output_type": "error",
     "traceback": [
      "\u001b[0;36m  File \u001b[0;32m\"<ipython-input-12-49c0f052bb79>\"\u001b[0;36m, line \u001b[0;32m1\u001b[0m\n\u001b[0;31m    print('Hello'\u001b[0m\n\u001b[0m                 ^\u001b[0m\n\u001b[0;31mSyntaxError\u001b[0m\u001b[0;31m:\u001b[0m unexpected EOF while parsing\n"
     ]
    }
   ],
   "source": [
    "print('Hello'"
   ]
  },
  {
   "cell_type": "code",
   "execution_count": 13,
   "metadata": {
    "collapsed": false
   },
   "outputs": [
    {
     "ename": "SyntaxError",
     "evalue": "invalid syntax (<ipython-input-13-fe371f1ddd4f>, line 1)",
     "output_type": "error",
     "traceback": [
      "\u001b[0;36m  File \u001b[0;32m\"<ipython-input-13-fe371f1ddd4f>\"\u001b[0;36m, line \u001b[0;32m1\u001b[0m\n\u001b[0;31m    1v34\u001b[0m\n\u001b[0m       ^\u001b[0m\n\u001b[0;31mSyntaxError\u001b[0m\u001b[0;31m:\u001b[0m invalid syntax\n"
     ]
    }
   ],
   "source": [
    "1v34"
   ]
  },
  {
   "cell_type": "code",
   "execution_count": 14,
   "metadata": {
    "collapsed": false
   },
   "outputs": [
    {
     "ename": "ZeroDivisionError",
     "evalue": "division by zero",
     "output_type": "error",
     "traceback": [
      "\u001b[0;31m---------------------------------------------------------------------------\u001b[0m",
      "\u001b[0;31mZeroDivisionError\u001b[0m                         Traceback (most recent call last)",
      "\u001b[0;32m<ipython-input-14-d14d67f6c4a6>\u001b[0m in \u001b[0;36m<module>\u001b[0;34m()\u001b[0m\n\u001b[0;32m----> 1\u001b[0;31m \u001b[0;36m2000\u001b[0m \u001b[0;34m/\u001b[0m \u001b[0;36m0\u001b[0m\u001b[0;34m\u001b[0m\u001b[0m\n\u001b[0m",
      "\u001b[0;31mZeroDivisionError\u001b[0m: division by zero"
     ]
    }
   ],
   "source": [
    "2000 / 0"
   ]
  },
  {
   "cell_type": "markdown",
   "metadata": {},
   "source": [
    "Python tries to tell you where it stopped understanding, but in the above examples, each program is only 1 line long. It also tries to show you where on the line the problem happened with caret (\"^\"). \n",
    "Finally it tells you the type of thing that went wrong, (NameError, SyntaxError, ZeroDivisionError) and a bit more information like \"name 'gibberish' is not defined\" or \"unexpected EOF while parsing\". \n",
    "\n",
    "Unfortunately you might not find \"unexpected EOF while parsing\" too helpful. EOF stands for End of File, but what file? What is parsing? Python does its best, but it does take a bit of time to develop a knack for what these messages mean. "
   ]
  },
  {
   "cell_type": "markdown",
   "metadata": {},
   "source": [
    "## Strings\n",
    "\n",
    "\n",
    "Numbers are great... but most of our day to day computing needs involves text, from emails to tweets to documents.\n",
    "We have already seen a text literal in Python, \"Hello, World!\""
   ]
  },
  {
   "cell_type": "code",
   "execution_count": null,
   "metadata": {
    "collapsed": false
   },
   "outputs": [],
   "source": [
    "\"Hello, World!\""
   ]
  },
  {
   "cell_type": "markdown",
   "metadata": {},
   "source": [
    "Text literals called *strings* are surrounded by quotes. Without the quotes Hello by itself would be viewed as a variable name.\n",
    "You can use either double quotes (\") or single quotes (') for text literals.\n",
    "As we saw before we can also save text literals in variables.\n",
    "\n",
    "Let's use strings with variables!"
   ]
  },
  {
   "cell_type": "code",
   "execution_count": null,
   "metadata": {
    "collapsed": false
   },
   "outputs": [],
   "source": [
    "your_name = \"Albert O'Connor\"\n",
    "print(\"Hello, \")\n",
    "print(your_name)"
   ]
  },
  {
   "cell_type": "markdown",
   "metadata": {},
   "source": [
    "Strings in Python are a bit more complicated because the operations on them aren't just + and * (though those are valid operations). Strings have their own operations we can call to change them. We can use dir to get an idea of what they are. "
   ]
  },
  {
   "cell_type": "code",
   "execution_count": 15,
   "metadata": {
    "collapsed": false
   },
   "outputs": [
    {
     "data": {
      "text/plain": [
       "['__add__',\n",
       " '__class__',\n",
       " '__contains__',\n",
       " '__delattr__',\n",
       " '__dir__',\n",
       " '__doc__',\n",
       " '__eq__',\n",
       " '__format__',\n",
       " '__ge__',\n",
       " '__getattribute__',\n",
       " '__getitem__',\n",
       " '__getnewargs__',\n",
       " '__gt__',\n",
       " '__hash__',\n",
       " '__init__',\n",
       " '__iter__',\n",
       " '__le__',\n",
       " '__len__',\n",
       " '__lt__',\n",
       " '__mod__',\n",
       " '__mul__',\n",
       " '__ne__',\n",
       " '__new__',\n",
       " '__reduce__',\n",
       " '__reduce_ex__',\n",
       " '__repr__',\n",
       " '__rmod__',\n",
       " '__rmul__',\n",
       " '__setattr__',\n",
       " '__sizeof__',\n",
       " '__str__',\n",
       " '__subclasshook__',\n",
       " 'capitalize',\n",
       " 'casefold',\n",
       " 'center',\n",
       " 'count',\n",
       " 'encode',\n",
       " 'endswith',\n",
       " 'expandtabs',\n",
       " 'find',\n",
       " 'format',\n",
       " 'format_map',\n",
       " 'index',\n",
       " 'isalnum',\n",
       " 'isalpha',\n",
       " 'isdecimal',\n",
       " 'isdigit',\n",
       " 'isidentifier',\n",
       " 'islower',\n",
       " 'isnumeric',\n",
       " 'isprintable',\n",
       " 'isspace',\n",
       " 'istitle',\n",
       " 'isupper',\n",
       " 'join',\n",
       " 'ljust',\n",
       " 'lower',\n",
       " 'lstrip',\n",
       " 'maketrans',\n",
       " 'partition',\n",
       " 'replace',\n",
       " 'rfind',\n",
       " 'rindex',\n",
       " 'rjust',\n",
       " 'rpartition',\n",
       " 'rsplit',\n",
       " 'rstrip',\n",
       " 'split',\n",
       " 'splitlines',\n",
       " 'startswith',\n",
       " 'strip',\n",
       " 'swapcase',\n",
       " 'title',\n",
       " 'translate',\n",
       " 'upper',\n",
       " 'zfill']"
      ]
     },
     "execution_count": 15,
     "metadata": {},
     "output_type": "execute_result"
    }
   ],
   "source": [
    "dir(\"Hello, World!\")"
   ]
  },
  {
   "cell_type": "markdown",
   "metadata": {},
   "source": [
    "That is a really long list. For now you can ignore the ones which start and end with underscores (\"_\"), but that still leaves a lot! Let's start with upper and lower. Let's say you are really happy to the world, and you want to make sure everyone knows it, you can use upper. \"upper\" is short for uppercase and you will see what it does by running the code block below."
   ]
  },
  {
   "cell_type": "code",
   "execution_count": 16,
   "metadata": {
    "collapsed": false
   },
   "outputs": [
    {
     "data": {
      "text/plain": [
       "'HELLO, WORLD'"
      ]
     },
     "execution_count": 16,
     "metadata": {},
     "output_type": "execute_result"
    }
   ],
   "source": [
    "string = \"Hello, World\"\n",
    "string.upper()"
   ]
  },
  {
   "cell_type": "markdown",
   "metadata": {},
   "source": [
    "Maybe you are feeling a bit sad and you want to be quiet, you can then use lower."
   ]
  },
  {
   "cell_type": "code",
   "execution_count": 17,
   "metadata": {
    "collapsed": false
   },
   "outputs": [
    {
     "data": {
      "text/plain": [
       "'hello, world'"
      ]
     },
     "execution_count": 17,
     "metadata": {},
     "output_type": "execute_result"
    }
   ],
   "source": [
    "string = \"Hello, World\"\n",
    "string.lower()"
   ]
  },
  {
   "cell_type": "markdown",
   "metadata": {},
   "source": [
    "We use the dot (\".\") operator to call these operations on the string. What lower and upper operate on comes before the dot and needs to be a string variable or literal."
   ]
  },
  {
   "cell_type": "code",
   "execution_count": 18,
   "metadata": {
    "collapsed": false
   },
   "outputs": [
    {
     "data": {
      "text/plain": [
       "'HELLO, WORLD'"
      ]
     },
     "execution_count": 18,
     "metadata": {},
     "output_type": "execute_result"
    }
   ],
   "source": [
    "\"Hello, World\".upper()"
   ]
  },
  {
   "cell_type": "markdown",
   "metadata": {},
   "source": [
    "You can find a description of all the methods listed by dir in the Python documentation:\n",
    "\n",
    "https://docs.python.org/3.6/library/stdtypes.html#string-methods"
   ]
  },
  {
   "cell_type": "markdown",
   "metadata": {},
   "source": [
    "### Formating\n",
    "\n",
    "Sometimes you want to create a string out of a few other strings. Above we printed\n",
    "\n",
    "    Hello,\n",
    "    Your Name\n",
    "\n",
    "by using two print statements, but it would be nice to output \"Hello, Your Name!\" instead. (Where Your Name is actually your name... oh variables)\n",
    "\n",
    "We can do this with the string operation called format. Format is different from lower and upper because it can take other arguments. An *agrument* is what coders call the value passed to an operation or function, it doesn't mean we are fighting."
   ]
  },
  {
   "cell_type": "code",
   "execution_count": null,
   "metadata": {
    "collapsed": false
   },
   "outputs": [],
   "source": [
    "your_name = \"Albert O'Connor\"\n",
    "string = \"Hello, {0}!\"\n",
    "print(string.format(your_name))"
   ]
  },
  {
   "cell_type": "markdown",
   "metadata": {},
   "source": [
    "We can also used literal strings:"
   ]
  },
  {
   "cell_type": "code",
   "execution_count": null,
   "metadata": {
    "collapsed": false
   },
   "outputs": [],
   "source": [
    "print(\"Hello, {0}!\".format(\"Albert O'Connor\"))"
   ]
  },
  {
   "cell_type": "markdown",
   "metadata": {},
   "source": [
    "{0} is kind of weird. {0} is  where the first argument, \"Albert O'Connor\", to format() is placed in the resulting text. {1} would mean use the second value if there was one. See below!\n",
    "\n",
    "### Indexed by Zero\n",
    "\n",
    "For better or worse, (and practically it is better most of the time) everything in Python is indexed starting at 0. We will see this over and over again but for now if you call format like this:"
   ]
  },
  {
   "cell_type": "code",
   "execution_count": 19,
   "metadata": {
    "collapsed": false
   },
   "outputs": [
    {
     "data": {
      "text/plain": [
       "\"Albert O'Connor likes Python\""
      ]
     },
     "execution_count": 19,
     "metadata": {},
     "output_type": "execute_result"
    }
   ],
   "source": [
    "\"{0} likes {1}\".format(\"Albert O'Connor\", 'Python')"
   ]
  },
  {
   "cell_type": "markdown",
   "metadata": {},
   "source": [
    "We would call \"Albert O'Connor\" the 0th string passed into format and 'Python' the 1st. It is kind of weird, but roll with it. It will eventually make things eaiser.\n",
    "\n",
    "Line Endings\n",
    "------------\n",
    "\n",
    "Let's say we wanted to represent the string in one string variable?\n",
    "\n",
    "    200 University Ave.\n",
    "    Waterloo, ON\n",
    "\n",
    "A line ending is one example of something which is part of text on the screen that we need to somehow represent in a string. The key is the backslash (\"\\\") character. \"\\n\" and \"\\r\\n\" represents two kind of line endings. For example:"
   ]
  },
  {
   "cell_type": "code",
   "execution_count": 23,
   "metadata": {
    "collapsed": false
   },
   "outputs": [
    {
     "name": "stdout",
     "output_type": "stream",
     "text": [
      "200 University Ave.\n",
      "Waterloo, ON\n"
     ]
    }
   ],
   "source": [
    "print(\"200 University Ave.\\nWaterloo, ON\")"
   ]
  },
  {
   "cell_type": "markdown",
   "metadata": {},
   "source": [
    "## Booleans and conditional statements\n",
    "\n",
    "Has an application ever asked you a question? Maybe it asks you if you really want to quit because unsaved changed might be lost, or if you want to leave a webpage. If you answer OK one thing happens, like your application closing, but if you answer No or Cancel something else happens. In all those cases, there is a special piece of code that is being run somewhere, it is an *if* condition.\n",
    "\n",
    "Like all languages, Python allows us to conditionally run code.\n",
    "\n",
    "To have an if condition, we need the idea of something being true and something being false. Remember, we call numbers \"integers\" and \"floating point\", and text \"strings\". We call true or false \"boolean\" values. True would represent OK where as false would represent No or Cancel in the example above.\n",
    "\n",
    "The literal values in Python for true and false are \"True\" and \"False\""
   ]
  },
  {
   "cell_type": "code",
   "execution_count": 27,
   "metadata": {
    "collapsed": false
   },
   "outputs": [
    {
     "data": {
      "text/plain": [
       "True"
      ]
     },
     "execution_count": 27,
     "metadata": {},
     "output_type": "execute_result"
    }
   ],
   "source": [
    "False is False"
   ]
  },
  {
   "cell_type": "code",
   "execution_count": 28,
   "metadata": {
    "collapsed": false
   },
   "outputs": [
    {
     "data": {
      "text/plain": [
       "True"
      ]
     },
     "execution_count": 28,
     "metadata": {},
     "output_type": "execute_result"
    }
   ],
   "source": [
    "True is True"
   ]
  },
  {
   "cell_type": "code",
   "execution_count": 29,
   "metadata": {
    "collapsed": false
   },
   "outputs": [
    {
     "data": {
      "text/plain": [
       "False"
      ]
     },
     "execution_count": 29,
     "metadata": {},
     "output_type": "execute_result"
    }
   ],
   "source": [
    "True is False"
   ]
  },
  {
   "cell_type": "markdown",
   "metadata": {},
   "source": [
    "We can write expressions with operations too."
   ]
  },
  {
   "cell_type": "code",
   "execution_count": 31,
   "metadata": {
    "collapsed": false
   },
   "outputs": [
    {
     "data": {
      "text/plain": [
       "False"
      ]
     },
     "execution_count": 31,
     "metadata": {},
     "output_type": "execute_result"
    }
   ],
   "source": [
    "1 > 2"
   ]
  },
  {
   "cell_type": "code",
   "execution_count": 32,
   "metadata": {
    "collapsed": false
   },
   "outputs": [
    {
     "data": {
      "text/plain": [
       "True"
      ]
     },
     "execution_count": 32,
     "metadata": {},
     "output_type": "execute_result"
    }
   ],
   "source": [
    "\"Cool\".startswith(\"C\")"
   ]
  },
  {
   "cell_type": "code",
   "execution_count": 33,
   "metadata": {
    "collapsed": false
   },
   "outputs": [
    {
     "data": {
      "text/plain": [
       "False"
      ]
     },
     "execution_count": 33,
     "metadata": {},
     "output_type": "execute_result"
    }
   ],
   "source": [
    "\"Cool\".endswith(\"C\")"
   ]
  },
  {
   "cell_type": "code",
   "execution_count": 34,
   "metadata": {
    "collapsed": false
   },
   "outputs": [
    {
     "data": {
      "text/plain": [
       "True"
      ]
     },
     "execution_count": 34,
     "metadata": {},
     "output_type": "execute_result"
    }
   ],
   "source": [
    "\"oo\" in \"Cool\""
   ]
  },
  {
   "cell_type": "code",
   "execution_count": null,
   "metadata": {
    "collapsed": false
   },
   "outputs": [],
   "source": [
    "42 == 1 # note the double equals sign for equality"
   ]
  },
  {
   "cell_type": "markdown",
   "metadata": {},
   "source": [
    "In order to write an \"if\" statement we need code that spans multiple lines\n",
    "\n",
    "    if condition:\n",
    "        print(\"Condition is True\")\n",
    "    else:\n",
    "        print(\"Condition is False\")\n",
    "\n",
    "Some things to notice. The if condition ends in a colon (\":\"). In Python, blocks of code are indicated with a colon (\":\") and are grouped by proper indentation. Notice the else also ends with a colon (\":\"), \"else:\". Let's try changing the condition and see what happens."
   ]
  },
  {
   "cell_type": "code",
   "execution_count": 35,
   "metadata": {
    "collapsed": false
   },
   "outputs": [
    {
     "name": "stdout",
     "output_type": "stream",
     "text": [
      "Condition is False\n"
     ]
    }
   ],
   "source": [
    "condition = 1 > 2\n",
    "if condition:\n",
    "    print(\"Condition is True\")\n",
    "else:\n",
    "    print(\"Condition is False\")"
   ]
  },
  {
   "cell_type": "markdown",
   "metadata": {},
   "source": [
    "About indentation, consider the following code:\n",
    "\n",
    "    if condition:\n",
    "        print(\"Condition is True\")\n",
    "    else:\n",
    "        print(\"Condition is False\")\n",
    "    print(\"Condition is True or False, either way this is outputted\")\n",
    "\n",
    "Since the last print statement isn't indented it gets run after the if block or the else block.\n",
    "\n",
    "You can play with this. Try indenting the last print statement below and see what happens."
   ]
  },
  {
   "cell_type": "code",
   "execution_count": 36,
   "metadata": {
    "collapsed": false
   },
   "outputs": [
    {
     "name": "stdout",
     "output_type": "stream",
     "text": [
      "Condition is True\n",
      "Condition is True or False, either way this is outputted\n"
     ]
    }
   ],
   "source": [
    "condition = True\n",
    "if condition:\n",
    "    print(\"Condition is True\")\n",
    "else:\n",
    "    print(\"Condition is False\")\n",
    "print(\"Condition is True or False, either way this is outputted\")"
   ]
  },
  {
   "cell_type": "markdown",
   "metadata": {},
   "source": [
    "### Exercise\n",
    "\n",
    "You can also use \"and\" and \"or\" to combine conditions. Let's look at and.\n",
    "\n",
    "    True and True is True\n",
    "    True and False is False\n",
    "    False and True is False\n",
    "    False and False is False\n",
    "\n",
    "With \"and\" both conditions have to be True to be True. \n",
    "\n",
    "Below change the values of the three variables to make the entire \"if condition\" true."
   ]
  },
  {
   "cell_type": "code",
   "execution_count": 38,
   "metadata": {
    "collapsed": false
   },
   "outputs": [
    {
     "name": "stdout",
     "output_type": "stream",
     "text": [
      "Try again!\n"
     ]
    }
   ],
   "source": [
    "# Edit the values of these 3 variables to make the output of the conditional statement below true.\n",
    "boolean_literal = False\n",
    "number = 8\n",
    "string_literal = \"I like to count sheep before bed.\"\n",
    "\n",
    "# Leave this code the same please\n",
    "if number > 10 and boolean_literal and \"cows\" in string_literal:\n",
    "    print(\"Success!\")\n",
    "else:\n",
    "    print(\"Try again!\")"
   ]
  },
  {
   "cell_type": "markdown",
   "metadata": {},
   "source": [
    "## Loops and Basic Python data structures: Lists and Dictionaries\n",
    "\n",
    "### Lists\n",
    "\n",
    "So far we have seen numbers, strings, and conditional if statements. Now for our first container &mdash; a list.\n",
    "A list in Python is just like a shopping list or a list of numbers. They have a defined order and you can add to it or remove from it.\n",
    "\n",
    "Let's take a look at some simple lists."
   ]
  },
  {
   "cell_type": "code",
   "execution_count": 39,
   "metadata": {
    "collapsed": false
   },
   "outputs": [
    {
     "data": {
      "text/plain": [
       "[]"
      ]
     },
     "execution_count": 39,
     "metadata": {},
     "output_type": "execute_result"
    }
   ],
   "source": [
    "# The empty list\n",
    "[]"
   ]
  },
  {
   "cell_type": "code",
   "execution_count": 40,
   "metadata": {
    "collapsed": false
   },
   "outputs": [
    {
     "data": {
      "text/plain": [
       "['Milk', 'Eggs', 'Bacon']"
      ]
     },
     "execution_count": 40,
     "metadata": {},
     "output_type": "execute_result"
    }
   ],
   "source": [
    "[\"Milk\", \"Eggs\", \"Bacon\"]"
   ]
  },
  {
   "cell_type": "code",
   "execution_count": 41,
   "metadata": {
    "collapsed": false
   },
   "outputs": [
    {
     "data": {
      "text/plain": [
       "[1, 2, 3]"
      ]
     },
     "execution_count": 41,
     "metadata": {},
     "output_type": "execute_result"
    }
   ],
   "source": [
    "[1,2,3]"
   ]
  },
  {
   "cell_type": "markdown",
   "metadata": {},
   "source": [
    "List literals are all about square brackets (\"[ ]\") and commas (\",\"). You can create a list of literals by wrapping them in square brackets and separating them with commas. You can even mix different types of things into the same list; numbers, strings, booleans."
   ]
  },
  {
   "cell_type": "code",
   "execution_count": 42,
   "metadata": {
    "collapsed": false
   },
   "outputs": [
    {
     "data": {
      "text/plain": [
       "[True, 0, 'Awesome']"
      ]
     },
     "execution_count": 42,
     "metadata": {},
     "output_type": "execute_result"
    }
   ],
   "source": [
    "[True, 0, \"Awesome\"]"
   ]
  },
  {
   "cell_type": "markdown",
   "metadata": {},
   "source": [
    "We can put variables into a list and set a variable containing a list."
   ]
  },
  {
   "cell_type": "code",
   "execution_count": 45,
   "metadata": {
    "collapsed": false
   },
   "outputs": [
    {
     "name": "stdout",
     "output_type": "stream",
     "text": [
      "['Eric Idle', \"Albert O'Connor\"]\n"
     ]
    }
   ],
   "source": [
    "your_name = \"Albert O'Connor\"\n",
    "awesome_people = [\"Eric Idle\", your_name]\n",
    "print(awesome_people)"
   ]
  },
  {
   "cell_type": "markdown",
   "metadata": {},
   "source": [
    "Like strings, lists have operations."
   ]
  },
  {
   "cell_type": "code",
   "execution_count": 46,
   "metadata": {
    "collapsed": false
   },
   "outputs": [
    {
     "data": {
      "text/plain": [
       "['__add__',\n",
       " '__class__',\n",
       " '__contains__',\n",
       " '__delattr__',\n",
       " '__delitem__',\n",
       " '__dir__',\n",
       " '__doc__',\n",
       " '__eq__',\n",
       " '__format__',\n",
       " '__ge__',\n",
       " '__getattribute__',\n",
       " '__getitem__',\n",
       " '__gt__',\n",
       " '__hash__',\n",
       " '__iadd__',\n",
       " '__imul__',\n",
       " '__init__',\n",
       " '__iter__',\n",
       " '__le__',\n",
       " '__len__',\n",
       " '__lt__',\n",
       " '__mul__',\n",
       " '__ne__',\n",
       " '__new__',\n",
       " '__reduce__',\n",
       " '__reduce_ex__',\n",
       " '__repr__',\n",
       " '__reversed__',\n",
       " '__rmul__',\n",
       " '__setattr__',\n",
       " '__setitem__',\n",
       " '__sizeof__',\n",
       " '__str__',\n",
       " '__subclasshook__',\n",
       " 'append',\n",
       " 'clear',\n",
       " 'copy',\n",
       " 'count',\n",
       " 'extend',\n",
       " 'index',\n",
       " 'insert',\n",
       " 'pop',\n",
       " 'remove',\n",
       " 'reverse',\n",
       " 'sort']"
      ]
     },
     "execution_count": 46,
     "metadata": {},
     "output_type": "execute_result"
    }
   ],
   "source": [
    "dir([])"
   ]
  },
  {
   "cell_type": "markdown",
   "metadata": {},
   "source": [
    "For a description of all these operations, see the Python documentation. \n",
    "\n",
    "\"append\" is an interesting one. \"append\" lets you add an item to the end of a list."
   ]
  },
  {
   "cell_type": "code",
   "execution_count": 47,
   "metadata": {
    "collapsed": false
   },
   "outputs": [
    {
     "name": "stdout",
     "output_type": "stream",
     "text": [
      "['Eric Idle', \"Albert O'Connor\", 'John Cleese']\n"
     ]
    }
   ],
   "source": [
    "your_name = \"Albert O'Connor\"\n",
    "awesome_people = [\"Eric Idle\", your_name]\n",
    "awesome_people.append(\"John Cleese\")\n",
    "print(awesome_people)"
   ]
  },
  {
   "cell_type": "markdown",
   "metadata": {},
   "source": [
    "We can use square brackets (\"[]\") again with the variable of the list to access individual elements."
   ]
  },
  {
   "cell_type": "code",
   "execution_count": 50,
   "metadata": {
    "collapsed": false
   },
   "outputs": [
    {
     "data": {
      "text/plain": [
       "'Eric Idle'"
      ]
     },
     "execution_count": 50,
     "metadata": {},
     "output_type": "execute_result"
    }
   ],
   "source": [
    "awesome_people[0]"
   ]
  },
  {
   "cell_type": "markdown",
   "metadata": {},
   "source": [
    "There is that 0 indexing again. The first element of the list is given index value 0."
   ]
  },
  {
   "cell_type": "code",
   "execution_count": 49,
   "metadata": {
    "collapsed": false
   },
   "outputs": [
    {
     "name": "stdout",
     "output_type": "stream",
     "text": [
      "These people are awesome: Eric Idle, Albert O'Connor, John Cleese\n"
     ]
    }
   ],
   "source": [
    "print(\"These people are awesome: {0}, {1}, {2}\".format(awesome_people[0], awesome_people[1], awesome_people[2]))"
   ]
  },
  {
   "cell_type": "markdown",
   "metadata": {},
   "source": [
    "### Loops\n",
    "-----\n",
    "\n",
    "Indexes are useful, but lists really shine when you start looping. Loops let you do something for each item in a list. They are kind of like if statements because they have an indented block.\n",
    "\n",
    "They look like this:\n",
    "\n",
    "    for item in list:\n",
    "        print(item) # Do any action per item in the list\n",
    "\n",
    "\"for\" and \"in\" are required. \"list\" can be any variable or literal which is like a list. \"item\" is the name you want to give each item of the list in the indented block as you iterate through. We call each step, where item has a new value, an iteration.\n",
    "\n",
    "Let's see it in action with our list:"
   ]
  },
  {
   "cell_type": "code",
   "execution_count": 51,
   "metadata": {
    "collapsed": false
   },
   "outputs": [
    {
     "name": "stdout",
     "output_type": "stream",
     "text": [
      "Eric Idle\n",
      "Albert O'Connor\n",
      "John Cleese\n"
     ]
    }
   ],
   "source": [
    "your_name = \"Albert O'Connor\"\n",
    "awesome_people = [\"Eric Idle\", your_name]\n",
    "awesome_people.append(\"John Cleese\")\n",
    "\n",
    "for person in awesome_people:\n",
    "    print(person)"
   ]
  },
  {
   "cell_type": "markdown",
   "metadata": {},
   "source": [
    "This is bascially the same as writing"
   ]
  },
  {
   "cell_type": "code",
   "execution_count": null,
   "metadata": {
    "collapsed": false
   },
   "outputs": [],
   "source": [
    "person = awesome_people[0]\n",
    "print(person)\n",
    "person = awesome_people[1]\n",
    "print(person)\n",
    "person = awesome_people[2]\n",
    "print(person)"
   ]
  },
  {
   "cell_type": "markdown",
   "metadata": {},
   "source": [
    "But that is a lot more code than:\n",
    "\n",
    "    for person in awesome_people:\n",
    "        print(person)\n",
    "\n",
    "Considering that our list of awesome people could be very long!\n",
    "\n",
    "You can use the built-in function \"range\" to create lists of numbers easily"
   ]
  },
  {
   "cell_type": "code",
   "execution_count": 52,
   "metadata": {
    "collapsed": false
   },
   "outputs": [
    {
     "data": {
      "text/plain": [
       "range(0, 10)"
      ]
     },
     "execution_count": 52,
     "metadata": {},
     "output_type": "execute_result"
    }
   ],
   "source": [
    "range(0,10)"
   ]
  },
  {
   "cell_type": "markdown",
   "metadata": {},
   "source": [
    "And then we can use that with a loop to print a list of squares."
   ]
  },
  {
   "cell_type": "code",
   "execution_count": 53,
   "metadata": {
    "collapsed": false
   },
   "outputs": [
    {
     "name": "stdout",
     "output_type": "stream",
     "text": [
      "0 squared is 0\n",
      "1 squared is 1\n",
      "2 squared is 4\n",
      "3 squared is 9\n",
      "4 squared is 16\n",
      "5 squared is 25\n",
      "6 squared is 36\n",
      "7 squared is 49\n",
      "8 squared is 64\n",
      "9 squared is 81\n"
     ]
    }
   ],
   "source": [
    "for number in range(0,10):\n",
    "    print(\"{0} squared is {1}\".format(number, number*number))"
   ]
  },
  {
   "cell_type": "markdown",
   "metadata": {},
   "source": [
    "### Dictionaries\n",
    "\n",
    "\n",
    "We have come a long way! Just one more section. Dictionaries are another container like lists, but instead of being indexed by a number like 0 or 1 it is indexed by a key which can be almost anything. The name comes from being able to use it to represent a dictionary.\n",
    "\n",
    "List literals use square brackets (\"[]\") but dictionaries use braces (\"{}\").\n",
    "\n",
    "    {\"Python\": \"An awesome programming language\", \n",
    "     \"Monty Python\": \"A british comedy troupe\"}\n",
    "\n",
    "In a dictionary the key comes first followed by a colon (\":\"), then the value, then a comma (\",\"), then another key and so on. This is one situation where a colon doesn't start a block.\n",
    "\n",
    "Let's see what running the literal dictionary looks like."
   ]
  },
  {
   "cell_type": "code",
   "execution_count": 56,
   "metadata": {
    "collapsed": false
   },
   "outputs": [
    {
     "data": {
      "text/plain": [
       "{'Monty Python': 'A british comedy troupe',\n",
       " 'Python': 'An awesome programming language'}"
      ]
     },
     "execution_count": 56,
     "metadata": {},
     "output_type": "execute_result"
    }
   ],
   "source": [
    "{\"Python\": \"An awesome programming language\", \n",
    " \"Monty Python\": \"A british comedy troupe\"}"
   ]
  },
  {
   "cell_type": "markdown",
   "metadata": {},
   "source": [
    "We can assign a dictionary to a variable and we can index it by keys to get the values (definitions) out."
   ]
  },
  {
   "cell_type": "code",
   "execution_count": 57,
   "metadata": {
    "collapsed": false
   },
   "outputs": [
    {
     "data": {
      "text/plain": [
       "'An awesome programming language'"
      ]
     },
     "execution_count": 57,
     "metadata": {},
     "output_type": "execute_result"
    }
   ],
   "source": [
    "our_dictionary = {\n",
    "   \"Python\": \"An awesome programming language\", \n",
    "   \"Monty Python\": \"A british comedy troupe\"\n",
    "}\n",
    "our_dictionary[\"Python\"]"
   ]
  },
  {
   "cell_type": "markdown",
   "metadata": {},
   "source": [
    "We can loop over the keys in a dictionary to list all of our definitions..."
   ]
  },
  {
   "cell_type": "code",
   "execution_count": 58,
   "metadata": {
    "collapsed": false
   },
   "outputs": [
    {
     "name": "stdout",
     "output_type": "stream",
     "text": [
      "The Key is \"Python\" and the value is  \"An awesome programming language\"\n",
      "The Key is \"Monty Python\" and the value is  \"A british comedy troupe\"\n"
     ]
    }
   ],
   "source": [
    "for key in our_dictionary:\n",
    "    print('The Key is \"{0}\" and the value is  \"{1}\"'.format(key, our_dictionary[key]))"
   ]
  },
  {
   "cell_type": "markdown",
   "metadata": {},
   "source": [
    "### Format with Dictionaries\n",
    "\n",
    "So far our formatting strings have looked like this:\n",
    "\n",
    "    \"Hello, {0}\"\n",
    "\n",
    "Where \"0\" in \"{0}\" refers to the index of the arguments we pass into the format function. We can also put argument names inbetween the braces \"{}\"."
   ]
  },
  {
   "cell_type": "code",
   "execution_count": 59,
   "metadata": {
    "collapsed": false
   },
   "outputs": [
    {
     "name": "stdout",
     "output_type": "stream",
     "text": [
      "Hello, Albert O'Connor! Your favorite color is green.\n"
     ]
    }
   ],
   "source": [
    "print('Hello, {name}! Your favorite color is {favorite_color}.'.format(name=\"Albert O'Connor\", \n",
    "                                                                       favorite_color='green'))\n"
   ]
  },
  {
   "cell_type": "markdown",
   "metadata": {},
   "source": [
    "This is handy if you ever need to reuse a value and you don't want to list it twice.\n",
    "\n",
    "But we can do more, instead of passing keyword arguments into the format function like we did above, we can pass in a dictionary. Note the dictionaries keys have to be strings, but that is exactly what we will be doing."
   ]
  },
  {
   "cell_type": "code",
   "execution_count": 60,
   "metadata": {
    "collapsed": false
   },
   "outputs": [
    {
     "name": "stdout",
     "output_type": "stream",
     "text": [
      "Hello, Albert O'Connor! Your favorite color is green.\n"
     ]
    }
   ],
   "source": [
    "info = {'name': \"Albert O'Connor\",\n",
    "        'favorite color': 'green'}\n",
    "print('Hello, {name}! Your favorite color is {favorite color}.'.format(**info))"
   ]
  },
  {
   "cell_type": "markdown",
   "metadata": {},
   "source": [
    "The \"**\" before data is a bit of stranger Python syntax. It means instead of passing info as the first agrument, pass all the key value pairs inside the info dictionary as keyword arguments. Let's look at a few varation on the syntax one at a time."
   ]
  },
  {
   "cell_type": "code",
   "execution_count": 61,
   "metadata": {
    "collapsed": false
   },
   "outputs": [
    {
     "name": "stdout",
     "output_type": "stream",
     "text": [
      "{'name': \"Albert O'Connor\", 'favorite_color': 'green'}\n"
     ]
    }
   ],
   "source": [
    "data = {'name': \"Albert O'Connor\",\n",
    "        'favorite_color': 'green'}\n",
    "print('{0}'.format(data)) # This prints the dictionary as text"
   ]
  },
  {
   "cell_type": "code",
   "execution_count": 62,
   "metadata": {
    "collapsed": false
   },
   "outputs": [
    {
     "ename": "IndexError",
     "evalue": "tuple index out of range",
     "output_type": "error",
     "traceback": [
      "\u001b[0;31m--------------------------------------------\u001b[0m",
      "\u001b[0;31mIndexError\u001b[0m Traceback (most recent call last)",
      "\u001b[0;32m<ipython-input-62-8d5b4cc80f62>\u001b[0m in \u001b[0;36m<module>\u001b[0;34m()\u001b[0m\n\u001b[1;32m      1\u001b[0m data = {'name': \"Albert O'Connor\",\n\u001b[1;32m      2\u001b[0m         'favorite_color': 'green'}\n\u001b[0;32m----> 3\u001b[0;31m \u001b[0mprint\u001b[0m\u001b[0;34m(\u001b[0m\u001b[0;34m'{0}'\u001b[0m\u001b[0;34m.\u001b[0m\u001b[0mformat\u001b[0m\u001b[0;34m(\u001b[0m\u001b[0;34m**\u001b[0m\u001b[0mdata\u001b[0m\u001b[0;34m)\u001b[0m\u001b[0;34m)\u001b[0m \u001b[0;31m# This produces an error, there are no indexable arguments, just keyword\u001b[0m\u001b[0;34m\u001b[0m\u001b[0m\n\u001b[0m",
      "\u001b[0;31mIndexError\u001b[0m: tuple index out of range"
     ]
    }
   ],
   "source": [
    "data = {'name': \"Albert O'Connor\",\n",
    "        'favorite_color': 'green'}\n",
    "print('{0}'.format(**data)) # This produces an error, there are no indexable arguments, just keyword"
   ]
  },
  {
   "cell_type": "code",
   "execution_count": 63,
   "metadata": {
    "collapsed": false
   },
   "outputs": [
    {
     "name": "stdout",
     "output_type": "stream",
     "text": [
      "Eric!\n"
     ]
    }
   ],
   "source": [
    "data = {'name': \"Albert O'Connor\",\n",
    "        'favorite_color': 'green'}\n",
    "print('{0}'.format('Eric!', **data)) # Eric is the 0th argument, all the keywords are ignored!"
   ]
  },
  {
   "cell_type": "code",
   "execution_count": 64,
   "metadata": {
    "collapsed": false
   },
   "outputs": [
    {
     "ename": "KeyError",
     "evalue": "'name'",
     "output_type": "error",
     "traceback": [
      "\u001b[0;31m--------------------------------------------\u001b[0m",
      "\u001b[0;31mKeyError\u001b[0m   Traceback (most recent call last)",
      "\u001b[0;32m<ipython-input-64-44c40a6f3ede>\u001b[0m in \u001b[0;36m<module>\u001b[0;34m()\u001b[0m\n\u001b[1;32m      2\u001b[0m         'favorite_color': 'green'}\n\u001b[1;32m      3\u001b[0m \u001b[0;31m# data is passed as indexiable so there is no keyword arguments.\u001b[0m\u001b[0;34m\u001b[0m\u001b[0;34m\u001b[0m\u001b[0m\n\u001b[0;32m----> 4\u001b[0;31m \u001b[0mprint\u001b[0m\u001b[0;34m(\u001b[0m\u001b[0;34m'Hello, {name}! Your favorite color is {favorite_color}.'\u001b[0m\u001b[0;34m.\u001b[0m\u001b[0mformat\u001b[0m\u001b[0;34m(\u001b[0m\u001b[0mdata\u001b[0m\u001b[0;34m)\u001b[0m\u001b[0;34m)\u001b[0m\u001b[0;34m\u001b[0m\u001b[0m\n\u001b[0m",
      "\u001b[0;31mKeyError\u001b[0m: 'name'"
     ]
    }
   ],
   "source": [
    "data = {'name': \"Albert O'Connor\",\n",
    "        'favorite_color': 'green'}\n",
    "# data is passed as indexiable so there is no keyword arguments.\n",
    "print('Hello, {name}! Your favorite color is {favorite_color}.'.format(data))"
   ]
  },
  {
   "cell_type": "code",
   "execution_count": 65,
   "metadata": {
    "collapsed": false
   },
   "outputs": [
    {
     "name": "stdout",
     "output_type": "stream",
     "text": [
      "Hello, Albert O'Connor! Your favorite color is green.\n"
     ]
    }
   ],
   "source": [
    "data = {'name': \"Albert O'Connor\",\n",
    "        'favorite_color': 'green'}\n",
    "# There we go, name and favorite_color are passed as keywords.\n",
    "print('Hello, {name}! Your favorite color is {favorite_color}.'.format(**data))"
   ]
  },
  {
   "cell_type": "code",
   "execution_count": 66,
   "metadata": {
    "collapsed": false
   },
   "outputs": [
    {
     "ename": "KeyError",
     "evalue": "'pet_name'",
     "output_type": "error",
     "traceback": [
      "\u001b[0;31m--------------------------------------------\u001b[0m",
      "\u001b[0;31mKeyError\u001b[0m   Traceback (most recent call last)",
      "\u001b[0;32m<ipython-input-66-251924ec9989>\u001b[0m in \u001b[0;36m<module>\u001b[0;34m()\u001b[0m\n\u001b[1;32m      2\u001b[0m         'favorite_color': 'green'}\n\u001b[1;32m      3\u001b[0m \u001b[0;31m# data is passed as keyword, but doesn't have the key 'pet_name'.\u001b[0m\u001b[0;34m\u001b[0m\u001b[0;34m\u001b[0m\u001b[0m\n\u001b[0;32m----> 4\u001b[0;31m \u001b[0mprint\u001b[0m\u001b[0;34m(\u001b[0m\u001b[0;34m'{pet_name}'\u001b[0m\u001b[0;34m.\u001b[0m\u001b[0mformat\u001b[0m\u001b[0;34m(\u001b[0m\u001b[0;34m**\u001b[0m\u001b[0mdata\u001b[0m\u001b[0;34m)\u001b[0m\u001b[0;34m)\u001b[0m\u001b[0;34m\u001b[0m\u001b[0m\n\u001b[0m",
      "\u001b[0;31mKeyError\u001b[0m: 'pet_name'"
     ]
    }
   ],
   "source": [
    "data = {'name': \"Albert O'Connor\",\n",
    "        'favorite_color': 'green'}\n",
    "# data is passed as keyword, but doesn't have the key 'pet_name'.\n",
    "print('{pet_name}'.format(**data))"
   ]
  }
 ],
 "metadata": {
  "anaconda-cloud": {},
  "kernelspec": {
   "display_name": "Python [conda root]",
   "language": "python",
   "name": "conda-root-py"
  },
  "language_info": {
   "codemirror_mode": {
    "name": "ipython",
    "version": 3
   },
   "file_extension": ".py",
   "mimetype": "text/x-python",
   "name": "python",
   "nbconvert_exporter": "python",
   "pygments_lexer": "ipython3",
   "version": "3.5.4"
  }
 },
 "nbformat": 4,
 "nbformat_minor": 0
}
