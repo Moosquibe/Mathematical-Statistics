{
 "cells": [
  {
   "cell_type": "markdown",
   "metadata": {},
   "source": [
    "# Mathematical Statistics - Recitation 2\n",
    "\n",
    "### 9th February 2018\n",
    "\n",
    "## Bootstrapping"
   ]
  },
  {
   "cell_type": "markdown",
   "metadata": {},
   "source": [
    "### Bootstrap Variance Estimation - Wasserman page 109\n",
    "\n",
    "1. Draw $X^{*}_{1}$, $X^{*}_{2}$, ... , $X^{*}_{n}$ ~ $\\hat{F_n}$\n",
    "\n",
    "2. Compute $T^{*}_{n}$ = $g(X^{*}_{1}$, $X^{*}_{2}$, ... , $X^{*}_{n})$\n",
    "\n",
    "3. Repeat steps 1 and 2, B times to get  $T^{*}_{n,1}$, ... , $T^{*}_{n,B}$\n",
    "\n",
    "4. Let $v_{boot}$ = $\\frac{1}{B}$ $\\sum_{b=1}^{B}$ ($T^{*}_{n,b}$ - $\\frac{1}{B}$  $\\sum_{r=1}^{B}$ $T^{*}_{n,r})^{2}$ \n",
    "\n",
    "\n"
   ]
  },
  {
   "cell_type": "markdown",
   "metadata": {},
   "source": [
    "### Example W 8.6.1"
   ]
  },
  {
   "cell_type": "code",
   "execution_count": 1,
   "metadata": {
    "collapsed": true
   },
   "outputs": [],
   "source": [
    "# Package imports\n",
    "from sklearn import datasets\n",
    "import pandas as pd\n",
    "import numpy as np\n",
    "import matplotlib.pyplot as plt\n",
    "import scipy.stats\n",
    "%matplotlib inline\n"
   ]
  },
  {
   "cell_type": "code",
   "execution_count": 2,
   "metadata": {
    "collapsed": true
   },
   "outputs": [],
   "source": [
    "import seaborn as sns\n",
    "sns.set(color_codes=True)"
   ]
  },
  {
   "cell_type": "markdown",
   "metadata": {},
   "source": [
    "##### Specify / load data"
   ]
  },
  {
   "cell_type": "code",
   "execution_count": 3,
   "metadata": {
    "collapsed": true
   },
   "outputs": [],
   "source": [
    "lsatScores = np.array([576, 635, 558, 578, 666, 580, 555, 661, 651, 605, 653, 575, 545, 572, 594])\n",
    "gpaScores = np.array([3.39, 3.30, 2.81, 3.03, 3.44, 3.07, 3.00, 3.43, 3.36, 3.13, 3.12, 2.74, 2.76, 2.88, 3.96])"
   ]
  },
  {
   "cell_type": "markdown",
   "metadata": {},
   "source": [
    "##### Plug-in estimate of the correlation coefficient\n",
    "\n",
    "Plug in estimate is the sample correlation which we can calculate using numpy or scipy.stats"
   ]
  },
  {
   "cell_type": "code",
   "execution_count": 4,
   "metadata": {},
   "outputs": [
    {
     "data": {
      "text/plain": [
       "array([[ 1.        ,  0.54591892],\n",
       "       [ 0.54591892,  1.        ]])"
      ]
     },
     "execution_count": 4,
     "metadata": {},
     "output_type": "execute_result"
    }
   ],
   "source": [
    "# Correlation coefficient\n",
    "\n",
    "np.corrcoef(lsatScores, gpaScores)\n",
    "\n",
    "#Prints a matrix with correlations\n"
   ]
  },
  {
   "cell_type": "code",
   "execution_count": 5,
   "metadata": {
    "collapsed": true
   },
   "outputs": [],
   "source": [
    "# Handy tip on how to see the help file on functions - type the function followed by a '?' question mark\n",
    "\n",
    "scipy.stats.pearsonr?\n",
    "\n",
    "## also, if you're unsure a function name use can use 'tab' to provide some autofill options\n",
    "## try typing 'np.corr' then press tab (once you have the function, you can press shift + tab also which is helpful)\n"
   ]
  },
  {
   "cell_type": "code",
   "execution_count": 6,
   "metadata": {},
   "outputs": [
    {
     "data": {
      "text/plain": [
       "(0.54591891617958854, 0.035271615127326676)"
      ]
     },
     "execution_count": 6,
     "metadata": {},
     "output_type": "execute_result"
    }
   ],
   "source": [
    "scipy.stats.pearsonr(lsatScores, gpaScores)\n",
    "\n",
    "# prints correlation coefficient and p-value (check what test is being performed)\n"
   ]
  },
  {
   "cell_type": "code",
   "execution_count": 7,
   "metadata": {},
   "outputs": [
    {
     "data": {
      "text/plain": [
       "0.54591891617958854"
      ]
     },
     "execution_count": 7,
     "metadata": {},
     "output_type": "execute_result"
    }
   ],
   "source": [
    "scipy.stats.pearsonr(lsatScores, gpaScores)[0]\n",
    "\n",
    "# prints only correlation coefficient\n"
   ]
  },
  {
   "cell_type": "markdown",
   "metadata": {},
   "source": [
    "##### Estimate standard error using boostrap\n",
    "\n",
    "First use the steps above to calculate $v_{boot}$. Note the function g above in this case is the formula for calculating correlation coefficient."
   ]
  },
  {
   "cell_type": "code",
   "execution_count": 8,
   "metadata": {},
   "outputs": [
    {
     "data": {
      "text/plain": [
       "15"
      ]
     },
     "execution_count": 8,
     "metadata": {},
     "output_type": "execute_result"
    }
   ],
   "source": [
    "numberObservations = len(lsatScores)\n",
    "numberObservations"
   ]
  },
  {
   "cell_type": "code",
   "execution_count": 9,
   "metadata": {},
   "outputs": [
    {
     "data": {
      "text/plain": [
       "[0, 1, 2, 3, 4, 5, 6, 7, 8, 9, 10, 11, 12, 13, 14]"
      ]
     },
     "execution_count": 9,
     "metadata": {},
     "output_type": "execute_result"
    }
   ],
   "source": [
    "observationIDs = range(numberObservations)\n",
    "observationIDs"
   ]
  },
  {
   "cell_type": "markdown",
   "metadata": {},
   "source": [
    "Let's use the np.choose function to take a simple random sample of our observations, and recall we are sampling with replacement."
   ]
  },
  {
   "cell_type": "code",
   "execution_count": 10,
   "metadata": {},
   "outputs": [
    {
     "data": {
      "text/plain": [
       "array([ 0, 12,  5,  1,  8,  1, 11,  9,  3,  0, 13,  5,  8,  8,  0])"
      ]
     },
     "execution_count": 10,
     "metadata": {},
     "output_type": "execute_result"
    }
   ],
   "source": [
    "# set seed for replicability of random sampling\n",
    "np.random.seed(999)\n",
    "\n",
    "\n",
    "# this chooses a sample from the observation IDs with replacement\n",
    "resampleObsIDs = np.random.choice(observationIDs, size=numberObservations, replace=True)\n",
    "resampleObsIDs"
   ]
  },
  {
   "cell_type": "code",
   "execution_count": 11,
   "metadata": {},
   "outputs": [
    {
     "data": {
      "text/plain": [
       "(array([576, 545, 580, 635, 651, 635, 575, 605, 578, 576, 572, 580, 651,\n",
       "        651, 576]),\n",
       " array([ 3.39,  2.76,  3.07,  3.3 ,  3.36,  3.3 ,  2.74,  3.13,  3.03,\n",
       "         3.39,  2.88,  3.07,  3.36,  3.36,  3.39]))"
      ]
     },
     "execution_count": 11,
     "metadata": {},
     "output_type": "execute_result"
    }
   ],
   "source": [
    "resampleLsatScores = lsatScores[[resampleObsIDs]]\n",
    "resampleGpaScores = gpaScores[[resampleObsIDs]]\n",
    "resampleLsatScores, resampleGpaScores"
   ]
  },
  {
   "cell_type": "code",
   "execution_count": 12,
   "metadata": {},
   "outputs": [
    {
     "data": {
      "text/plain": [
       "(0.6064015312680342, 0.54591891617958854)"
      ]
     },
     "execution_count": 12,
     "metadata": {},
     "output_type": "execute_result"
    }
   ],
   "source": [
    "\n",
    "## Calculate correlation of resampled GPA and LSAT scores\n",
    "\n",
    "resampledCorrel = scipy.stats.pearsonr(resampleLsatScores, resampleGpaScores)[0]\n",
    "\n",
    "actualSampleCorrel = scipy.stats.pearsonr(lsatScores, gpaScores)[0]\n",
    "\n",
    "resampledCorrel, actualSampleCorrel\n",
    "\n",
    "# notice slight differences between resampled correlation and actual Sample correlation\n"
   ]
  },
  {
   "cell_type": "markdown",
   "metadata": {},
   "source": [
    "### Create the loop to bring this all together\n",
    "\n",
    "We'll resample 1,000 times to calculate a variance of the resampled correlation coefficient"
   ]
  },
  {
   "cell_type": "code",
   "execution_count": 13,
   "metadata": {
    "collapsed": true
   },
   "outputs": [],
   "source": [
    "sampB = 1000"
   ]
  },
  {
   "cell_type": "code",
   "execution_count": 14,
   "metadata": {
    "collapsed": true
   },
   "outputs": [],
   "source": [
    "statStore = []\n",
    "\n",
    "for i in range(sampB):\n",
    "    resampleObsIDs = np.random.choice(observationIDs, size=numberObservations, replace=True)\n",
    "    resampleLsatScores = lsatScores[[resampleObsIDs]]\n",
    "    resampleGpaScores = gpaScores[[resampleObsIDs]]\n",
    "    \n",
    "    resampledCorrel = scipy.stats.pearsonr(resampleLsatScores, resampleGpaScores)[0]\n",
    "\n",
    "    statStore.append(resampledCorrel)\n",
    "    "
   ]
  },
  {
   "cell_type": "code",
   "execution_count": 15,
   "metadata": {},
   "outputs": [
    {
     "data": {
      "text/plain": [
       "0.037910013450373953"
      ]
     },
     "execution_count": 15,
     "metadata": {},
     "output_type": "execute_result"
    }
   ],
   "source": [
    "vBoot = np.var(statStore)\n",
    "vBoot"
   ]
  },
  {
   "cell_type": "code",
   "execution_count": 16,
   "metadata": {},
   "outputs": [
    {
     "data": {
      "text/plain": [
       "0.19470493946064632"
      ]
     },
     "execution_count": 16,
     "metadata": {},
     "output_type": "execute_result"
    }
   ],
   "source": [
    "stdDevBoot = np.sqrt(vBoot)\n",
    "stdDevBoot"
   ]
  },
  {
   "cell_type": "code",
   "execution_count": 17,
   "metadata": {},
   "outputs": [
    {
     "name": "stdout",
     "output_type": "stream",
     "text": [
      "The NORMAL confidence interval is given by, Lower: 0.1643 and Upper: 0.9275.\n"
     ]
    }
   ],
   "source": [
    "zStat = 1.96\n",
    "\n",
    "LowerEst = actualSampleCorrel - zStat * stdDevBoot\n",
    "UpperEst = actualSampleCorrel + zStat * stdDevBoot\n",
    "\n",
    "print(\"The NORMAL confidence interval is given by, \" +\n",
    "      \"Lower: {} and Upper: {}.\".format(round(LowerEst,4), round(UpperEst,4))) \n",
    "\n"
   ]
  },
  {
   "cell_type": "markdown",
   "metadata": {},
   "source": [
    "*For pivotal and percentile intervals, we need to order/sort the observations.*"
   ]
  },
  {
   "cell_type": "code",
   "execution_count": 18,
   "metadata": {
    "collapsed": true
   },
   "outputs": [],
   "source": [
    "statScoreOrdered = np.sort(statStore)"
   ]
  },
  {
   "cell_type": "markdown",
   "metadata": {},
   "source": [
    "##### Pivotal confidence interval (Wasserman page 111)"
   ]
  },
  {
   "cell_type": "code",
   "execution_count": 19,
   "metadata": {},
   "outputs": [
    {
     "name": "stdout",
     "output_type": "stream",
     "text": [
      "The PIVOTAL confidence interval is given by, Lower: 0.2252 and Upper: 0.9307.\n"
     ]
    }
   ],
   "source": [
    "lowerPivotal = 2 * np.average(statScoreOrdered) - 0.5 * (statScoreOrdered[974] + statScoreOrdered[975])\n",
    "upperPivotal = 2 * np.average(statScoreOrdered) - 0.5 * (statScoreOrdered[24] + statScoreOrdered[25])\n",
    "print(\"The PIVOTAL confidence interval is given by, \" +\n",
    "      \"Lower: {} and Upper: {}.\".format(round(lowerPivotal,4), round(upperPivotal,4))) "
   ]
  },
  {
   "cell_type": "markdown",
   "metadata": {},
   "source": [
    "##### Percentile method"
   ]
  },
  {
   "cell_type": "code",
   "execution_count": 20,
   "metadata": {},
   "outputs": [
    {
     "data": {
      "text/plain": [
       "array([-0.13922354,  0.01381625,  0.04437701,  0.04801405,  0.12006452,\n",
       "        0.14332058,  0.14962186,  0.15429208,  0.16790496,  0.17124794])"
      ]
     },
     "execution_count": 20,
     "metadata": {},
     "output_type": "execute_result"
    }
   ],
   "source": [
    "statScoreOrdered[0:10]"
   ]
  },
  {
   "cell_type": "markdown",
   "metadata": {},
   "source": [
    " We have 1000 observations. To obtain a 95% interval about the center."
   ]
  },
  {
   "cell_type": "code",
   "execution_count": 21,
   "metadata": {},
   "outputs": [
    {
     "name": "stdout",
     "output_type": "stream",
     "text": [
      "The PERCENTILE interval is given by, Lower: 0.2364 and Upper: 0.9418.\n"
     ]
    }
   ],
   "source": [
    "LowerPercentile = 0.5 * (statScoreOrdered[24] + statScoreOrdered[25])\n",
    "UpperPercentile = 0.5 * (statScoreOrdered[974] + statScoreOrdered[975])\n",
    "\n",
    "print(\"The PERCENTILE interval is given by, \" +\n",
    "      \"Lower: {} and Upper: {}.\".format(round(LowerPercentile,4), round(UpperPercentile,4))) \n"
   ]
  },
  {
   "cell_type": "code",
   "execution_count": 22,
   "metadata": {},
   "outputs": [
    {
     "data": {
      "text/plain": [
       "(0.23592495784691689, 0.94181063396730325)"
      ]
     },
     "execution_count": 22,
     "metadata": {},
     "output_type": "execute_result"
    }
   ],
   "source": [
    "## What if we weren't so precise.. by averaging 24th and 25th observation?\n",
    "statScoreOrdered[24], statScoreOrdered[974]\n",
    "\n",
    "## We get approximately the same answer. It's a little crude, but may be more practical"
   ]
  },
  {
   "cell_type": "code",
   "execution_count": 23,
   "metadata": {},
   "outputs": [
    {
     "data": {
      "image/png": "[encoded data removed]",
      "text/plain": [
       "<matplotlib.figure.Figure at 0xecf34a8>"
      ]
     },
     "metadata": {},
     "output_type": "display_data"
    }
   ],
   "source": [
    "plt.figure(figsize=(8,6))\n",
    "plt.hist(statScoreOrdered);\n",
    "plt.title('Histogram of number of proportions', fontsize = 18)\n",
    "plt.xlabel('Observations within bound', fontsize = 16)\n",
    "plt.ylabel('Count', fontsize = 16)\n",
    "plt.xticks(fontsize = 13)\n",
    "plt.yticks(fontsize = 13)\n",
    "plt.legend(fontsize = 14);"
   ]
  },
  {
   "cell_type": "markdown",
   "metadata": {},
   "source": [
    "## Exponential families"
   ]
  },
  {
   "cell_type": "markdown",
   "metadata": {},
   "source": [
    "We are bringing a lot together here. \n",
    "\n",
    "A **sufficient statistic** is a statistic that contains all the information in the data. Formally you can see the definition W 9.32 Definition page 137.\n"
   ]
  },
  {
   "cell_type": "markdown",
   "metadata": {},
   "source": [
    "A statistic $T$ is **minimally sufficient** if: \n",
    "\n",
    "(i) it is sufficient; and\n",
    "(ii) it is a function of every other sufficient statistic"
   ]
  },
  {
   "cell_type": "markdown",
   "metadata": {},
   "source": [
    "#### Definition of exponential families\n",
    "\n",
    "In practice a lot of the distributions we commonly use are part of this family. ***Although not all***\n",
    "\n",
    "##### One-parameter exponential family\n",
    "\n",
    "We say that {$f(x;\\theta): \\theta \\in \\Theta $} is a **one-parameter exponential family** if there are functions $B(\\theta)$, $T(\\theta$), $\\eta(\\theta)$ and $h(x)$ such that:\n",
    "\n",
    "$f(x;\\theta)$ = $h(x)$ $e^{\\eta(\\theta) T(x) - B(\\theta)}$\n",
    "\n"
   ]
  },
  {
   "cell_type": "markdown",
   "metadata": {
    "collapsed": true
   },
   "source": [
    "### Class exercise\n",
    "\n",
    "Show that the following distribution are members of the exponential family and state $B(\\theta)$, $T(\\theta$), $\\eta(\\theta)$ and $h(x)$ in each case.\n",
    "\n",
    "(We worked through in class)"
   ]
  }
 ],
 "metadata": {
  "kernelspec": {
   "display_name": "Python 2",
   "language": "python",
   "name": "python2"
  },
  "language_info": {
   "codemirror_mode": {
    "name": "ipython",
    "version": 2
   },
   "file_extension": ".py",
   "mimetype": "text/x-python",
   "name": "python",
   "nbconvert_exporter": "python",
   "pygments_lexer": "ipython2",
   "version": "2.7.14"
  }
 },
 "nbformat": 4,
 "nbformat_minor": 2
}
