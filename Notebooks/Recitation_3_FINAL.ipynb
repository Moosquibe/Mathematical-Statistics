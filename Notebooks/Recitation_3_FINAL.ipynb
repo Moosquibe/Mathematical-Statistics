{
 "cells": [
  {
   "cell_type": "markdown",
   "metadata": {},
   "source": [
    "# Mathematical Statistics - Recitation 3\n",
    "\n",
    "### 16th February 2018\n",
    "\n",
    "## Bayesian estimation"
   ]
  },
  {
   "cell_type": "markdown",
   "metadata": {},
   "source": [
    "From Wasserman page 176\n",
    "\n",
    "1. We choose a probability density $f(\\theta)$ - called the **prior distribution** - that expresses our beliefs about a parameter $\\theta$ before we see any data. *The prior terminology is a **probability distribution** that would express one's beliefs about this quantity before some evidence is taken into account.*\n",
    "\n",
    "2. We choose a statistical model $f(x|\\theta)$ that reflects our beliefs about $x$ given $\\theta$. We write this is as $f(x|\\theta)$.\n",
    "\n",
    "3. After observing data $X_1, X_2,..., X_n$, we update our beliefs and calculate the **posterior distribution** $f(\\theta$|  $X_1, X_2,..., X_n$). The *posterior distribution* is the distribution of possible unobserved values conditional on the observed values."
   ]
  },
  {
   "cell_type": "markdown",
   "metadata": {},
   "source": [
    "Important result - equation (11.2) from Wasserman, page 177"
   ]
  },
  {
   "cell_type": "markdown",
   "metadata": {},
   "source": [
    "Note: $x^n$ and $X^n$ are shorthand for $x_1, x_2,..., x_n$ and $X_1, X_2,..., X_n$ respectively.\n",
    "\n",
    "$f(\\theta$,  $x^n$) = $\\frac{f(x^n|\\theta)f(\\theta)}{\\int f(x^n|\\theta)f(\\theta) d \\theta}$ = $\\frac{\\mathcal{L}_n(\\theta) f(\\theta)}{c_n}$ where $c_n = \\int  \\mathcal{L}_n(\\theta)f(\\theta) d\\theta$\n",
    "\n",
    "Also, recall $\\mathcal{L}_n(\\theta)$ is the likelihood function."
   ]
  },
  {
   "cell_type": "code",
   "execution_count": 2,
   "metadata": {
    "collapsed": true
   },
   "outputs": [],
   "source": [
    "# Package imports\n",
    "from sklearn import datasets\n",
    "import pandas as pd\n",
    "import numpy as np\n",
    "import matplotlib.pyplot as plt\n",
    "import scipy.stats\n",
    "%matplotlib inline\n",
    "import seaborn as sns\n",
    "sns.set(color_codes=True)"
   ]
  },
  {
   "cell_type": "markdown",
   "metadata": {},
   "source": [
    "### Example W 11.12.2\n",
    "\n",
    "$X_1, X_2,..., X_n$ ~ Normal($\\mu, 1$)\n",
    "\n",
    "*Part (a)*"
   ]
  },
  {
   "cell_type": "code",
   "execution_count": 3,
   "metadata": {},
   "outputs": [
    {
     "data": {
      "text/plain": [
       "array([ 5.12715784,  6.40189088,  5.31481499,  4.14155084,  4.73386556])"
      ]
     },
     "execution_count": 3,
     "metadata": {},
     "output_type": "execute_result"
    }
   ],
   "source": [
    "numberOfObs = 100\n",
    "\n",
    "mu = 5\n",
    "sigma = 1\n",
    "\n",
    "## set random seed for repeatability\n",
    "np.random.seed(999)\n",
    "\n",
    "\n",
    "xObs = np.random.normal(mu, sigma, numberOfObs)\n",
    "xObs[0:5]"
   ]
  },
  {
   "cell_type": "markdown",
   "metadata": {},
   "source": [
    "*Part (b)*"
   ]
  },
  {
   "cell_type": "markdown",
   "metadata": {},
   "source": [
    "Analytically determine the likelihood function:\n",
    "\n",
    "Using improper prior result on Wasserman page 182, $\\mu$ | $X^n$ ~ $N(\\bar{X}, \\frac{1}{n})$ \n",
    "\n",
    "$n = 100$\n",
    "\n",
    "Therefore,\n",
    "\n",
    "$f(\\mu | X^n )={\\sqrt {\\frac {100}{2\\pi}}}e^{-{\\frac {100(\\mu-\\bar{x} )^{2}}{2}}}$\n"
   ]
  },
  {
   "cell_type": "code",
   "execution_count": 4,
   "metadata": {},
   "outputs": [
    {
     "data": {
      "text/plain": [
       "5.1896087655658816"
      ]
     },
     "execution_count": 4,
     "metadata": {},
     "output_type": "execute_result"
    }
   ],
   "source": [
    "#sample mean of the total 100 observations\n",
    "mX = xObs.mean()\n",
    "mX"
   ]
  },
  {
   "cell_type": "code",
   "execution_count": 7,
   "metadata": {
    "collapsed": true
   },
   "outputs": [],
   "source": [
    "muPlot = np.linspace(4.65,5.75,100)\n",
    "densityPlot = 10/np.sqrt(np.pi)*np.exp(-0.5 * (100 * (muPlot - mX) ** 2))"
   ]
  },
  {
   "cell_type": "code",
   "execution_count": 8,
   "metadata": {},
   "outputs": [
    {
     "data": {
      "image/png": "[encoded data removed]",
      "text/plain": [
       "<matplotlib.figure.Figure at 0xea70860>"
      ]
     },
     "metadata": {},
     "output_type": "display_data"
    }
   ],
   "source": [
    "plt.figure(figsize=(10,7))\n",
    "plt.title('Plot of posterior density as a function of $\\mu$', fontsize = 18)\n",
    "plt.xlabel('Estimate of $\\mu$', fontsize = 16)\n",
    "plt.ylabel('Posterior density', fontsize = 16)\n",
    "plt.xticks(fontsize = 13)\n",
    "plt.yticks(fontsize = 13)\n",
    "plt.legend(fontsize = 14);\n",
    "plt.plot(muPlot, densityPlot);"
   ]
  },
  {
   "cell_type": "markdown",
   "metadata": {},
   "source": [
    "**Figure 1:** Probability density function of the posterior distribution.\n",
    "\n",
    "Note, the center of the distribution whilst close to 5, is not 5."
   ]
  },
  {
   "cell_type": "markdown",
   "metadata": {},
   "source": [
    "*Part (c)*\n",
    "\n",
    "Using part (b) above, we found posterior distribution: \n",
    "\n",
    "$\\mu$ | $X^n$ ~ $N(\\bar{X}, \\frac{1}{n}) = N(\\bar{X}, \\frac{1}{100})$\n"
   ]
  },
  {
   "cell_type": "code",
   "execution_count": 12,
   "metadata": {},
   "outputs": [
    {
     "data": {
      "text/plain": [
       "0"
      ]
     },
     "execution_count": 12,
     "metadata": {},
     "output_type": "execute_result"
    }
   ],
   "source": [
    "1 / numberOfObs"
   ]
  },
  {
   "cell_type": "code",
   "execution_count": 15,
   "metadata": {},
   "outputs": [
    {
     "data": {
      "text/plain": [
       "array([ 5.22934348,  5.43595514,  5.04889606,  5.29317606,  5.29266639])"
      ]
     },
     "execution_count": 15,
     "metadata": {},
     "output_type": "execute_result"
    }
   ],
   "source": [
    "#Simulate 1,000 observations from the posterior distribution\n",
    "\n",
    "samplingObs = 1000\n",
    "posteriorObs = np.random.normal(mX, np.sqrt(1. / numberOfObs), samplingObs)\n",
    "posteriorObs[0:5]"
   ]
  },
  {
   "cell_type": "code",
   "execution_count": 16,
   "metadata": {},
   "outputs": [
    {
     "data": {
      "image/png": "[encoded data removed]",
      "text/plain": [
       "<matplotlib.figure.Figure at 0xfad4dd8>"
      ]
     },
     "metadata": {},
     "output_type": "display_data"
    }
   ],
   "source": [
    "# Plot histogram\n",
    "plt.figure(figsize=(8,6))\n",
    "plt.hist(posteriorObs);\n",
    "plt.title('Histogram of sampling from the posterior density', fontsize = 18)\n",
    "plt.xlabel('Bound', fontsize = 16)\n",
    "plt.ylabel('Count', fontsize = 16)\n",
    "plt.xticks(fontsize = 13)\n",
    "plt.yticks(fontsize = 13)\n",
    "plt.legend(fontsize = 14);\n"
   ]
  },
  {
   "cell_type": "markdown",
   "metadata": {},
   "source": [
    "**Figure 2:** Histogram of randomly drawn observations from the posterior distribution.\n",
    "\n",
    "The histogram above appears to have  very similar shape to the analytical density plotted above. This intuitively is as we would expect, as we sampled from the posterior distribution."
   ]
  },
  {
   "cell_type": "markdown",
   "metadata": {},
   "source": [
    "*Part (d)*\n",
    "\n",
    "Suppose $\\theta = e^{\\mu}$, then\n",
    "\n",
    "$H(\\theta, x^n) = P(g(\\mu) \\leq \\theta | x^n) = P(e^{\\mu} \\leq \\theta | x^n) = P(\\mu \\leq log(\\theta) | x^n)$\n",
    "\n",
    "Therefore,\n",
    "\n",
    "$H(\\theta, x^n)$ = $\\int_{-\\infty}^{log(\\theta)}{{\\sqrt {\\frac {100}{2\\pi}}}e^{-{\\frac {100(\\mu-\\bar{x} )^{2}}{2}}}} d\\mu$\n"
   ]
  },
  {
   "cell_type": "code",
   "execution_count": 17,
   "metadata": {
    "collapsed": true
   },
   "outputs": [],
   "source": [
    "# via simulation\n",
    "posteriorThetaObs = np.exp(posteriorObs)"
   ]
  },
  {
   "cell_type": "code",
   "execution_count": 19,
   "metadata": {},
   "outputs": [
    {
     "data": {
      "image/png": "[encoded data removed]",
      "text/plain": [
       "<matplotlib.figure.Figure at 0xfc7c9e8>"
      ]
     },
     "metadata": {},
     "output_type": "display_data"
    }
   ],
   "source": [
    "# Plot histogram\n",
    "plt.figure(figsize=(8,6))\n",
    "plt.hist(posteriorThetaObs);\n",
    "plt.title('Histogram of the posterior density for $\\Theta$', fontsize = 18)\n",
    "plt.xlabel('Bound', fontsize = 16)\n",
    "plt.ylabel('Count', fontsize = 16)\n",
    "plt.xticks(fontsize = 13)\n",
    "plt.yticks(fontsize = 13)\n",
    "plt.legend(fontsize = 14);\n"
   ]
  },
  {
   "cell_type": "markdown",
   "metadata": {},
   "source": [
    "*Part (e) and (f)*"
   ]
  },
  {
   "cell_type": "code",
   "execution_count": 20,
   "metadata": {
    "collapsed": true
   },
   "outputs": [],
   "source": [
    "#Sort the two samplings from the posterior distributions\n",
    "sortPostObs = np.sort(posteriorObs)\n",
    "sortPostThetaObs = np.sort(posteriorThetaObs)\n"
   ]
  },
  {
   "cell_type": "code",
   "execution_count": 23,
   "metadata": {},
   "outputs": [
    {
     "name": "stdout",
     "output_type": "stream",
     "text": [
      "The 95% confidence interval for MU is between 5.0 and 5.39\n",
      "The 95% confidence interval for THETA is between 148.79 and 219.27\n"
     ]
    }
   ],
   "source": [
    "# 95% CI bounds\n",
    "muLower = round(sortPostObs[25],2)\n",
    "muUpper = round(sortPostObs[975],2)\n",
    "\n",
    "thetaLower = round(sortPostThetaObs[25],2)\n",
    "thetaUpper = round(sortPostThetaObs[975],2)\n",
    "\n",
    "print(\"The 95% confidence interval for MU is between {} and {}\".format(muLower, muUpper))\n",
    "print(\"The 95% confidence interval for THETA is between {} and {}\".format(thetaLower, thetaUpper))"
   ]
  },
  {
   "cell_type": "markdown",
   "metadata": {
    "collapsed": true
   },
   "source": [
    "### Example CB 7.26"
   ]
  },
  {
   "cell_type": "markdown",
   "metadata": {
    "collapsed": true
   },
   "source": [
    "![alt text](https://raw.githubusercontent.com/jkastelan/iHeartCUSPhackDay2017/master/Question%207.26.png \"Title\")"
   ]
  },
  {
   "cell_type": "code",
   "execution_count": null,
   "metadata": {
    "collapsed": true
   },
   "outputs": [],
   "source": []
  }
 ],
 "metadata": {
  "kernelspec": {
   "display_name": "Python 2",
   "language": "python",
   "name": "python2"
  },
  "language_info": {
   "codemirror_mode": {
    "name": "ipython",
    "version": 2
   },
   "file_extension": ".py",
   "mimetype": "text/x-python",
   "name": "python",
   "nbconvert_exporter": "python",
   "pygments_lexer": "ipython2",
   "version": "2.7.14"
  }
 },
 "nbformat": 4,
 "nbformat_minor": 2
}
