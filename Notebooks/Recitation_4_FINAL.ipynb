{
 "cells": [
  {
   "cell_type": "markdown",
   "metadata": {},
   "source": [
    "# Mathematical Statistics - Recitation 4\n",
    "\n",
    "### 23rd February 2018\n",
    "\n",
    "## Cramer-Rao inequality and Rao-Blackwell theorem"
   ]
  },
  {
   "cell_type": "markdown",
   "metadata": {},
   "source": [
    "### Example CB 7.37 \n"
   ]
  },
  {
   "cell_type": "markdown",
   "metadata": {},
   "source": [
    "![alt text](https://raw.githubusercontent.com/jkastelan/iHeartCUSPhackDay2017/master/Ex7.37.png \"Exercise 7.37\")"
   ]
  },
  {
   "cell_type": "markdown",
   "metadata": {},
   "source": [
    "___________________________________\n"
   ]
  },
  {
   "cell_type": "markdown",
   "metadata": {},
   "source": [
    "\n",
    "*From Casella-Berger page 341*\n",
    "\n",
    "#### Corollary 7.3.15\n",
    "\n",
    "Let  $X_1, X_2,..., X_n$ be i.i.d. $f(x|\\theta)$, where $f(x|\\theta)$ satisfies the conditions of the $Cr\\acute{a}mer$-$Rao$ Theorem. Let $L(\\theta| x^n)$ = $\\prod_{i=1}^{n}f(x_i|\\theta)$ denote the likelihood function. If $W(X^n) = W(X_1, X_2,..., X_n)$ is any unbiased estimator of $\\tau(\\theta)$, then $W(X^n)$ attains the $Cr\\acute{a}mer$-$Rao$ lower bound *if and only if*\n",
    "\n",
    "$$\n",
    "a(\\theta) [W(x^n) - \\tau(\\theta)] = \\frac{\\partial}{\\partial \\theta} log(L(\\theta| x^n))\n",
    "$$\n",
    "\n",
    "for some function $a(\\theta)$.\n"
   ]
  },
  {
   "cell_type": "markdown",
   "metadata": {},
   "source": [
    "### Example CB 7.38\n"
   ]
  },
  {
   "cell_type": "markdown",
   "metadata": {},
   "source": [
    "![alt text](https://raw.githubusercontent.com/jkastelan/iHeartCUSPhackDay2017/master/Ex7.38a.png \"Exercise 7.38a\")"
   ]
  },
  {
   "cell_type": "markdown",
   "metadata": {},
   "source": [
    "![alt text](https://raw.githubusercontent.com/jkastelan/iHeartCUSPhackDay2017/master/Ex7.38b.png \"Exercise 7.38b\")"
   ]
  },
  {
   "cell_type": "markdown",
   "metadata": {},
   "source": [
    "___________________________________"
   ]
  },
  {
   "cell_type": "markdown",
   "metadata": {},
   "source": [
    "\n",
    "## The Jackknife \n",
    "\n",
    "##### Please review material in CB / W about the jackknife\n",
    "\n",
    "Wasserman page 115 (section 8.5.1 - The jackknife)\n",
    "\n",
    "### Example CB 7.66 \n",
    "\n"
   ]
  },
  {
   "cell_type": "markdown",
   "metadata": {},
   "source": [
    "![alt text](https://raw.githubusercontent.com/jkastelan/iHeartCUSPhackDay2017/master/Ex7.66.png \"Exercise 7.66\")"
   ]
  }
 ],
 "metadata": {
  "kernelspec": {
   "display_name": "Python 2",
   "language": "python",
   "name": "python2"
  },
  "language_info": {
   "codemirror_mode": {
    "name": "ipython",
    "version": 2
   },
   "file_extension": ".py",
   "mimetype": "text/x-python",
   "name": "python",
   "nbconvert_exporter": "python",
   "pygments_lexer": "ipython2",
   "version": "2.7.14"
  }
 },
 "nbformat": 4,
 "nbformat_minor": 2
}
