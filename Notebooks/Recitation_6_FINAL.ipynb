{
 "cells": [
  {
   "cell_type": "markdown",
   "metadata": {},
   "source": [
    "# Mathematical Statistics - Recitation 6\n",
    "\n",
    "### 9th March 2018\n",
    "\n",
    "##  Asymptotic efficiency, ARE, hypothesis testing and MLR tests"
   ]
  },
  {
   "cell_type": "code",
   "execution_count": 1,
   "metadata": {},
   "outputs": [
    {
     "name": "stderr",
     "output_type": "stream",
     "text": [
      "C:\\Users\\Jonathan\\Anaconda2\\lib\\site-packages\\statsmodels\\compat\\pandas.py:56: FutureWarning: The pandas.core.datetools module is deprecated and will be removed in a future version. Please use the pandas.tseries module instead.\n",
      "  from pandas.core import datetools\n"
     ]
    },
    {
     "name": "stdout",
     "output_type": "stream",
     "text": [
      "Populating the interactive namespace from numpy and matplotlib\n"
     ]
    }
   ],
   "source": [
    "import numpy as np\n",
    "import pandas as pd\n",
    "from matplotlib import pyplot as plt\n",
    "import scipy.stats\n",
    "\n",
    "import seaborn as sns\n",
    "import statsmodels.api as sm\n",
    "plt.style.use('seaborn')\n",
    "\n",
    "%pylab inline"
   ]
  },
  {
   "cell_type": "markdown",
   "metadata": {},
   "source": [
    "## MLR tests\n",
    "\n",
    "### Example CB 8.6"
   ]
  },
  {
   "cell_type": "markdown",
   "metadata": {},
   "source": [
    "##### Part (a)"
   ]
  },
  {
   "cell_type": "markdown",
   "metadata": {},
   "source": [
    "![alt text](https://raw.githubusercontent.com/jkastelan/iHeartCUSPhackDay2017/master/MS/Ex8.6a1.png \"Exercise 8.6\")\n"
   ]
  },
  {
   "cell_type": "markdown",
   "metadata": {},
   "source": [
    "![alt text](https://raw.githubusercontent.com/jkastelan/iHeartCUSPhackDay2017/master/MS/Ex8.6a2.png \"Exercise 8.6\")"
   ]
  },
  {
   "cell_type": "markdown",
   "metadata": {},
   "source": [
    "##### Part (b)"
   ]
  },
  {
   "cell_type": "markdown",
   "metadata": {},
   "source": [
    "![alt text](https://raw.githubusercontent.com/jkastelan/iHeartCUSPhackDay2017/master/MS/Ex8.6b.png \"Exercise 8.6\")"
   ]
  },
  {
   "cell_type": "markdown",
   "metadata": {},
   "source": [
    "##### Part (c)"
   ]
  },
  {
   "cell_type": "markdown",
   "metadata": {},
   "source": [
    "![alt text](https://raw.githubusercontent.com/jkastelan/iHeartCUSPhackDay2017/master/MS/Ex8.6c.png \"Exercise 8.6\")"
   ]
  },
  {
   "cell_type": "markdown",
   "metadata": {},
   "source": [
    "________________________________________"
   ]
  },
  {
   "cell_type": "markdown",
   "metadata": {},
   "source": [
    "## Asymptotic efficiency\n",
    "\n",
    "### Example CB 10.9"
   ]
  },
  {
   "cell_type": "markdown",
   "metadata": {},
   "source": [
    "![alt text](https://raw.githubusercontent.com/jkastelan/iHeartCUSPhackDay2017/master/MS/Ex10.9.png \"Exercise 10.9\")"
   ]
  },
  {
   "cell_type": "markdown",
   "metadata": {},
   "source": [
    "##### Part (a)"
   ]
  },
  {
   "cell_type": "markdown",
   "metadata": {},
   "source": [
    "Using the result above, the best unbiased estimator of $e^{-\\lambda}$ is $\\big(\\frac{n − 1}{n}\\big)^y$."
   ]
  },
  {
   "cell_type": "markdown",
   "metadata": {},
   "source": [
    "##### Part (b)"
   ]
  },
  {
   "cell_type": "markdown",
   "metadata": {},
   "source": [
    "Using the result above, the best unbiased estimator of $\\lambda e^{-\\lambda}$ is $\\big(\\frac{y}{n}\\big)\\big(\\frac{n − 1}{n}\\big)^{y-1}$."
   ]
  },
  {
   "cell_type": "markdown",
   "metadata": {},
   "source": [
    "##### Part (c)"
   ]
  },
  {
   "cell_type": "markdown",
   "metadata": {},
   "source": [
    "![alt text](https://raw.githubusercontent.com/jkastelan/iHeartCUSPhackDay2017/master/MS/Ex10.9c1.png \"Exercise 10.9\")"
   ]
  },
  {
   "cell_type": "markdown",
   "metadata": {},
   "source": [
    "![alt text](https://raw.githubusercontent.com/jkastelan/iHeartCUSPhackDay2017/master/MS/Ex10.9c2.png \"Exercise 10.9\")"
   ]
  },
  {
   "cell_type": "markdown",
   "metadata": {},
   "source": [
    "##### Part (d) \n"
   ]
  },
  {
   "cell_type": "markdown",
   "metadata": {},
   "source": [
    "You are provided records of the number of mutant colonies measured on petri dishes"
   ]
  },
  {
   "cell_type": "code",
   "execution_count": 2,
   "metadata": {},
   "outputs": [
    {
     "name": "stdout",
     "output_type": "stream",
     "text": [
      "The number of records is 15 and sum of them is 104.\n",
      "The mean number of colonies is 6.9333.\n"
     ]
    }
   ],
   "source": [
    "# Input data\n",
    "colonies = np.array([10, 7, 8, 13, 8, 9, 5, 7, 6, 8, 3, 6, 6, 3, 5])\n",
    "\n",
    "# number and sum of observations \n",
    "nObs = len(colonies)\n",
    "sumObs = colonies.sum()\n",
    "meanObs = colonies.mean()\n",
    "\n",
    "print(\"The number of records is {} and sum of them is {}.\".format(nObs, sumObs))\n",
    "print(\"The mean number of colonies is {}.\".format(round(meanObs,4)))"
   ]
  },
  {
   "cell_type": "markdown",
   "metadata": {},
   "source": [
    "Note the mean estimate for $\\lambda$ is also equal to the maximium likelihood estimate $\\hat{\\lambda}$."
   ]
  },
  {
   "cell_type": "markdown",
   "metadata": {},
   "source": [
    "Therefore the estimate for $e^{-\\lambda}$, the probability no mutant colonies emerge is:"
   ]
  },
  {
   "cell_type": "code",
   "execution_count": 3,
   "metadata": {},
   "outputs": [
    {
     "name": "stdout",
     "output_type": "stream",
     "text": [
      "The probability no colonies form is (MLE):   0.000975\n",
      "The probability no colonies form is (UMVUE): 0.000765\n"
     ]
    }
   ],
   "source": [
    "# MLE using e^(−λ)\n",
    "noColoniesProb = np.exp(-1*meanObs)\n",
    "\n",
    "# UMVUE using ((n−1)/n)^y .\n",
    "noColoniesProbUMVUE = (float((nObs - 1)) * 1./nObs) ** sumObs\n",
    "\n",
    "print(\"The probability no colonies form is (MLE):   {}\".format(round(noColoniesProb,6)))\n",
    "print(\"The probability no colonies form is (UMVUE): {}\".format(round(noColoniesProbUMVUE,6)))"
   ]
  },
  {
   "cell_type": "markdown",
   "metadata": {},
   "source": [
    "Estimate for $\\lambda e^{-\\lambda}$, the probability one mutant colony emerges is:"
   ]
  },
  {
   "cell_type": "code",
   "execution_count": 4,
   "metadata": {},
   "outputs": [
    {
     "name": "stdout",
     "output_type": "stream",
     "text": [
      "The probability one colony forms is (MLE):   0.006758\n",
      "The probability no colonies form is (UMVUE): 0.005685\n"
     ]
    }
   ],
   "source": [
    "# MLE using λe^(−λ)\n",
    "oneColoniesProb = meanObs * np.exp(-1*meanObs)\n",
    "\n",
    "# UMVUE using (y/n)((n−1)/n)^(y−1)\n",
    "oneColoniesProbUMVUE = (sumObs * 1. / nObs) * (float((nObs - 1)) * 1./nObs) ** (sumObs - 1)\n",
    "\n",
    "print(\"The probability one colony forms is (MLE):   {}\".format(round(oneColoniesProb ,6)))\n",
    "print(\"The probability no colonies form is (UMVUE): {}\".format(round(oneColoniesProbUMVUE,6)))"
   ]
  },
  {
   "cell_type": "markdown",
   "metadata": {},
   "source": [
    "### Example CB 10.17"
   ]
  },
  {
   "cell_type": "code",
   "execution_count": 5,
   "metadata": {
    "collapsed": true
   },
   "outputs": [],
   "source": [
    "#data input\n",
    "lsatScores = np.array([576, 635, 558, 578, 666, 580, 555, 661, 651, 605, 653, 575, 545, 572, 594])\n",
    "gpaScores = np.array([3.39, 3.30, 2.81, 3.03, 3.44, 3.07, 3.00, 3.43, 3.36, 3.13, 3.12, 2.74, 2.76, 2.88, 2.96])"
   ]
  },
  {
   "cell_type": "markdown",
   "metadata": {},
   "source": [
    "##### Part (a)\n",
    "Calculate sample correlation coefficient"
   ]
  },
  {
   "cell_type": "code",
   "execution_count": 6,
   "metadata": {},
   "outputs": [
    {
     "name": "stdout",
     "output_type": "stream",
     "text": [
      "[[ 1.          0.77637449]\n",
      " [ 0.77637449  1.        ]]\n",
      "\n",
      "The correlation coefficent is: 0.776374\n"
     ]
    }
   ],
   "source": [
    "print(np.corrcoef(lsatScores, gpaScores))\n",
    "\n",
    "lsatGpaCorrel = round(np.corrcoef(lsatScores, gpaScores)[0,1],6)\n",
    "print\n",
    "print(\"The correlation coefficent is: {}\".format(lsatGpaCorrel))"
   ]
  },
  {
   "cell_type": "markdown",
   "metadata": {},
   "source": [
    "##### Part (b)\n",
    "\n",
    "Use non-parametric bootstrap to estimate correlation coefficient and standard deviation. (Note we did this previously in Recitation 2)."
   ]
  },
  {
   "cell_type": "code",
   "execution_count": 7,
   "metadata": {
    "collapsed": true
   },
   "outputs": [],
   "source": [
    "sampB = 1000\n",
    "nCount = len(lsatScores)"
   ]
  },
  {
   "cell_type": "code",
   "execution_count": 8,
   "metadata": {},
   "outputs": [
    {
     "data": {
      "text/plain": [
       "[0, 1, 2, 3, 4, 5, 6, 7, 8, 9, 10, 11, 12, 13, 14]"
      ]
     },
     "execution_count": 8,
     "metadata": {},
     "output_type": "execute_result"
    }
   ],
   "source": [
    "observationIDs = range(nCount)\n",
    "observationIDs"
   ]
  },
  {
   "cell_type": "code",
   "execution_count": 9,
   "metadata": {},
   "outputs": [
    {
     "data": {
      "text/plain": [
       "array([ 0, 12,  5,  1,  8,  1, 11,  9,  3,  0, 13,  5,  8,  8,  0])"
      ]
     },
     "execution_count": 9,
     "metadata": {},
     "output_type": "execute_result"
    }
   ],
   "source": [
    "# set seed for replicability of random sampling\n",
    "np.random.seed(999)\n",
    "\n",
    "\n",
    "# this chooses a sample from the observation IDs with replacement\n",
    "resampleObsIDs = np.random.choice(observationIDs, size=nCount, replace=True)\n",
    "resampleObsIDs"
   ]
  },
  {
   "cell_type": "code",
   "execution_count": 10,
   "metadata": {},
   "outputs": [],
   "source": [
    "statStore = []\n",
    "\n",
    "for i in range(sampB):\n",
    "    resampleObsIDs = np.random.choice(observationIDs, size=nCount, replace=True)\n",
    "    resampleLsatScores = lsatScores[[resampleObsIDs]]\n",
    "    resampleGpaScores = gpaScores[[resampleObsIDs]]\n",
    "    \n",
    "    resampledCorrel = scipy.stats.pearsonr(resampleLsatScores, resampleGpaScores)[0]\n",
    "\n",
    "    statStore.append(resampledCorrel)\n",
    "    "
   ]
  },
  {
   "cell_type": "code",
   "execution_count": 11,
   "metadata": {},
   "outputs": [
    {
     "name": "stdout",
     "output_type": "stream",
     "text": [
      "The standard deviation of non-parametric correlation coefficent is: 0.139757\n"
     ]
    }
   ],
   "source": [
    "sigmaNonparBoot = np.std(statStore)\n",
    "\n",
    "print(\"The standard deviation of non-parametric correlation coefficent is: {}\".format(round(sigmaNonparBoot,6)))"
   ]
  },
  {
   "cell_type": "code",
   "execution_count": 12,
   "metadata": {
    "scrolled": false
   },
   "outputs": [
    {
     "data": {
      "image/png": "[encoded data removed]",
      "text/plain": [
       "<matplotlib.figure.Figure at 0xf24a2b0>"
      ]
     },
     "metadata": {},
     "output_type": "display_data"
    }
   ],
   "source": [
    "# Plot histogram\n",
    "plt.figure(figsize=(8,6))\n",
    "plt.hist(statStore);\n",
    "plt.title('Histogram of NON-parametric bootstrapped \\ncorrelation coefficients', fontsize = 18)\n",
    "plt.xlabel('Estimates', fontsize = 16)\n",
    "plt.ylabel('Count', fontsize = 16)\n",
    "plt.xticks(fontsize = 13)\n",
    "plt.yticks(fontsize = 13)\n",
    "plt.legend(fontsize = 14);"
   ]
  },
  {
   "cell_type": "markdown",
   "metadata": {},
   "source": [
    "##### Part (c) \n",
    "\n",
    "Use parametric bootstrap to estimate standard deviation of correlation coefficient."
   ]
  },
  {
   "cell_type": "code",
   "execution_count": 13,
   "metadata": {},
   "outputs": [
    {
     "name": "stdout",
     "output_type": "stream",
     "text": [
      "The bivariate normal distribution for LSAT and GPA scores has the following parameters\n",
      "LSAT score mean: 600.2667, and Standard Deviation 40.3773\n",
      "GPAscore mean: 3.0947, and Standard Deviation 0.2353\n",
      "LSAT and GPA correlation coefficient: 0.7764 \n",
      "LSAT and GPA covariance: 7.3748 \n"
     ]
    }
   ],
   "source": [
    "\n",
    "# Set parameter for lsat and gpa bivariate normal dist\n",
    "lsatMean = lsatScores.mean()\n",
    "lsatStdDev = lsatScores.std()\n",
    "gpaMean = gpaScores.mean()\n",
    "gpaStdDev = gpaScores.std()\n",
    "\n",
    "# Set correlation coeff parameters \n",
    "rhoLsatGpa = np.corrcoef(lsatScores, gpaScores)[0,1]\n",
    "covLsatGpa = rhoLsatGpa * lsatStdDev * gpaStdDev\n",
    "\n",
    "print(\"The bivariate normal distribution for LSAT and GPA scores has the following parameters\")\n",
    "print(\"LSAT score mean: {}, and Standard Deviation {}\".format(round(lsatMean,4), round(lsatStdDev,4)))\n",
    "print(\"GPAscore mean: {}, and Standard Deviation {}\".format(round(gpaMean,4), round(gpaStdDev,4)))\n",
    "print(\"LSAT and GPA correlation coefficient: {} \".format(round(rhoLsatGpa,4)))\n",
    "print(\"LSAT and GPA covariance: {} \".format(round(covLsatGpa,4)))"
   ]
  },
  {
   "cell_type": "code",
   "execution_count": 14,
   "metadata": {},
   "outputs": [
    {
     "data": {
      "text/plain": [
       "(15L, 2L)"
      ]
     },
     "execution_count": 14,
     "metadata": {},
     "output_type": "execute_result"
    }
   ],
   "source": [
    "#example of a single botstrap simulation\n",
    "meansLG = (lsatMean, gpaMean)\n",
    "covsLG = [[lsatStdDev**2, covLsatGpa], [covLsatGpa, gpaStdDev**2]]\n",
    "parSampLG = np.random.multivariate_normal(meansLG, covsLG, size=nCount)\n",
    "parSampLG.shape\n"
   ]
  },
  {
   "cell_type": "code",
   "execution_count": 15,
   "metadata": {},
   "outputs": [
    {
     "data": {
      "text/plain": [
       "array([[ 581.63324375,    3.14883062],\n",
       "       [ 597.50292477,    2.83178148],\n",
       "       [ 602.38351447,    3.20693776],\n",
       "       [ 622.32486987,    3.41636185],\n",
       "       [ 597.29795537,    3.10543383],\n",
       "       [ 596.72457296,    3.20180785],\n",
       "       [ 566.06475136,    3.00070751],\n",
       "       [ 645.52816879,    3.29492698],\n",
       "       [ 610.25252956,    3.49949698],\n",
       "       [ 569.41323207,    3.18504007],\n",
       "       [ 612.97303523,    2.88873918],\n",
       "       [ 607.76092153,    3.02799031],\n",
       "       [ 595.33098512,    3.11765764],\n",
       "       [ 585.07748271,    2.97848376],\n",
       "       [ 546.35847511,    2.67458509]])"
      ]
     },
     "execution_count": 15,
     "metadata": {},
     "output_type": "execute_result"
    }
   ],
   "source": [
    "# Resulting sample is 15 pairs of LSAT and GPA scores \n",
    "## (they are correlated as per the bivariate normal dist)\n",
    "parSampLG"
   ]
  },
  {
   "cell_type": "code",
   "execution_count": 16,
   "metadata": {},
   "outputs": [
    {
     "data": {
      "text/plain": [
       "(array([ 581.63324375,  597.50292477,  602.38351447,  622.32486987,\n",
       "         597.29795537,  596.72457296,  566.06475136,  645.52816879,\n",
       "         610.25252956,  569.41323207,  612.97303523,  607.76092153,\n",
       "         595.33098512,  585.07748271,  546.35847511]),\n",
       " array([ 3.14883062,  2.83178148,  3.20693776,  3.41636185,  3.10543383,\n",
       "         3.20180785,  3.00070751,  3.29492698,  3.49949698,  3.18504007,\n",
       "         2.88873918,  3.02799031,  3.11765764,  2.97848376,  2.67458509]))"
      ]
     },
     "execution_count": 16,
     "metadata": {},
     "output_type": "execute_result"
    }
   ],
   "source": [
    "parSampLG[:,0],parSampLG[:,1]"
   ]
  },
  {
   "cell_type": "code",
   "execution_count": 17,
   "metadata": {},
   "outputs": [
    {
     "name": "stdout",
     "output_type": "stream",
     "text": [
      "The parametric resampled correlation coefficient is 0.5729.\n"
     ]
    }
   ],
   "source": [
    "# Calculate the sample correlation coefficient\n",
    "parSampledLsat = parSampLG[:,0]\n",
    "parSampledGpa  = parSampLG[:,1]\n",
    "\n",
    "# Sample corr coeff.\n",
    "parCorCoeff = scipy.stats.pearsonr(parSampledLsat, parSampledGpa)[0]\n",
    "print(\"The parametric resampled correlation coefficient is {}.\".format(round(parCorCoeff,4)))"
   ]
  },
  {
   "cell_type": "code",
   "execution_count": 18,
   "metadata": {},
   "outputs": [],
   "source": [
    "# Simulate parametric bootstrap for rho\n",
    "\n",
    "statStore = []\n",
    "\n",
    "for j in range(sampB):\n",
    "    parSampLG = np.random.multivariate_normal(meansLG, covsLG, size=nCount)\n",
    "    \n",
    "    # Calculate the sample correlation coefficient\n",
    "    parSampledLsat = parSampLG[:,0]\n",
    "    parSampledGpa  = parSampLG[:,1]\n",
    "\n",
    "    # Sample corr coeff.\n",
    "    resampledCorrel = scipy.stats.pearsonr(parSampledLsat, parSampledGpa)[0]\n",
    "\n",
    "    statStore.append(resampledCorrel)\n",
    "    "
   ]
  },
  {
   "cell_type": "code",
   "execution_count": 19,
   "metadata": {},
   "outputs": [
    {
     "name": "stdout",
     "output_type": "stream",
     "text": [
      "The standard deviation of parametric correlation coefficent is: 0.119363\n",
      "\n",
      "Let's compare this to the similar non-parametric statistic calculated above: 0.139757\n",
      "\n",
      "We observe the standard deviation is lower in the parametric case.\n"
     ]
    }
   ],
   "source": [
    "sigmaParBoot = np.std(statStore)\n",
    "\n",
    "print(\"The standard deviation of parametric correlation coefficent is: {}\".format(round(sigmaParBoot,6)))\n",
    "print\n",
    "print(\"Let's compare this to the similar non-parametric statistic calculated above: {}\".format(round(sigmaNonparBoot,6)))\n",
    "print\n",
    "print(\"We observe the standard deviation is lower in the parametric case.\")\n"
   ]
  },
  {
   "cell_type": "code",
   "execution_count": 20,
   "metadata": {},
   "outputs": [
    {
     "data": {
      "image/png": "[encoded data removed]",
      "text/plain": [
       "<matplotlib.figure.Figure at 0xf3f30b8>"
      ]
     },
     "metadata": {},
     "output_type": "display_data"
    }
   ],
   "source": [
    "# Plot histogram\n",
    "plt.figure(figsize=(8,6))\n",
    "plt.hist(statStore);\n",
    "plt.title('Histogram of PARAMETRIC bootstrapped \\ncorrelation coefficients', fontsize = 18)\n",
    "plt.xlabel('Estimates', fontsize = 16)\n",
    "plt.ylabel('Count', fontsize = 16)\n",
    "plt.xticks(fontsize = 13)\n",
    "plt.yticks(fontsize = 13)\n",
    "plt.legend(fontsize = 14);"
   ]
  },
  {
   "cell_type": "markdown",
   "metadata": {},
   "source": [
    "##### Part (d)"
   ]
  },
  {
   "cell_type": "markdown",
   "metadata": {},
   "source": [
    "![alt text](https://raw.githubusercontent.com/jkastelan/iHeartCUSPhackDay2017/master/MS/Ex10.17d.png \"Exercise 10.17\")"
   ]
  },
  {
   "cell_type": "markdown",
   "metadata": {},
   "source": [
    "##### Part (e)"
   ]
  },
  {
   "cell_type": "markdown",
   "metadata": {},
   "source": [
    "![alt text](https://raw.githubusercontent.com/jkastelan/iHeartCUSPhackDay2017/master/MS/Ex10.17e.png \"Exercise 10.17\")"
   ]
  }
 ],
 "metadata": {
  "kernelspec": {
   "display_name": "Python 2",
   "language": "python",
   "name": "python2"
  },
  "language_info": {
   "codemirror_mode": {
    "name": "ipython",
    "version": 2
   },
   "file_extension": ".py",
   "mimetype": "text/x-python",
   "name": "python",
   "nbconvert_exporter": "python",
   "pygments_lexer": "ipython2",
   "version": "2.7.14"
  }
 },
 "nbformat": 4,
 "nbformat_minor": 2
}
