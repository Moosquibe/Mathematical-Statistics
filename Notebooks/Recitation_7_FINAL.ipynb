{
 "cells": [
  {
   "cell_type": "markdown",
   "metadata": {},
   "source": [
    "# Mathematical Statistics - Recitation 7\n",
    "\n",
    "### 23rd March 2018\n",
    "\n",
    "##  Asymptotic LRT, Bayesian testing, p-values and Combining tests "
   ]
  },
  {
   "cell_type": "markdown",
   "metadata": {},
   "source": [
    "\n",
    "### Example CB 8.30\n",
    "\n",
    "Recall the *likelihood ratio test statistic* for testing\n",
    "$H_0 : \\theta \\in \\Theta_0$ vs. $H_1 : \\theta \\in \\Theta_0^c$ is:\n",
    "\n",
    "\n",
    "$$\\lambda(x) = \\frac{sup_{\\Theta_0} L(\\theta | x)}{sup_{\\Theta} L(\\theta | x)}$$\n",
    "\n",
    "A likelihood ratio test (LRT) is any test that has a rejection region of the form $\\{ x : \\lambda(x) \\leq c \\}$ - **Equation 1**\n",
    "\n",
    "where c is any number satisfying $0 \\leq c \\leq 1$\n"
   ]
  },
  {
   "cell_type": "markdown",
   "metadata": {},
   "source": [
    "![alt text](https://raw.githubusercontent.com/jkastelan/iHeartCUSPhackDay2017/master/MS/Ex%208.30.png \"Exercise 8.30\")\n"
   ]
  },
  {
   "cell_type": "markdown",
   "metadata": {},
   "source": [
    "________________________________________"
   ]
  },
  {
   "cell_type": "markdown",
   "metadata": {},
   "source": [
    "\n",
    "### Example CB 8.38"
   ]
  },
  {
   "cell_type": "markdown",
   "metadata": {},
   "source": [
    "![alt text](https://raw.githubusercontent.com/jkastelan/iHeartCUSPhackDay2017/master/MS/Ex%208.38.png \"Exercise 8.38\")"
   ]
  },
  {
   "cell_type": "markdown",
   "metadata": {},
   "source": [
    "### Example CB 8.49"
   ]
  },
  {
   "cell_type": "markdown",
   "metadata": {},
   "source": [
    "##### p-value\n",
    "\n",
    "See page 397 and 398 for Casella-Berger for detail on p-values.\n",
    "\n",
    "Interested in the probability that we observe a test statistic at least as extreme as the one we observe, gien the null hypothesis is true."
   ]
  },
  {
   "cell_type": "markdown",
   "metadata": {
    "collapsed": true
   },
   "source": [
    "![alt text](https://raw.githubusercontent.com/jkastelan/iHeartCUSPhackDay2017/master/MS/Ex%208.49.png \"Exercise 8.49\")"
   ]
  }
 ],
 "metadata": {
  "kernelspec": {
   "display_name": "Python 2",
   "language": "python",
   "name": "python2"
  },
  "language_info": {
   "codemirror_mode": {
    "name": "ipython",
    "version": 2
   },
   "file_extension": ".py",
   "mimetype": "text/x-python",
   "name": "python",
   "nbconvert_exporter": "python",
   "pygments_lexer": "ipython2",
   "version": "2.7.14"
  }
 },
 "nbformat": 4,
 "nbformat_minor": 2
}
