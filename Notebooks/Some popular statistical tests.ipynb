{
 "cells": [
  {
   "cell_type": "markdown",
   "metadata": {},
   "source": [
    "# Some popular statistical tests"
   ]
  },
  {
   "cell_type": "markdown",
   "metadata": {},
   "source": [
    "## 1. Wald test\n",
    "\n",
    "We have seen that many point estimators are asymptotically normal. For example, we have seen that under some mild regularity conditions that are usually satisfied in practice, the maximum likelihood estimator $\\hat\\theta_{MLE,n}$ has an approximate normal distribution for large samples. More precisely,\n",
    "\n",
    "$$ \\frac{\\hat\\theta_{MLE,n} - \\theta}{\\sqrt{1/I_n(\\theta)}} \\stackrel{\\mathcal{D}}{\\to}\\mathcal{N}(0,1)$$"
   ]
  },
  {
   "cell_type": "markdown",
   "metadata": {},
   "source": [
    "When we have a large enough sample to be confident that the normal approximation is good enough, we can simply assume that $\\hat\\theta_{MLE,n}$ is distributed as $\\mathcal{N}(\\theta, I_n^{-2}(\\theta))$ and design a test based on this distribution. \n",
    "\n",
    "Accordingly, the Wald thest for the two-sided hypothesis\n",
    "\n",
    "$$H_0:\\theta = \\theta_0\\qquad\\textrm{vs}\\qquad H_1:\\theta\\neq \\theta_0,$$\n",
    "\n",
    "we construct the test statistic\n",
    "\n",
    "$$W = \\frac{\\hat\\theta_{MLE,n} - \\theta_0}{\\sqrt{1/I_n(\\theta_0)}} $$\n",
    "\n",
    "and reject $H_0$ if $|W|>z_{\\alpha/2}$, where $z_{\\alpha/2}$ is the $\\alpha/2$-quantile of the standard normal distribution. \n",
    "\n",
    "The general Wald test is similar, however, we have to use some estimate $\\hat{se}$ of the standard error $se$. Then the Wald statistics is given by\n",
    "\n",
    "$$W = \\frac{\\hat\\theta - \\theta_0}{\\hat{se}} $$\n",
    "\n",
    "You may ask what constitutes a large sample. The rule of thumb told by many statisticians that $n>30$ can be considered large. This is of course, somewhat arbitrary The story is that the only reason 30 was regarded as a good boundary was because it made for pretty Student's t tables in the back of textbooks to fit nicely on one page. In practice, always plot the data and double check that what you see is a reasonably close to normal. \n",
    "\n",
    "### 1.1. Approximate size and power function\n",
    "We control the (approximate)size of the test as\n",
    "\n",
    "$$\\mathrm{P}_{\\theta_0}({\\bf X}\\in R)= \\mathrm{P}_{\\theta_0}(|W|>z_{\\alpha/2})\\approx\\mathrm{P}_{\\theta_0}(Z>z_{\\alpha/2})+\\mathrm{P}_{\\theta_0}(Z<-z_{\\alpha/2}) = \\alpha/2 + \\alpha/2 = \\alpha $$"
   ]
  },
  {
   "cell_type": "markdown",
   "metadata": {},
   "source": [
    "The (approximate) power function can also be computed as\n",
    "\n",
    "$$\\beta(\\theta) = \\mathrm{P}_\\theta(|W|>z_{\\alpha/2}) = \\mathrm{P}_\\theta\\left(\\frac{\\hat\\theta-\\theta_0}{\\hat{se}}>z_{\\alpha/2}\\right) + \\mathrm{P}_\\theta\\left(\\frac{\\hat\\theta-\\theta_0}{\\hat{se}}<-z_{\\alpha/2}\\right). $$\n",
    "\n",
    "However, if $\\theta\\neq\\theta_0$, then the centering is wrong and we should correct it:\n",
    "\n",
    "$$ \\beta(\\theta) = \\mathrm{P}_\\theta\\left(\\frac{\\hat\\theta-\\theta}{\\hat{se}}>z_{\\alpha/2}+\\frac{\\theta_0-\\theta}{\\hat{se}}\\right) + \\mathrm{P}_\\theta\\left(\\frac{\\hat\\theta-\\theta}{\\hat{se}}< -z_{\\alpha/2}+\\frac{\\theta_0-\\theta}{\\hat{se}}\\right). $$\n",
    "\n",
    "Now we can use the normal approximation to write \n",
    "\n",
    "$$\\beta(\\theta) = \\mathrm{P}_\\theta\\left(Z>z_{\\alpha/2}+\\frac{\\theta_0-\\theta}{\\hat{se}}\\right)+\\mathrm{P}_\\theta\\left(Z<-z_{\\alpha/2}+\\frac{\\theta_0-\\theta}{\\hat{se}}\\right) = 1 - \\Phi\\left(z_{\\alpha/2}+\\frac{\\theta_0-\\theta}{\\hat{se}}\\right)+ \\Phi\\left(-z_{\\alpha/2}+\\frac{\\theta_0-\\theta}{\\hat{se}}\\right)$$\n",
    "\n",
    "Let us plot this:"
   ]
  },
  {
   "cell_type": "code",
   "execution_count": 39,
   "metadata": {
    "collapsed": false
   },
   "outputs": [],
   "source": [
    "from scipy.stats import norm\n",
    "import matplotlib.pyplot as plt\n",
    "import numpy as np\n",
    "%matplotlib inline\n",
    "\n",
    "theta_0 = 3\n",
    "hatse = 2\n",
    "alpha = 0.05\n",
    "\n",
    "z = norm.ppf(1-alpha/2)\n",
    "\n",
    "beta = lambda x: 1- norm.cdf(z + (theta_0 - x)/hatse) + norm.cdf(-z + (theta_0 - x)/hatse)"
   ]
  },
  {
   "cell_type": "code",
   "execution_count": 40,
   "metadata": {
    "collapsed": false
   },
   "outputs": [
    {
     "data": {
      "image/png": "[encoded data removed]",
      "text/plain": [
       "<matplotlib.figure.Figure at 0x7effe85e7470>"
      ]
     },
     "metadata": {},
     "output_type": "display_data"
    }
   ],
   "source": [
    "plt.figure(figsize = (12,8))\n",
    "x = np.linspace(-10,15,500)\n",
    "plt.plot(x, beta(x))\n",
    "plt.title(\"Approximate power function of the Wald test\", fontsize = 18)\n",
    "plt.xlabel(r\"$\\theta$\", fontsize = 18)\n",
    "plt.ylabel(r\"$\\beta(\\theta)$\", fontsize = 18)\n",
    "\n",
    "locs = [theta_0-4*hatse, theta_0, theta_0+4*hatse]\n",
    "labels = [r\"$\\theta_0-4\\hat{se}$\", r\"$\\theta_0$\", r\"$\\theta_0 + 4\\hat{se}$\"]\n",
    "plt.xticks([theta_0-4*hatse, theta_0, theta_0+4*hatse], labels, fontsize = 18)\n",
    "\n",
    "plt.show()"
   ]
  },
  {
   "cell_type": "markdown",
   "metadata": {},
   "source": [
    "We see that the further we get from the hypothesised parameter value under $H_0$, the more powerful the test becomes."
   ]
  },
  {
   "cell_type": "markdown",
   "metadata": {},
   "source": [
    "### 1.2. How to estimate the asymptotic standard error?\n",
    "\n",
    "If $\\hat\\theta_n$ is the MLE estimate then the asymptotic standard error under $H_0$ is given by $I^{-1}_n(\\theta_0)$. However, we often times want to use the standard error estimation from the data itself. In the MLE case, we can use $I_n^{-1}(\\hat\\theta_n)$, which might still be infeasible if we cannot compute the Fisher information in a neat way. In that case, we can use the \\it{observed information number}:\n",
    "\n",
    "$$\\hat{I}_n(\\hat{\\theta_n}) = -\\frac{\\partial^2}{\\partial\\theta^2}\\log L(\\theta|{\\bf X})\\bigg|_{\\theta = \\hat\\theta_n} $$\n",
    "\n",
    "In the general case, we have to be careful to justify what estimate we use for the standard error."
   ]
  },
  {
   "cell_type": "markdown",
   "metadata": {},
   "source": [
    "### 1.3. The p-value\n",
    "\n",
    "Recall the following result from a couple of lectures ago:\n",
    "\n",
    "If a size $\\alpha$ test is such that $H_0$ is rejected if and only if $T(\\bf{X})\\geq c_\\alpha$ for some particular test statistic $T$, then the $p$-value statistics can be computed as\n",
    "\n",
    "$$p({\\bf x}) = \\sup_{\\theta\\in\\Theta_0}\\mathrm{P}_{\\theta}(T({\\bf X})\\geq T({\\bf x})) $$\n",
    "\n",
    "Thus the p value of the Wald test is given by\n",
    "\n",
    "$$p(w) = \\mathrm{P}_{\\theta_0}(|W|>|w|)\\approx\\mathrm{P}(|Z|\\geq |w|) = 2\\Phi(-|w|), $$\n",
    "\n",
    "where $w$ is the observed value of the test statistics:\n",
    "\n",
    "$$w = \\frac{\\hat\\theta-\\theta_0}{\\hat{se}}$$."
   ]
  },
  {
   "cell_type": "markdown",
   "metadata": {},
   "source": [
    "### 1.4 Examples"
   ]
  },
  {
   "cell_type": "markdown",
   "metadata": {},
   "source": [
    "Let us first test a prediction algorithm on a test of size $m$ and test a second prediction algorithm on a second test set of size $n$. Let $X$ be the number of incorrect predictions for Algorithm 1 and $Y$ be the number of incorrect predictions for Algorihtm 2. Then $X\\sim Binom(m,p_1)$ and $Y\\sim Binom(n, p_2)$, where $p_1$ and $p_2$ is the probability of a successful prediction by Algorithm 1,2 respectively. Based on the knowledge of the incorrect predictions, we want to compare the performance of the algorithms. \n",
    "\n",
    "For example, let us say that we are trying to do image classification on the CIFAR 10 dataset, which consists of 60000 32 by 32 color pictures from 10 different classes. Assume that we (randomly) divide up this dataset into a training set of 55000 images and two test sets of 3000 and 2000  images respectively. Now train both a 3-Nearest Neighbor model and a multi-class Support Vector Machine on the training set (These are both very ineffective algorithms for this task). Let's say that you have a classification accuracy of $27\\%$ with 3-NN and $35\\%$ with SVM. Does this mean that SVM is a better algorithm?\n",
    "\n",
    "\n",
    "That is if $\\delta = p_2-p_1, then we consider the test\n",
    "\n",
    "$$H_0:\\delta = 0,\\qquad\\textrm{vs}\\qquad H_1:\\delta\\neq 0. $$\n",
    "\n",
    "The MLE estimator is $\\hat\\delta = \\hat{p}_1 -\\hat{p_2}$ where $\\hat{p}_1=\\bar{X}$ and $\\hat{p}_2 = \\bar{Y}$. Then\n",
    "\n",
    "$$\\mathrm{Var}\\hat{\\delta} = \\mathrm{Var}\\hat{p}_1+\\mathrm{Var}\\hat{p}_2 = \\frac{p_1(1-p_1)}{m}+\\frac{p_2(1-p_2)}{n}$$\n",
    "\n",
    "and therefor the standard error is\n",
    "\n",
    "$$ \\mathrm{se} = \\sqrt{ \\frac{p_1(1-p_1)}{m}+\\frac{p_2(1-p_2)}{n}}.$$\n",
    "\n",
    "Note that here $H_0$ does not fix the standard error and we have to resort to a different method. The simplest one is to use $\\hat{p}_1$ and $\\hat{p}_2$ in place of $p_1$ and $p_2$:\n",
    "\n",
    "$$ \\mathrm{\\hat{se}} = \\sqrt{ \\frac{\\hat{p}_1(1-\\hat{p}_1)}{m}+\\frac{\\hat{p}_2(1-\\hat{p}_2)}{n}}.$$"
   ]
  },
  {
   "cell_type": "markdown",
   "metadata": {},
   "source": [
    "Then the Wald statistics is then given by\n",
    "\n",
    "$$ W = \\frac{\\hat\\delta-0}{\\hat{\\mathrm{se}}} = \\frac{\\hat{p}_1-\\hat{p_2}}{\\sqrt{ \\frac{\\hat{p}_1(1-\\hat{p}_1)}{m}+\\frac{\\hat{p}_2(1-\\hat{p}_2)}{n}}} $$"
   ]
  },
  {
   "cell_type": "markdown",
   "metadata": {},
   "source": [
    "and the size $\\alpha$ Wald test is given by rejecting $H_0$ whenever $|W|>z_{\\alpha/2}$. In our particular example:"
   ]
  },
  {
   "cell_type": "code",
   "execution_count": 105,
   "metadata": {
    "collapsed": false
   },
   "outputs": [
    {
     "name": "stdout",
     "output_type": "stream",
     "text": [
      "The test statistic: 5.971978776744882, The critical value: 1.959963984540054\n",
      "The null hypothesis is rejected at size 0.05.\n",
      "The p-value is 2.3439302911849317e-09\n"
     ]
    }
   ],
   "source": [
    "hatp1 = 0.27\n",
    "hatp2 = 0.35\n",
    "alpha = 0.05\n",
    "m = 3000\n",
    "n = 2000\n",
    "hatvar1 = hatp1*(1-hatp1) / m\n",
    "hatvar2 = hatp2*(1-hatp2) / n\n",
    "hatse = np.sqrt(hatvar1 + hatvar2)\n",
    "W = (hatp1-hatp2) / hatse\n",
    "z = norm.ppf(1-alpha/2)\n",
    "\n",
    "print(\"The test statistic: {}, The critical value: {}\".format(np.abs(W),z))\n",
    "if np.abs(W) > z:\n",
    "    print(\"The null hypothesis is rejected at size {}.\".format(alpha))\n",
    "else:\n",
    "    print(\"Failed to reject the null hypothesis at size {}.\".format(alpha))\n",
    "    \n",
    "pval = 2*norm.cdf(-np.abs(W))\n",
    "print(\"The p-value is {}\".format(pval))"
   ]
  },
  {
   "cell_type": "markdown",
   "metadata": {},
   "source": [
    "On the other hand, in standard ML practice, we compare algorithms on the same test set. Assume now that the same accuracy numbers were acheived on a common test set of $5000$ examples. In this case the test results are not independent of each other and we have to proceed differently. For each test case $i$, let $X_i=1$ if Algorithm 1 gives a correct prediction and zero otherwise. Similarly let $Y_i = 1$ indicate the correct prediction by Algorihtm 2. Let us randomly generate a possible outcome:"
   ]
  },
  {
   "cell_type": "code",
   "execution_count": 93,
   "metadata": {
    "collapsed": false
   },
   "outputs": [
    {
     "data": {
      "text/html": [
       "<div>\n",
       "<table border=\"1\" class=\"dataframe\">\n",
       "  <thead>\n",
       "    <tr style=\"text-align: right;\">\n",
       "      <th></th>\n",
       "      <th>x</th>\n",
       "      <th>y</th>\n",
       "    </tr>\n",
       "  </thead>\n",
       "  <tbody>\n",
       "    <tr>\n",
       "      <th>0</th>\n",
       "      <td>1</td>\n",
       "      <td>0</td>\n",
       "    </tr>\n",
       "    <tr>\n",
       "      <th>1</th>\n",
       "      <td>0</td>\n",
       "      <td>0</td>\n",
       "    </tr>\n",
       "    <tr>\n",
       "      <th>2</th>\n",
       "      <td>0</td>\n",
       "      <td>1</td>\n",
       "    </tr>\n",
       "    <tr>\n",
       "      <th>3</th>\n",
       "      <td>1</td>\n",
       "      <td>1</td>\n",
       "    </tr>\n",
       "    <tr>\n",
       "      <th>4</th>\n",
       "      <td>0</td>\n",
       "      <td>0</td>\n",
       "    </tr>\n",
       "  </tbody>\n",
       "</table>\n",
       "</div>"
      ],
      "text/plain": [
       "   x  y\n",
       "0  1  0\n",
       "1  0  0\n",
       "2  0  1\n",
       "3  1  1\n",
       "4  0  0"
      ]
     },
     "execution_count": 93,
     "metadata": {},
     "output_type": "execute_result"
    }
   ],
   "source": [
    "import pandas as pd\n",
    "N = 5000\n",
    "x = np.random.uniform(size = 5000)\n",
    "y = np.random.uniform(size = 5000)\n",
    "data = np.stack((x,y), axis=1)\n",
    "df = pd.DataFrame(data, columns = ['x', 'y'])\n",
    "df['x'] = (df['x'] < hatp1).astype(int)\n",
    "df['y'] = (df['y'] < hatp2).astype(int)\n",
    "df.head()"
   ]
  },
  {
   "cell_type": "code",
   "execution_count": 109,
   "metadata": {
    "collapsed": false
   },
   "outputs": [
    {
     "data": {
      "text/plain": [
       "0.347"
      ]
     },
     "execution_count": 109,
     "metadata": {},
     "output_type": "execute_result"
    }
   ],
   "source": [
    "# Some sanity check\n",
    "df['x'].mean()\n",
    "df['y'].mean()"
   ]
  },
  {
   "cell_type": "markdown",
   "metadata": {},
   "source": [
    "For every $i$, let us define $D_i=X_i-Y_i$:"
   ]
  },
  {
   "cell_type": "code",
   "execution_count": 95,
   "metadata": {
    "collapsed": false
   },
   "outputs": [
    {
     "data": {
      "text/html": [
       "<div>\n",
       "<table border=\"1\" class=\"dataframe\">\n",
       "  <thead>\n",
       "    <tr style=\"text-align: right;\">\n",
       "      <th></th>\n",
       "      <th>x</th>\n",
       "      <th>y</th>\n",
       "      <th>D</th>\n",
       "    </tr>\n",
       "  </thead>\n",
       "  <tbody>\n",
       "    <tr>\n",
       "      <th>0</th>\n",
       "      <td>1</td>\n",
       "      <td>0</td>\n",
       "      <td>1</td>\n",
       "    </tr>\n",
       "    <tr>\n",
       "      <th>1</th>\n",
       "      <td>0</td>\n",
       "      <td>0</td>\n",
       "      <td>0</td>\n",
       "    </tr>\n",
       "    <tr>\n",
       "      <th>2</th>\n",
       "      <td>0</td>\n",
       "      <td>1</td>\n",
       "      <td>-1</td>\n",
       "    </tr>\n",
       "    <tr>\n",
       "      <th>3</th>\n",
       "      <td>1</td>\n",
       "      <td>1</td>\n",
       "      <td>0</td>\n",
       "    </tr>\n",
       "    <tr>\n",
       "      <th>4</th>\n",
       "      <td>0</td>\n",
       "      <td>0</td>\n",
       "      <td>0</td>\n",
       "    </tr>\n",
       "  </tbody>\n",
       "</table>\n",
       "</div>"
      ],
      "text/plain": [
       "   x  y  D\n",
       "0  1  0  1\n",
       "1  0  0  0\n",
       "2  0  1 -1\n",
       "3  1  1  0\n",
       "4  0  0  0"
      ]
     },
     "execution_count": 95,
     "metadata": {},
     "output_type": "execute_result"
    }
   ],
   "source": [
    "df['D'] = df['x'] - df['y']\n",
    "df.head()"
   ]
  },
  {
   "cell_type": "markdown",
   "metadata": {},
   "source": [
    "In this case we can naturally look at \n",
    "\n",
    "$$\\delta = \\mathrm{E}D_i=\\mathrm{E}X_i-\\mathrm{E}Y_i = \\mathrm{P}(X_i=1) -\\mathrm{P}(Y_i = 1)$$"
   ]
  },
  {
   "cell_type": "markdown",
   "metadata": {},
   "source": [
    "and use this quantity to define the hypotheses above. The natural plug in estimate of $\\delta$ is\n",
    "\n",
    "$$\\hat\\delta = \\bar{D}=\\frac{1}{N}\\sum_{i=1}^ND_i,$$\n",
    "\n",
    "which is asymptotically normal by the CLT. In this case we can use the sample variance to obtain the estimated standard error of $\\hat\\delta$:\n",
    "\n",
    "$$\\hat{se}(\\hat\\delta) = \\frac{S}{\\sqrt{N}},\\qquad S^2=\\frac{1}{N-1}\\sum_{i=1}^N(D_i-\\bar D)^2$$"
   ]
  },
  {
   "cell_type": "markdown",
   "metadata": {},
   "source": [
    "Thus, the Wald statistics becomes\n",
    "\n",
    "$$W = \\frac{\\hat\\delta}{\\hat{se}(\\hat\\delta)}=\\sqrt{\\frac{N-1}{N}}\\frac{\\sum_{i=1}^ND_i}{\\sqrt{\\sum_{i=1}^N(D_i-\\bar D)^2}}$$"
   ]
  },
  {
   "cell_type": "markdown",
   "metadata": {},
   "source": [
    "and the Wald test is given by rejecting $H_0$ if $|W|>z_{\\alpha/2}$.\n",
    "\n",
    "On our particular example, we have:"
   ]
  },
  {
   "cell_type": "code",
   "execution_count": 106,
   "metadata": {
    "collapsed": false
   },
   "outputs": [
    {
     "name": "stdout",
     "output_type": "stream",
     "text": [
      "The test statistic: 0.0016199902704561043, The critical value: 1.959963984540054\n",
      "Failed to reject the null hypothesis at size 0.05.\n",
      "The p-value is 0.9987074353399132\n"
     ]
    }
   ],
   "source": [
    "W = df['D'].mean() / (np.sqrt(N) * df['D'].std())\n",
    "z = norm.ppf(1-alpha/2)\n",
    "\n",
    "print(\"The test statistic: {}, The critical value: {}\".format(np.abs(W),z))\n",
    "if np.abs(W) > z:\n",
    "    print(\"The null hypothesis is rejected at size {}.\".format(alpha))\n",
    "else:\n",
    "    print(\"Failed to reject the null hypothesis at size {}.\".format(alpha))\n",
    "    \n",
    "pval = 2*norm.cdf(-np.abs(W))\n",
    "print(\"The p-value is {}\".format(pval))"
   ]
  },
  {
   "cell_type": "markdown",
   "metadata": {},
   "source": [
    "## 2. The $t$-test"
   ]
  },
  {
   "cell_type": "markdown",
   "metadata": {},
   "source": [
    "When we have a small sample, then the normal approximation might be very bad. However, if we can reasonably assume that our data is normally distributed, then we can use the explicit distributions computed in the second lecture to construct good tests. For example, let us assume that $X_1, X_2,\\dots,X_n$ are i.i.d. normals from the distribution $\\mathcal{N}(\\mu,\\sigma^2)$, where both $\\mu$ and $\\sigma$ are unknown. Consider the test\n",
    "\n",
    "$$ H_0:\\mu=\\mu_0\\qquad\\textrm{vs.}\\qquad H_1:\\mu\\neq\\mu_0 $$.\n",
    "\n",
    "We have seen that the statistic\n",
    "\n",
    "$$ Tn = \\frac{\\sqrt{n}(\\bar X_n - \\mu_0)}{S_n} $$\n",
    "\n",
    "has a Student $t_{n-1}$ distribution. Of course, for large $n$, the distributions $t_{n-1}$ and $\\mathcal{N}(0,1)$ are extremely similar and the Wald test is a reasonable approximation. However, for smaller samples we should use the $t$ distribution. Recall that if $t_k$ is the Student distribution with $k$ degrees of freedom, then its density function is given by\n",
    "\n",
    "$$f(t)=\\frac{\\Gamma\\left(\\frac{k+1}{2}\\right)}{\\sqrt{k\\pi}\\Gamma\\left(\\frac{k}{2}\\right)} \\frac{1}{\\left(1+\\frac{t^2}{k}\\right)^{\\frac{k+1}{2}}}$$"
   ]
  },
  {
   "cell_type": "markdown",
   "metadata": {},
   "source": [
    "It is a good exercise to show that as $k\\to\\infty$, this function converges to the standard normal pdf (might want to look up Stirling's formula for the Gamma function). Graphically:"
   ]
  },
  {
   "cell_type": "code",
   "execution_count": 121,
   "metadata": {
    "collapsed": false
   },
   "outputs": [
    {
     "data": {
      "image/png": "[encoded data removed]",
      "text/plain": [
       "<matplotlib.figure.Figure at 0x7effe26700b8>"
      ]
     },
     "metadata": {},
     "output_type": "display_data"
    }
   ],
   "source": [
    "from scipy.stats import t\n",
    "k1 = 3\n",
    "k2 = 10\n",
    "tpdf = lambda x: t.pdf(x,k)\n",
    "x = np.linspace(-5, 5, 100)\n",
    "plt.figure(figsize = (12,10))\n",
    "plt.plot(x,t.pdf(x, k1), label = r\"$t_k$ with $k=${}\".format(k1))\n",
    "plt.plot(x,t.pdf(x, k2), label = r\"$t_k$ with $k=${}\".format(k2))\n",
    "plt.plot(x,norm.pdf(x), label =r\"$\\mathcal{N}(0,1)$\")\n",
    "plt.legend(loc = 'best', fontsize = 18)\n",
    "plt.show()"
   ]
  },
  {
   "cell_type": "markdown",
   "metadata": {},
   "source": [
    "The $t$-test is then defined by rejecting $H_0$ if $|T|>t_{n-1,\\alpha/2}$. For example:"
   ]
  },
  {
   "cell_type": "code",
   "execution_count": 123,
   "metadata": {
    "collapsed": false
   },
   "outputs": [
    {
     "data": {
      "text/plain": [
       "2.5705818366147395"
      ]
     },
     "execution_count": 123,
     "metadata": {},
     "output_type": "execute_result"
    }
   ],
   "source": [
    "alpha = 0.05\n",
    "n = 5\n",
    "talpha = t.ppf(1-alpha/2, n)\n",
    "talpha"
   ]
  },
  {
   "cell_type": "markdown",
   "metadata": {},
   "source": [
    "Again for large $n$, this is essentially equivalent to the Wald test:"
   ]
  },
  {
   "cell_type": "code",
   "execution_count": 126,
   "metadata": {
    "collapsed": false
   },
   "outputs": [
    {
     "data": {
      "text/plain": [
       "0.0023750962863533509"
      ]
     },
     "execution_count": 126,
     "metadata": {},
     "output_type": "execute_result"
    }
   ],
   "source": [
    "n = 1000\n",
    "talpha = t.ppf(1-alpha/2,n)\n",
    "zalpha = norm.ppf(1-alpha/2)\n",
    "talpha-zalpha"
   ]
  },
  {
   "cell_type": "markdown",
   "metadata": {},
   "source": [
    "## 3. Pearson's $\\chi^2$-test\n",
    "\n",
    "This test can be used for multinomial data. Recall that $X=(X_1,...,X_k)$ has a multinomial $(n,p_1,\\dots, p_k)$ distribution if \n",
    "\n",
    "$$\\mathrm{P}(X_1 = n_1,\\dots, X_k = n_k)=\\binom{n}{n_1,n_2,\\dots, n_k}p_1^{n_1}p_2^{n_2}\\dots p_k^{n_k}. $$\n",
    "\n",
    "Note that $\\binom{n}{n_1,n_2,\\dots, n_k} = 0$ when $n_1+\\dots+n_k \\neq n$. While this looks like one sample point, it is usually the result of $n$ independent, \"multinoulli\" trials, i.e.\n",
    "\n",
    "$$ X=\\sum_{i=1}^nX^{(i)},\\qquad \\mathrm{P}\\left(X_j^{(i)}=1, X_{l}^{(i)}=0, l \\neq j)\\right).$$\n",
    "\n",
    "It can be shown that the MLE for the parameter vector $p=(p_1,\\dots,p_k)$ is given by\n",
    "\n",
    "$$\\hat p =(\\hat p_1,\\dots,\\hat p_k)=(X_1/n,\\dots, X_k/n) $$.\n",
    "\n",
    "Now consider the test \n",
    "\n",
    "$$H_0: p = p_0\\qquad\\textrm{vs.}\\qquad p \\neq p_0$$\n",
    "\n",
    "for some fixed $p_0=(p_{01},\\dots, p_{0k})$."
   ]
  },
  {
   "cell_type": "markdown",
   "metadata": {},
   "source": [
    "### 3.1. The test statistics\n",
    "\n",
    "What should we choose for a test statistics? Pearson's $\\chi^2$ statistics is defined as\n",
    "\n",
    "$$T_n = \\sum_{j=1}^k\\frac{(X_j-np_{0j})^2}{np_{0j}} $$.\n",
    "\n",
    "It can be shown that under $H_0$, $T_n$ converges to $\\chi_{k-1}^2$. We do not prove this result but note that each individual $X_j\\sim\\mathrm{Binom}(n,p_{0j})$ with expectation $np_{0j}$ and variance $np_{0j}(1-p_{0j})$. This means that for large enough $n$, $\\frac{(X_j-np_{0j})^2}{np_{0j}}$ is approximately $(1-p_{0j})^{-1}\\left[\\mathcal{N}(0,1)\\right]^2$. The second ingredient is that we must have $X_1+\\dots+X_k=n$ and therefore the \"degree of freedom is only $k-1$. The rest are technicalities. Recall that the $\\chi_{k}^2$ distribution has pdf\n",
    "\n",
    "$$f(x)=\\frac{x^{\\frac{k}{2}-1}e^{-x/2}}{2^{k/2}\\Gamma(k/2)} $$\n",
    "\n",
    "Plotting it:"
   ]
  },
  {
   "cell_type": "code",
   "execution_count": 130,
   "metadata": {
    "collapsed": false
   },
   "outputs": [
    {
     "data": {
      "image/png": "[encoded data removed]",
      "text/plain": [
       "<matplotlib.figure.Figure at 0x7effe23b67f0>"
      ]
     },
     "metadata": {},
     "output_type": "display_data"
    }
   ],
   "source": [
    "from scipy.stats import chi2\n",
    "k1 = 3\n",
    "k2 = 10\n",
    "x = np.linspace(0, 20, 100)\n",
    "plt.figure(figsize = (12,10))\n",
    "plt.plot(x,chi2.pdf(x, k1), label = r\"$\\chi_k^2$ with $k=${}\".format(k1))\n",
    "plt.plot(x,chi2.pdf(x, k2), label = r\"$\\chi_k^2$ with $k=${}\".format(k2))\n",
    "plt.legend(loc = 'best', fontsize = 18)\n",
    "plt.show()"
   ]
  },
  {
   "cell_type": "markdown",
   "metadata": {},
   "source": [
    "Therefore, the $\\chi^2$-test is given by rejecting $H_0$ if and only if $\\chi_{k-1,\\alpha}^2$, which is a size $\\alpha$ test. The $p$-value is given by\n",
    "\n",
    "$$p(t)=\\mathbb{P}(\\chi_{k-1}^2>t)$$"
   ]
  },
  {
   "cell_type": "markdown",
   "metadata": {},
   "source": [
    "### 3.2. An example\n",
    "\n",
    "Gregor Mendel bred peas with round yellow seeds and winkled green seed. There are four types of progeny: round yellow, wrinkled yellow, round green, and wrinkled green. The number of each type is multinomial with probability $p=(p_1,p_2,p_3,p_4)$. His theory of inheritance predicts\n",
    "\n",
    "$$p_0=\\left(\\frac{9}{16},\\frac{3}{16},\\frac{3}{16},\\frac{1}{16}\\right)$$\n",
    "\n",
    "In $n= 556$ trials, he observed $X=(315, 101, 108, 32)$. We will test\n",
    "\n",
    "$$H_0: p=p_0\\qquad\\textrm{vs.}\\qquad H_1: p\\neq p_0 $$"
   ]
  },
  {
   "cell_type": "code",
   "execution_count": 152,
   "metadata": {
    "collapsed": false
   },
   "outputs": [
    {
     "name": "stdout",
     "output_type": "stream",
     "text": [
      "The test statistic: 0.4700239808153477, The critical value: 7.8147279032511765\n",
      "Failed to reject the null hypothesis at size 0.05.\n",
      "The p-value is 0.925425895103616\n"
     ]
    }
   ],
   "source": [
    "n = 556\n",
    "alpha = 0.05\n",
    "p0 = np.array([9/16, 3/16, 3/16, 1/16])\n",
    "X = np.array([315, 101,108,32])\n",
    "EX = n*p0\n",
    "T = np.sum(((X-EX) ** 2)/EX)\n",
    "\n",
    "t = chi2.ppf(1-alpha, 3)\n",
    "\n",
    "print(\"The test statistic: {}, The critical value: {}\".format(T,t))\n",
    "if T > t:\n",
    "    print(\"The null hypothesis is rejected at size {}.\".format(alpha))\n",
    "else:\n",
    "    print(\"Failed to reject the null hypothesis at size {}.\".format(alpha))\n",
    "    \n",
    "pval = 1-chi2.cdf(T,3)\n",
    "print(\"The p-value is {}\".format(pval))"
   ]
  },
  {
   "cell_type": "markdown",
   "metadata": {},
   "source": [
    "Therefore the data does not contradict Mendel's theory."
   ]
  },
  {
   "cell_type": "markdown",
   "metadata": {},
   "source": [
    "### 3.3. $\\chi^2$-test in Python"
   ]
  },
  {
   "cell_type": "markdown",
   "metadata": {},
   "source": [
    "Of course, Python has its own method to do the test in one line of code:"
   ]
  },
  {
   "cell_type": "code",
   "execution_count": 151,
   "metadata": {
    "collapsed": false
   },
   "outputs": [
    {
     "data": {
      "text/plain": [
       "Power_divergenceResult(statistic=0.47002398081534769, pvalue=0.92542589510361595)"
      ]
     },
     "execution_count": 151,
     "metadata": {},
     "output_type": "execute_result"
    }
   ],
   "source": [
    "from scipy.stats import chisquare\n",
    "\n",
    "chisquare(X, EX)"
   ]
  },
  {
   "cell_type": "markdown",
   "metadata": {},
   "source": [
    "## 4. Permutation test"
   ]
  },
  {
   "cell_type": "markdown",
   "metadata": {},
   "source": [
    "The permutation test is a nonparametric method for testing whether two distributions are the same. It is an exact test in the sense that it does not rely on large samples. Suppose $X_1,\\dots,X_m\\sim F_X$ and $Y_1,\\dots,Y_n\\sim F_Y$ are two independent samples and consider\n",
    "\n",
    "$$H_0: F_X = F_Y,\\qquad\\textrm{vs.}\\qquad H_1: F_X\\neq F_Y.$$\n",
    "\n",
    "Let $T(x_1,\\dots,x_m,y_1,\\dots y_n)$ be some test statistic, e.g.,\n",
    "\n",
    "$$T(X_1,\\dots,X_m, Y_1,\\dots, Y_n)=|\\bar{X}_m-\\bar{Y}_n|$$\n",
    "\n",
    "Let $N=m+n$ and consider the value of $T$ under all $N!$ permutations of the data:\n",
    "\n",
    "$$T_1,\\dots,T_{N!}$$\n",
    "\n",
    "The idea of the permutation test is that under $H_0$, each of these values should be equally likely. Let us define the permutation distribution as the one that puts mass $1/N!$ on each $T_j$. Then at size $\\alpha$, we reject $H_0$ if $p(t)<\\alpha$, where\n",
    "\n",
    "$$p(t)=\\frac{1}{N!}\\sum_{j=1}^{N!}\\mathbb{1}_{\\{T_j> t\\}}.$$\n",
    "\n",
    "In other words, if the observed value of $T$ is $t$, then we reject $H_0$ if the fraction of the permutations in which $T_j$ would be larger than $t$ is less than $\\alpha$. Thus $p(t)$ naturally becomes the $p$-value of the test$."
   ]
  },
  {
   "cell_type": "markdown",
   "metadata": {},
   "source": [
    "### 4.1. An example\n",
    "\n",
    "Suppose the data are $(X_1,X_2,Y_1)=(1,9,3)$ and let $T(X_1,X_2,Y_1)=|\\bar{X}-\\bar{Y}|=|5-3| = 2$."
   ]
  },
  {
   "cell_type": "code",
   "execution_count": 158,
   "metadata": {
    "collapsed": false
   },
   "outputs": [
    {
     "name": "stdout",
     "output_type": "stream",
     "text": [
      "Permutation   T\n",
      "[(1, 9, 3), 2.0]\n",
      "[(1, 3, 9), 7.0]\n",
      "[(9, 1, 3), 2.0]\n",
      "[(9, 3, 1), 5.0]\n",
      "[(3, 1, 9), 7.0]\n",
      "[(3, 9, 1), 5.0]\n"
     ]
    }
   ],
   "source": [
    "import itertools\n",
    "table = []\n",
    "perms = list(itertools.permutations([1, 9, 3]))\n",
    "for perm in perms:\n",
    "    table.append([perm, np.abs((perm[0]+perm[1])/2 - perm[2])])\n",
    "    \n",
    "print(\"Permutation   T\")\n",
    "for tab in table:\n",
    "    print(tab)"
   ]
  },
  {
   "cell_type": "markdown",
   "metadata": {},
   "source": [
    "Thus the p-value is given by"
   ]
  },
  {
   "cell_type": "code",
   "execution_count": 166,
   "metadata": {
    "collapsed": false
   },
   "outputs": [
    {
     "name": "stdout",
     "output_type": "stream",
     "text": [
      "The p-value of this test: 0.6666666666666666\n",
      "Failed to reject the null hypothesis at size 0.05.\n"
     ]
    }
   ],
   "source": [
    "def pval(t):\n",
    "    p = 0\n",
    "    for tabl in table:\n",
    "        if tabl[1] > t:\n",
    "            p += 1\n",
    "            \n",
    "    p /= len(table)\n",
    "    return p\n",
    "\n",
    "print(\"The p-value of this test: {}\".format(pval(2)))\n",
    "alpha = 0.05\n",
    "\n",
    "if pval(2) < alpha:\n",
    "    print(\"The null hypothesis is rejected at size {}.\".format(alpha))\n",
    "else:\n",
    "    print(\"Failed to reject the null hypothesis at size {}.\".format(alpha))"
   ]
  },
  {
   "cell_type": "markdown",
   "metadata": {},
   "source": [
    "### 4.2 Permutation test for large samples\n",
    "\n",
    "For large samples, $N!$ might be a huge number and it is impractival to evaluate all permutations. Instead, we can approximate the $p$-value by sampling randomly from all sets of permutations:"
   ]
  },
  {
   "cell_type": "code",
   "execution_count": 173,
   "metadata": {
    "collapsed": false
   },
   "outputs": [
    {
     "name": "stdout",
     "output_type": "stream",
     "text": [
      "Permutation   T\n",
      "[[3, 1, 9], 7.0]\n",
      "[[1, 3, 9], 7.0]\n",
      "[[1, 9, 3], 2.0]\n"
     ]
    }
   ],
   "source": [
    "B = 3\n",
    "\n",
    "table = []\n",
    "for i in range(B):\n",
    "    rand_perm = list(np.random.permutation([1,9,3]))\n",
    "    table.append([rand_perm,  np.abs((rand_perm[0]+rand_perm[1])/2 - rand_perm[2])])\n",
    "    \n",
    "print(\"Permutation   T\")\n",
    "for tab in table:\n",
    "    print(tab)"
   ]
  },
  {
   "cell_type": "code",
   "execution_count": 174,
   "metadata": {
    "collapsed": false
   },
   "outputs": [
    {
     "name": "stdout",
     "output_type": "stream",
     "text": [
      "The p-value of this test: 0.6666666666666666\n",
      "Failed to reject the null hypothesis at size 0.05.\n"
     ]
    }
   ],
   "source": [
    "print(\"The p-value of this test: {}\".format(pval(2)))\n",
    "alpha = 0.05\n",
    "\n",
    "if pval(2) < alpha:\n",
    "    print(\"The null hypothesis is rejected at size {}.\".format(alpha))\n",
    "else:\n",
    "    print(\"Failed to reject the null hypothesis at size {}.\".format(alpha))"
   ]
  },
  {
   "cell_type": "markdown",
   "metadata": {},
   "source": [
    "Of course, on this toy example, we could just evaluate all permutations. However on large datasets, this can be a very useful approximation."
   ]
  },
  {
   "cell_type": "markdown",
   "metadata": {},
   "source": [
    "## 5. Goodness of fit tests\n",
    "\n",
    "It is a natural task in statistics to make decisions on whether a certain data-stream is generated by a particular distribution or family of distributions.\n",
    "\n",
    "### 5.1. $\\chi^2$ GOFT for a discrete fixed distribution\n",
    "\n",
    "In this setting, we have a sample $X_1,\\dots, X_n$ with $\\mathcal{P}(X_i=j)=p_j$. If this reminds you of the $\\chi^2$-test above, that is no coincidence. In fact, if the $X_i$-s can take finitely many values, then we can introduce $\\tilde{X}_i$ as the vector with exactly one unit entry at the $j$th position where $X_i = j$. Then $X = \\sum_{i=1}^n\\tilde{X}_i$ has a multinomial distribution and the $\\chi^2$-test applies.\n",
    "\n",
    "You can think about the above procedure as dividing the sample into buckets and then running $\\chi$-square test on the buckets. If the $X_i$-s can take infinitely many values, then we introduce a bucket $\\{x_i>K\\}$ and in this case the corresponding probability is $p_{K+1}=\\mathrm{P}(X_i>K)$."
   ]
  },
  {
   "cell_type": "markdown",
   "metadata": {},
   "source": [
    "### 5.2. $\\chi^2$ GOFT for a continuous fixed distribution\n",
    "\n",
    "We can extend our bucket scheme to this case by taking the pdf $f(x)$ and associating the buckets with intervals (or boxes in higher dimensions) $I_1,\\dots, I_n$, where the union of these intervals cover all values the $X_i$-s can take. Then assign probabilities to the resulting buckets by\n",
    "\n",
    "$$p_j = \\int_{I_j}f(x)dx$$\n",
    "\n",
    "Then we can do a $\\chi^2$-test again."
   ]
  },
  {
   "cell_type": "markdown",
   "metadata": {},
   "source": [
    "### 5.3. Kolmogorov-Smirnov GOFT\n",
    "\n",
    "There is an alternative based on comparing the empirical distribution function to the hypothesized CDF. We have tangetially seen that if $\\hat{F}_n$ is the ECDF, then the Kolmogorov theorem implies\n",
    "\n",
    "$$\\mathrm{P}\\left(\\sqrt{n}\\sup_{x\\in\\mathbb{R}}|\\hat{F}_n(x)-F(x)|<z\\right)\\to\\mathbb{1}_{\\{z>0\\}}\\left[1-2\\sum_{i=1}^\\infty(-1)^{i-1}e^{-2i^2z^2}\\right],$$\n",
    "\n",
    "where the right hand side is the CDF of the Kolmogorov distribution $K$."
   ]
  },
  {
   "cell_type": "markdown",
   "metadata": {},
   "source": [
    "Define a test with null hypothesis $H_0$ given by $F(x) = F_0(x)$ and introduce the Kolmogorov-Smirnov statistics $D_n(x) = \\sup_{x\\in\\mathbb{R}}|\\hat{F}_n(x)-F_0(x)|$. The Kolmogorov-Smirnov test is given by rejecting $H_0$ if $\\sqrt{n}D_n > K_\\alpha$, where $K_\\alpha$ is the $\\alpha$ quantile of the Kolmogorov distribution."
   ]
  },
  {
   "cell_type": "markdown",
   "metadata": {},
   "source": [
    "### 5.4. Parametric family GOFT\n",
    "\n",
    "We often use parametric models (for example, we did that a lot in this class). In this case we consider a family of distributions $\\mathcal{F}=\\{f(x,\\theta): \\theta\\in\\Theta\\}$ parametrized by an $s$-dimensional parameter vector $\\theta=(\\theta_1,\\dots, \\theta_s)$. Again, we can divide the line into $k$ disjoint intervals (\"buckets\") $I_1,\\dots,I_k$ and assign the probabilites\n",
    "\n",
    "$$p_j(\\theta)=\\int_{I_j}f(x|\\theta)dx.$$\n",
    "\n",
    "Assume that in the data $N_j$ datapoints fall into $I_j$. The likelihood for $\\theta based on these counts is the multinomial likelihood\n",
    "\n",
    "$$Q(\\theta)=\\prod_{j=1}^kp_i(\\theta)^{N_j}$$\n",
    "\n",
    "Let $\\tilde\\theta$ be the maximizer of $Q(\\theta)$. \n",
    "\n",
    "WARNING: This is NOT the MLE of $\\theta$ in the original model! \n",
    "\n",
    "Then form the test statistic\n",
    "\n",
    "$$ Q = \\sum_{j=1}^k\\frac{(N_j-np_j(\\tilde\\theta))^2}{np_j(\\tilde\\theta)}$$.\n",
    "\n",
    "It can be shown that under null hypothesis (namely, that the distribution comes from this parametric family), $Q$ converges in distribution to $\\chi^2_{k-1-s}$. Thus, we do a $\\chi^2$-test with $k-1-s$ degrees of freedom. The $p$-value is given by\n",
    "\n",
    "$$\\mathrm{P}(q)=\\mathrm{P}(\\chi_{k-1-s}^2>q).$$"
   ]
  },
  {
   "cell_type": "markdown",
   "metadata": {},
   "source": [
    "**EXERCISE:** Play around with these tests and find some examples to test. From the stats package documentation (google it), familiarize yourself with the commands that do these tests for you automatically. This is going to come useful in your project."
   ]
  }
 ],
 "metadata": {
  "anaconda-cloud": {},
  "kernelspec": {
   "display_name": "Python [Root]",
   "language": "python",
   "name": "Python [Root]"
  },
  "language_info": {
   "codemirror_mode": {
    "name": "ipython",
    "version": 3
   },
   "file_extension": ".py",
   "mimetype": "text/x-python",
   "name": "python",
   "nbconvert_exporter": "python",
   "pygments_lexer": "ipython3",
   "version": "3.5.2"
  }
 },
 "nbformat": 4,
 "nbformat_minor": 0
}
